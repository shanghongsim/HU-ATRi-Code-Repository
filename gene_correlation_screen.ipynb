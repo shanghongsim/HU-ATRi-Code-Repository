{
 "cells": [
  {
   "cell_type": "code",
   "execution_count": null,
   "metadata": {},
   "outputs": [],
   "source": [
    "import numpy as np # scientific computing\n",
    "import pandas as pd # data loading and processing\n",
    "import os # os operations\n",
    "import matplotlib.pyplot as plt # for generating figures\n",
    "import math\n",
    "import matplotlib.dates as mdates\n",
    "import seaborn as sns # for generating visualizations, better support with pandas than matplotlib\n",
    "from scipy import stats\n",
    "from sklearn.impute import SimpleImputer\n",
    "from analysis import *"
   ]
  },
  {
   "cell_type": "code",
   "execution_count": null,
   "metadata": {},
   "outputs": [],
   "source": [
    "def database_screen(data, hccdb, gene_set, databases, x=\"RRM2B\", y=\"AOS\"):\n",
    "    # master script to screen (GSTA4, GSTP1, GSTA1) cancers for RRM2B - AOS\n",
    "    \n",
    "    # load gene names\n",
    "    x_set, y_set, targets = get_xy_set(gene_set, xvar=x,yvar=y)\n",
    "\n",
    "    # define subplot grid\n",
    "    fig, axs = get_database_fig(x + \" vs \" + y, x, y)\n",
    "    rtemp = [], ptemp = []\n",
    "\n",
    "    # main loop\n",
    "    for db, ax in zip(databases, axs.ravel()):\n",
    "        print(db)\n",
    "        df = get_data(data, hccdb, db)\n",
    "        data_new = process_data(df, targets, x_var_names = x_set, y_var_names = y_set, pheno_filtered=None, outlier_corrected = True)\n",
    "        r, p = analyse(data_new, fig, db, ax, title + ' screen.png', x_label = x, y_label = y)\n",
    "        rtemp.append(r)\n",
    "        ptemp.append(p)\n",
    "\n",
    "    return rtemp, ptemp\n",
    "\n"
   ]
  },
  {
   "cell_type": "code",
   "execution_count": null,
   "metadata": {},
   "outputs": [],
   "source": [
    "def main():\n",
    "    data, hccdb = get_raw_data()\n",
    "    gene_set = get_gene_sets()\n",
    "    r_all =[]\n",
    "    p_all = []\n",
    "    analyses = [\"RRM2B - NRF2\",\n",
    "                \"RRM2B - AOS\",\n",
    "                \"RRM2B - G6PD\",\n",
    "                \"RRM2B - p53\",\n",
    "                \"p53 - G6PD\",\n",
    "                \"p53 - NRF2\",\n",
    "                \"p53 - AOS\",\n",
    "                ]\n",
    "    # load database names\n",
    "    databases = ['HCCDB-1', 'HCCDB-3', 'HCCDB-4',  'HCCDB-8', 'HCCDB-9', 'HCCDB-11', \n",
    "        'HCCDB-12', 'HCCDB-13', 'HCCDB-14', 'HCCDB-16', 'HCCDB-17', 'HCCDB-18',\n",
    "        'ACC', 'BLCA', 'DBLC', 'UCEC', 'SKCM', 'HNSC', 'PRAD', 'KIRP',\n",
    "        'PAAD', 'SARC', 'CESC', 'COAD', 'LUSC', 'READ', 'KIRC', 'LIHC',\n",
    "        'BRCA', 'OV', 'UCS', 'GBM', 'KICH', 'THCA', 'LGG', 'LUAD', 'MESO',\n",
    "        'PCPG', 'TGCT', 'UVM', 'THYM', 'CHOL', 'ESCA', 'STAD', 'LAML','PANCAN'] # , , 'PANCAN'\n",
    "\n",
    "    for a in analyses:\n",
    "        x, y = a.split(\" - \")\n",
    "        r, p = database_screen(data, hccdb, gene_set, x=x, y=y)\n",
    "        r_all.append(r)\n",
    "        p_all.append(p)\n",
    "\n",
    "    df_r = pd.DataFrame(r_all, columns = databases, index= analyses)\n",
    "    df_p = pd.DataFrame(p_all, columns = databases, index= analyses)\n",
    "    df_r.to_csv(\"r values cancer screen (GSTA4, GSTP1, GSTA1).csv\")\n",
    "    df_p.to_csv(\"p values cancer screen (GSTA4, GSTP1, GSTA1).csv\")"
   ]
  }
 ],
 "metadata": {
  "language_info": {
   "name": "python"
  },
  "orig_nbformat": 4
 },
 "nbformat": 4,
 "nbformat_minor": 2
}
