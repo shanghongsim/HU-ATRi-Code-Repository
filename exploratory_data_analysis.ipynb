{
 "cells": [
  {
   "cell_type": "code",
   "execution_count": null,
   "metadata": {},
   "outputs": [],
   "source": [
    "import missingno as msno  # # pip install missingno\n",
    "\n",
    "df = hccdb.T\n",
    "df = df[df[\"ptype\"] == \"HCCDB-1\"]\n",
    "df = df.T\n",
    "df.drop([\"ptype\"], inplace = True)\n",
    "\n",
    "# Plot correlation heatmap of missingness\n",
    "msno.matrix(df)"
   ]
  }
 ],
 "metadata": {
  "language_info": {
   "name": "python"
  },
  "orig_nbformat": 4
 },
 "nbformat": 4,
 "nbformat_minor": 2
}
