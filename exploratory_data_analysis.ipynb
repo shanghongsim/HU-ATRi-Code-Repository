{
 "cells": [
  {
   "cell_type": "code",
   "execution_count": 1,
   "metadata": {},
   "outputs": [],
   "source": [
    "import numpy as np # scientific computing\n",
    "import pandas as pd # data loading and processing\n",
    "import os # os operations\n",
    "import matplotlib.pyplot as plt # for generating figures\n",
    "import math\n",
    "import matplotlib.dates as mdates\n",
    "import seaborn as sns # for generating visualizations, better support with pandas than matplotlib\n",
    "from scipy import stats\n",
    "from sklearn.impute import SimpleImputer\n",
    "\n",
    "from analysis import *"
   ]
  },
  {
   "cell_type": "code",
   "execution_count": 8,
   "metadata": {},
   "outputs": [],
   "source": [
    "df = pd.read_csv('hif1 genes.csv')"
   ]
  },
  {
   "cell_type": "code",
   "execution_count": 14,
   "metadata": {},
   "outputs": [
    {
     "data": {
      "text/plain": [
       "['LDHA',\n",
       " 'VEGFA',\n",
       " 'BNIP3L',\n",
       " 'PGK1',\n",
       " 'ERO1L',\n",
       " 'EGLN1',\n",
       " 'RORA',\n",
       " 'P4HA1',\n",
       " 'MXI1',\n",
       " 'PLOD2',\n",
       " 'PFKP',\n",
       " 'BNIP3',\n",
       " 'LOX',\n",
       " 'SLC2A1',\n",
       " 'STC2',\n",
       " 'STC1',\n",
       " 'MIF',\n",
       " 'DDIT4',\n",
       " 'PFKFB3',\n",
       " 'ENO1',\n",
       " 'HK1',\n",
       " 'ADM',\n",
       " 'BTG1',\n",
       " 'CXCR4',\n",
       " 'SERPINE1',\n",
       " 'PLOD1',\n",
       " 'EGLN3',\n",
       " 'PDK3',\n",
       " 'IGFBP5',\n",
       " 'HK2',\n",
       " 'P4HA2',\n",
       " 'MAFF',\n",
       " 'PKM2',\n",
       " 'GAPDH',\n",
       " 'FOXO3',\n",
       " 'GBE1',\n",
       " 'PGAM1',\n",
       " 'TRPC1',\n",
       " 'PDGFB',\n",
       " 'NRN1',\n",
       " 'TMEM45A',\n",
       " 'CA9',\n",
       " 'EDN1',\n",
       " 'PIM1',\n",
       " 'VEGFB',\n",
       " 'TNFAIP3',\n",
       " 'CDKN1B',\n",
       " 'EGFR',\n",
       " 'ID2',\n",
       " 'DUSP1',\n",
       " 'ATF4',\n",
       " 'IGFBP3',\n",
       " 'DLL4',\n",
       " 'BBC3',\n",
       " 'AHNAK',\n",
       " 'IGF1R',\n",
       " 'BMP2',\n",
       " 'TBK1',\n",
       " 'JMY',\n",
       " 'TEF',\n",
       " 'IRF1']"
      ]
     },
     "execution_count": 14,
     "metadata": {},
     "output_type": "execute_result"
    }
   ],
   "source": [
    "t = df.loc[df['Known Target'] == 'YES', 'Gene']\n",
    "t.to_list()"
   ]
  },
  {
   "cell_type": "code",
   "execution_count": 15,
   "metadata": {},
   "outputs": [],
   "source": [
    "df1 = pd.read_csv('TFLink_targets_of_Q16665.csv')"
   ]
  },
  {
   "cell_type": "code",
   "execution_count": 20,
   "metadata": {},
   "outputs": [],
   "source": [
    "df1[['Name.Target']].to_csv('hif1_targets.csv', index=False)"
   ]
  },
  {
   "cell_type": "code",
   "execution_count": null,
   "metadata": {},
   "outputs": [],
   "source": [
    "import missingno as msno  # # pip install missingno\n",
    "\n",
    "df = hccdb.T\n",
    "df = df[df[\"ptype\"] == \"HCCDB-1\"]\n",
    "df = df.T\n",
    "df.drop([\"ptype\"], inplace = True)\n",
    "\n",
    "# Plot correlation heatmap of missingness\n",
    "msno.matrix(df)"
   ]
  },
  {
   "cell_type": "code",
   "execution_count": null,
   "metadata": {},
   "outputs": [],
   "source": [
    "# visualise missingness in pancan data\n",
    "data, hccdb = get_raw_data()\n",
    "\n",
    "df = data[data[\"ptype\"] == 'LUSC']\n",
    "df = df.T\n",
    "df.drop([\"ptype\",\"sample_type_id\", \"sample_type\", \"_primary_disease\"], inplace = True)\t\n",
    "msno.matrix(df)\n",
    "\n",
    "df = hccdb.T\n",
    "df = df[df[\"ptype\"] == \"HCCDB-1\"]\n",
    "df = df.T\n",
    "df.drop([\"ptype\"], inplace = True)\n",
    "msno.matrix(df)\n",
    "\n",
    "df = hccdb.T\n",
    "df = df[df[\"ptype\"] == \"HCCDB-3\"]\n",
    "df = df.T\n",
    "df.drop([\"ptype\"], inplace = True)\n",
    "msno.matrix(df)\n",
    "\n",
    "df = hccdb.T\n",
    "df = df[df[\"ptype\"] == \"HCCDB-4\"]\n",
    "df = df.T\n",
    "df.drop([\"ptype\"], inplace = True)\n",
    "msno.matrix(df)\n",
    "\n",
    "df = hccdb.T\n",
    "df = df[df[\"ptype\"] == \"HCCDB-18\"]\n",
    "df = df.T\n",
    "df.drop([\"ptype\"], inplace = True)\n",
    "msno.matrix(df)"
   ]
  }
 ],
 "metadata": {
  "kernelspec": {
   "display_name": "local-venv",
   "language": "python",
   "name": "local-venv"
  },
  "language_info": {
   "codemirror_mode": {
    "name": "ipython",
    "version": 3
   },
   "file_extension": ".py",
   "mimetype": "text/x-python",
   "name": "python",
   "nbconvert_exporter": "python",
   "pygments_lexer": "ipython3",
   "version": "3.8.5"
  },
  "orig_nbformat": 4
 },
 "nbformat": 4,
 "nbformat_minor": 2
}
