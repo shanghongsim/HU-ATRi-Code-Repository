{
 "cells": [
  {
   "attachments": {},
   "cell_type": "markdown",
   "metadata": {},
   "source": [
    "# Compare 125 oxstress gene set aganst 42 antioxidant gene set\n",
    "\n",
    "125 oxtstress gene set: https://www.frontiersin.org/articles/10.3389/fgene.2021.721252/full\n",
    "\n",
    "42 AOS: https://pubmed.ncbi.nlm.nih.gov/32649885/\n",
    "\n",
    "This script calculates the overlap between these two sets."
   ]
  },
  {
   "cell_type": "code",
   "execution_count": 29,
   "metadata": {},
   "outputs": [],
   "source": [
    "%reload_ext autoreload\n",
    "%autoreload 2\n",
    "\n",
    "import numpy as np # scientific computing\n",
    "import pandas as pd # data loading and processing\n",
    "import os # os operations\n",
    "import matplotlib.pyplot as plt # for generating figures\n",
    "import math\n",
    "import matplotlib.dates as mdates\n",
    "import seaborn as sns # for generating visualizations, better support with pandas than matplotlib\n",
    "from scipy import stats\n",
    "from sklearn.impute import SimpleImputer\n",
    "from analysis import *"
   ]
  },
  {
   "cell_type": "code",
   "execution_count": 51,
   "metadata": {},
   "outputs": [
    {
     "name": "stderr",
     "output_type": "stream",
     "text": [
      "/var/folders/mp/lfr86vf57gzgqs4tr6qd5bs80000gn/T/ipykernel_88113/138784557.py:1: ParserWarning: Falling back to the 'python' engine because the separator encoded in utf-8 is > 1 char long, and the 'c' engine does not support such separators; you can avoid this warning by specifying engine='python'.\n",
      "  expanded_ls = pd.read_csv('/Users/shanghongsim/Documents/GitHub/HU-ATRi-Code-Repository/go_ox_genes.txt', sep = \"、\", header=None).loc[0].to_list()\n"
     ]
    }
   ],
   "source": [
    "expanded_ls = pd.read_csv('/Users/shanghongsim/Documents/GitHub/HU-ATRi-Code-Repository/go_ox_genes.txt', sep = \"、\", header=None).loc[0].to_list()\n",
    "print(expanded_ls)\n",
    "print(len(expanded_ls))\n",
    "\n",
    "gene_set = get_gene_signature_file()\n",
    "# gene_set[\"AOS\"]\n",
    "sub_ls ,_,_ = get_xy_set(gene_set, xvar=\"AOS\")\n"
   ]
  },
  {
   "cell_type": "code",
   "execution_count": 57,
   "metadata": {},
   "outputs": [
    {
     "name": "stdout",
     "output_type": "stream",
     "text": [
      "['GSTM5', 'EPX', 'HBB', 'HBZ', 'GGCT', 'PRDX2', 'SESN2', 'MGST3', 'GCLM', 'PRDX3', 'HBE1', 'HBA1', 'PRDX5', 'TXN', 'HPGDS', 'DPEP1', 'HBG1', 'FABP1', 'UBIAD1', 'PTGES', 'TXNRD2', 'APOA4', 'PRDX6', 'GGTLC1', 'PARK7', 'G6PD', 'IPCEF1', 'GPX5', 'SOD1', 'TXNDC2', 'DUOX1', 'GSR', 'GSTO2', 'TXNRD1', 'PXDNL', 'ETHE1', 'PTGS2', 'MGST1', 'OPLAH', 'GLO1', 'HBA2', 'KDM3B', 'GPX6', 'GPX3', 'PRXL2C', 'ALDH5A1', 'HAGH', 'ALOX5AP', 'GSTA2', 'NFE2L2', 'TXNDC17', 'SLC7A11', 'GSTT1', 'GGTLC3', 'GGT2', 'SOD3', 'HBM', 'CAT', 'GSTZ1', 'CHAC1', 'GSTA4', 'LTC4S', 'NFE2L1', 'GSTA5', 'PRXL2B', 'HBD', 'HP', 'CLIC2', 'GPX4', 'GGT6', 'CNDP2', 'MT3', 'SESN1', 'SOD2', 'CHAC2', 'PRXL2A', 'GSS', 'GPX8', 'GSTM3', 'GPX2', 'PRDX4', 'HBQ1', 'LOXHD1', 'MGST2', 'GGT1', 'GGT3P', 'LPO', 'GSTM4', 'GSTA1', 'MPO', 'GSTP1', 'IYD', 'S100A9', 'GSTO1', 'CYGB', 'SELENOT', 'PXDN', 'GLRX2', 'PRDX1', 'GGT7', 'CTNS', 'GSTT2B', 'GSTA3', 'GPX7', 'GCLC', 'IDH1', 'NQO1', 'DUOX2', 'GSTM2', 'GGT5', 'GSTK1', 'MMACHC', 'GGTLC2', 'APOM', 'HBG2', 'SELENOW', 'TPO', 'GSTM1', 'TXNRD3', 'GSTT2', 'NXN', 'NAT8', 'SRXN1', 'APOE', 'ALB', 'TP53INP1', 'SELENOS', 'GPX1', 'PTGS1']\n",
      "129\n"
     ]
    }
   ],
   "source": [
    "expanded_ls = list(set(expanded_ls))\n",
    "print(expanded_ls)\n",
    "print(len(expanded_ls))\n",
    "\n",
    "overlap = set(expanded_ls).intersection(set(sub_ls))\n",
    "print(\"length of big list: \", len(expanded_ls))\n",
    "print(\"length of small list: \", len(sub_ls))\n",
    "print(\"length of overlap: \", len(overlap))\n",
    "print(overlap)"
   ]
  },
  {
   "cell_type": "code",
   "execution_count": 65,
   "metadata": {},
   "outputs": [],
   "source": [
    "with open('overlap.txt', 'w') as f:\n",
    "    f.write(','.join(expanded_ls))\n",
    "    f.write('\\n')\n",
    "    f.write(\"length of big list: \" + str(len(expanded_ls)))\n",
    "    f.write('\\n')\n",
    "    f.write(','.join(sub_ls))\n",
    "    f.write('\\n')\n",
    "    f.write(\"length of small list: \" + str(len(sub_ls)))\n",
    "    f.write('\\n')\n",
    "    f.write(','.join(overlap))\n",
    "    f.write('\\n')\n",
    "    f.write(\"length of overlap: \" + str(len(overlap)))\n",
    "    \n"
   ]
  },
  {
   "cell_type": "code",
   "execution_count": null,
   "metadata": {},
   "outputs": [],
   "source": []
  }
 ],
 "metadata": {
  "kernelspec": {
   "display_name": "local-venv",
   "language": "python",
   "name": "local-venv"
  },
  "language_info": {
   "codemirror_mode": {
    "name": "ipython",
    "version": 3
   },
   "file_extension": ".py",
   "mimetype": "text/x-python",
   "name": "python",
   "nbconvert_exporter": "python",
   "pygments_lexer": "ipython3",
   "version": "3.8.5"
  },
  "orig_nbformat": 4
 },
 "nbformat": 4,
 "nbformat_minor": 2
}
