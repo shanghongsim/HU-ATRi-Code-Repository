{
  "cells": [
    {
      "attachments": {},
      "cell_type": "markdown",
      "metadata": {},
      "source": [
        "# Single gene screen\n",
        "Code to find the correlation of expresssion of every gene in a gene set eg 125 genes in oxidative stress signature to a target gene of interest"
      ]
    },
    {
      "cell_type": "code",
      "execution_count": 1,
      "metadata": {},
      "outputs": [],
      "source": [
        "%reload_ext autoreload\n",
        "%autoreload 2\n",
        "\n",
        "import numpy as np # scientific computing\n",
        "import pandas as pd # data loading and processing\n",
        "import os # os operations\n",
        "import matplotlib.pyplot as plt # for generating figures\n",
        "import math\n",
        "import seaborn as sns # for generating visualizations, better support with pandas than matplotlib\n",
        "from scipy import stats\n",
        "from sklearn.impute import SimpleImputer\n",
        "from analysis import *"
      ]
    },
    {
      "cell_type": "code",
      "execution_count": 2,
      "metadata": {},
      "outputs": [],
      "source": [
        "pd.options.mode.chained_assignment = None  # default='warn'\n",
        "\n",
        "def single_gene_screen(data, hccdb, gene_set, databases, x=\"RRM2B\", y=\"AOS\", plotter = False):\n",
        "    # master script to screen (GSTA4, GSTP1, GSTA1) cancers for RRM2B - AOS\n",
        "    # load gene names\n",
        "    x_set, y_set, targets = get_xy_set(gene_set, xvar=x,yvar=y)\n",
        "\n",
        "    # initialise empty lists\n",
        "    r_all =[]\n",
        "    p_all = []\n",
        "\n",
        "    # main loop\n",
        "    for db in databases:\n",
        "        print(db)\n",
        "        # load data\n",
        "        df = extract_rows_by_type(data, hccdb, db)\n",
        "\n",
        "        # define subplot grid\n",
        "        title = 'Single gene comparison ' + str(db) + \" (n = \" + str(df.shape[1]) + \")\"\n",
        "        fig, axs = generate_subplots(title, x_set, y_set)\n",
        "\n",
        "        # initialise empty lists\n",
        "        rtemp = []\n",
        "        ptemp = []\n",
        "\n",
        "        for g, ax in zip(y_set, axs.ravel()):\n",
        "            try:\n",
        "                print(g)\n",
        "                data_new = process_data(df, targets, x_var_names = x_set, y_var_names = [g], pheno_filtered=None, outlier_corrected = False)\n",
        "                r, p = analyse(data_new, fig, \"RRM2B vs \" + g, ax, str(db) + \" \" + y + ' single gene screen.png', x_label = x, y_label = g, plotter = False)\n",
        "                rtemp.append(r)\n",
        "                ptemp.append(p)\n",
        "\n",
        "            except KeyError as e:\n",
        "                print(\"error\", e)\n",
        "                continue\n",
        "        \n",
        "        r_all.append(rtemp)\n",
        "        p_all.append(ptemp)\n",
        "\n",
        "    return r_all, p_all, y_set\n",
        "\n",
        "def main(gene_set, data, hccdb, databases):\n",
        "    print(\"init parameters successful\")\n",
        "\n",
        "    # run analysis\n",
        "    print(\"running analysis\")\n",
        "    r_all, p_all, genes = single_gene_screen(data, hccdb, gene_set, databases, x=\"RRM2B\", y=\"Oxidative stress\")\n",
        "\n",
        "    # # save results\n",
        "    # print(\"saving results\")\n",
        "    # df_r = pd.DataFrame(r_all, columns = genes, index = databases)\n",
        "    # df_p = pd.DataFrame(p_all, columns = genes, index = databases)\n",
        "    # df_r.to_csv(\"r values 125 GO screen.csv\")\n",
        "    # df_p.to_csv(\"p values 125 GO screen.csv\")\n",
        "\n",
        "    return r_all, p_all, genes\n",
        "    "
      ]
    },
    {
      "cell_type": "code",
      "execution_count": 3,
      "metadata": {},
      "outputs": [
        {
          "name": "stderr",
          "output_type": "stream",
          "text": [
            "/Users/shanghongsim/Documents/GitHub/HU-ATRi-Code-Repository/analysis.py:19: DtypeWarning: Columns (0) have mixed types. Specify dtype option on import or set low_memory=False.\n",
            "  df = pd.read_csv(n, index_col = 1, sep = \"\\t\").drop([\"Entrez_ID\"], axis=1) # gene x patient\n"
          ]
        },
        {
          "name": "stdout",
          "output_type": "stream",
          "text": [
            "get data successful\n"
          ]
        }
      ],
      "source": [
        "# get gene sets and gene expression data\n",
        "gene_set = get_gene_signature_file()\n",
        "data, hccdb = get_raw_data()\n",
        "print(\"get data successful\")"
      ]
    },
    {
      "cell_type": "code",
      "execution_count": null,
      "metadata": {},
      "outputs": [],
      "source": [
        "# input a custom list of databases via a text file\n",
        "databases = get_db_for_single_gene_analysis(\"./databases_demo.txt\") \n",
        "databases_copy = databases.copy()\n",
        "databases.append(databases_copy)\n",
        "\n",
        "# # or use a pre-defined list of databases\n",
        "# databases = ['PANCAN', 'STAD']"
      ]
    },
    {
      "cell_type": "code",
      "execution_count": null,
      "metadata": {},
      "outputs": [],
      "source": [
        "r_all, p_all, genes = single_gene_screen(data, hccdb, gene_set, databases, x=\"RRM2B\", y=\"Oxidative stress\")\n",
        "print(\"saving results\")\n",
        "df_r = pd.DataFrame(r_all, columns = genes, index = databases)\n",
        "df_p = pd.DataFrame(p_all, columns = genes, index = databases)\n",
        "df_r.to_csv(\"r values RRM2B - 125 GO screen pub set.csv\")\n",
        "df_p.to_csv(\"p values RRM2B - 125 GO screen pub set.csv\")"
      ]
    },
    {
      "cell_type": "code",
      "execution_count": null,
      "metadata": {},
      "outputs": [],
      "source": [
        "# databases = get_db_for_single_gene_analysis(\"./gene_set_for_single_gene_analysis.txt\") \n",
        "r_all, p_all, genes = single_gene_screen(data, hccdb, gene_set, databases, x=\"RRM2B\", y=\"AOS\")\n",
        "print(\"saving results\")\n",
        "df_r = pd.DataFrame(r_all, columns = genes, index = databases)\n",
        "df_p = pd.DataFrame(p_all, columns = genes, index = databases)\n",
        "df_r.to_csv(\"r values RRM2B - 41 AOS screen pub set.csv\")\n",
        "df_p.to_csv(\"p values RRM2B - 41 AOS screen pub set.csv\")"
      ]
    },
    {
      "cell_type": "code",
      "execution_count": null,
      "metadata": {},
      "outputs": [],
      "source": [
        "# databases = get_db_for_single_gene_analysis(\"./gene_set_for_single_gene_analysis.txt\") \n",
        "r_all, p_all, genes = single_gene_screen(data, hccdb, gene_set, databases, x=\"p53\", y=\"Oxidative stress\")\n",
        "print(\"saving results\")\n",
        "df_r = pd.DataFrame(r_all, columns = genes, index = databases)\n",
        "df_p = pd.DataFrame(p_all, columns = genes, index = databases)\n",
        "df_r.to_csv(\"r values p53 - 125 GO screen pub set.csv\")\n",
        "df_p.to_csv(\"p values p53 - 125 GO screen pub set.csv\")"
      ]
    },
    {
      "cell_type": "code",
      "execution_count": null,
      "metadata": {},
      "outputs": [],
      "source": [
        "# databases = get_db_for_single_gene_analysis(\"./gene_set_for_single_gene_analysis.txt\") \n",
        "r_all, p_all, genes = single_gene_screen(data, hccdb, gene_set, databases, x=\"p53\", y=\"AOS\")\n",
        "print(\"saving results\")\n",
        "df_r = pd.DataFrame(r_all, columns = genes, index = databases)\n",
        "df_p = pd.DataFrame(p_all, columns = genes, index = databases)\n",
        "df_r.to_csv(\"r values p53 - 41 AOS screen pub set.csv\")\n",
        "df_p.to_csv(\"p values p53 - 41 AOS screen pub set.csv\")"
      ]
    },
    {
      "cell_type": "code",
      "execution_count": null,
      "metadata": {},
      "outputs": [],
      "source": [
        "df = pd.read_csv(\"r values p53 - 125 GO screen pub set.csv\", index_col=0)\n",
        "df.drop(['Aggregate'], inplace= True)\n",
        "df.loc['Average',:]=df.mean()\n",
        "df.to_csv(\"r values p53 - 125 GO screen with average.csv\")\n",
        "\n",
        "df = pd.read_csv(\"r values p53 - 41 AOS screen pub set.csv\", index_col=0)\n",
        "df.drop(['Aggregate'], inplace= True)\n",
        "df.loc['Average',:]=df.mean()\n",
        "df.to_csv(\"r values p53 - 41 AOS screen with average.csv\")"
      ]
    },
    {
      "cell_type": "code",
      "execution_count": null,
      "metadata": {},
      "outputs": [],
      "source": []
    }
  ],
  "metadata": {
    "kernelspec": {
      "display_name": "local-venv",
      "language": "python",
      "name": "local-venv"
    },
    "language_info": {
      "codemirror_mode": {
        "name": "ipython",
        "version": 3
      },
      "file_extension": ".py",
      "mimetype": "text/x-python",
      "name": "python",
      "nbconvert_exporter": "python",
      "pygments_lexer": "ipython3",
      "version": "3.8.16"
    },
    "orig_nbformat": 4
  },
  "nbformat": 4,
  "nbformat_minor": 2
}
