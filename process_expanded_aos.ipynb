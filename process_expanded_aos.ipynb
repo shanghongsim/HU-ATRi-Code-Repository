{
 "cells": [
  {
   "cell_type": "code",
   "execution_count": 28,
   "metadata": {},
   "outputs": [],
   "source": [
    "%reload_ext autoreload\n",
    "%autoreload 2"
   ]
  },
  {
   "cell_type": "code",
   "execution_count": 29,
   "metadata": {},
   "outputs": [],
   "source": [
    "import numpy as np # scientific computing\n",
    "import pandas as pd # data loading and processing\n",
    "import os # os operations\n",
    "import matplotlib.pyplot as plt # for generating figures\n",
    "import math\n",
    "import matplotlib.dates as mdates\n",
    "import seaborn as sns # for generating visualizations, better support with pandas than matplotlib\n",
    "from scipy import stats\n",
    "from sklearn.impute import SimpleImputer\n",
    "\n",
    "from analysis import *"
   ]
  },
  {
   "cell_type": "code",
   "execution_count": 51,
   "metadata": {},
   "outputs": [
    {
     "name": "stderr",
     "output_type": "stream",
     "text": [
      "/var/folders/mp/lfr86vf57gzgqs4tr6qd5bs80000gn/T/ipykernel_88113/138784557.py:1: ParserWarning: Falling back to the 'python' engine because the separator encoded in utf-8 is > 1 char long, and the 'c' engine does not support such separators; you can avoid this warning by specifying engine='python'.\n",
      "  expanded_ls = pd.read_csv('/Users/shanghongsim/Documents/GitHub/HU-ATRi-Code-Repository/go_ox_genes.txt', sep = \"、\", header=None).loc[0].to_list()\n"
     ]
    }
   ],
   "source": [
    "expanded_ls = pd.read_csv('/Users/shanghongsim/Documents/GitHub/HU-ATRi-Code-Repository/go_ox_genes.txt', sep = \"、\", header=None).loc[0].to_list()"
   ]
  },
  {
   "cell_type": "code",
   "execution_count": 56,
   "metadata": {},
   "outputs": [
    {
     "name": "stdout",
     "output_type": "stream",
     "text": [
      "['APOA4', 'CAT', 'CYGB', 'EPX', 'GPX2', 'GPX3', 'GPX4', 'GSR', 'GSTZ1', 'IPCEF1', 'MGST3', 'MPO', 'PRDX2', 'PRDX4', 'SELENOS', 'TXNDC2', 'TXNRD1', 'TXNRD2', 'ALB', 'ALOX5AP', 'APOA4', 'APOE', 'APOM', 'CAT', 'CLIC2', 'CYGB', 'DUOX1', 'DUOX2', 'EPX', 'FABP1', 'GPX1', 'GPX2', 'GPX3', 'GPX4', 'GPX5', 'GPX6', 'GPX7', 'GPX8', 'GSR', 'GSTA1', 'GSTK1', 'GSTM2', 'GSTO1', 'GSTO2', 'GSTP1', 'GSTT1', 'GSTZ1', 'HBA1', 'HBA2', 'HBB', 'HBD', 'HBE1', 'HBG1', 'HBG2', 'HBM', 'HBQ1', 'HBZ', 'HP', 'IPCEF1', 'IYD', 'KDM3B', 'LOXHD1', 'LPO', 'LTC4S', 'MGST1', 'MGST2', 'MGST3', 'MPO', 'MT3', 'NQO1', 'NXN', 'PARK7', 'PRDX1', 'PRDX2', 'PRDX3', 'PRDX4', 'PRDX5', 'PRDX6', 'PRXL2A', 'PRXL2B', 'PRXL2C', 'PTGS1', 'PTGS2', 'PXDN', 'PXDNL', 'S100A9', 'SELENOS', 'SELENOT', 'SELENOW', 'SESN1', 'SESN2', 'SOD1', 'SOD2', 'SOD3', 'SRXN1', 'TP53INP1', 'TPO', 'TXN', 'TXNDC17', 'TXNDC2', 'TXNRD1', 'TXNRD2', 'TXNRD3', 'UBIAD1', 'CHAC1', 'CHAC2', 'GGT1', 'GGT2', 'GGT3P', 'GGT5', 'GGT7', 'GGTLC1', 'GGTLC2', 'GGTLC3', 'ALDH5A1', 'CHAC1', 'CHAC2', 'CNDP2', 'CTNS', 'DPEP1', 'ETHE1', 'G6PD', 'GCLC', 'GCLM', 'GGCT', 'GGT1', 'GGT2', 'GGT3P', 'GGT5', 'GGT6', 'GGT7', 'GGTLC1', 'GGTLC2', 'GGTLC3', 'GLO1', 'GLRX2', 'GPX1', 'GPX4', 'GSR', 'GSS', 'GSTA1', 'GSTA2', 'GSTA3', 'GSTA4', 'GSTA5', 'GSTK1', 'GSTM1', 'GSTM2', 'GSTM3', 'GSTM4', 'GSTM5', 'GSTP1', 'GSTT1', 'GSTT2', 'GSTT2B', 'GSTZ1', 'HAGH', 'HPGDS', 'IDH1', 'MGST1', 'MGST2', 'MMACHC', 'NAT8', 'NFE2L1', 'NFE2L2', 'OPLAH', 'PARK7', 'PTGES', 'SLC7A11', 'SOD1']\n",
      "170\n"
     ]
    }
   ],
   "source": [
    "print(expanded_ls)\n",
    "print(len(expanded_ls))"
   ]
  },
  {
   "cell_type": "code",
   "execution_count": 37,
   "metadata": {},
   "outputs": [],
   "source": [
    "gene_set = get_gene_sets()\n",
    "# gene_set[\"AOS\"]\n",
    "sub_ls ,_,_ = get_xy_set(gene_set, xvar=\"AOS\")\n"
   ]
  },
  {
   "cell_type": "code",
   "execution_count": 57,
   "metadata": {},
   "outputs": [
    {
     "name": "stdout",
     "output_type": "stream",
     "text": [
      "['GSTM5', 'EPX', 'HBB', 'HBZ', 'GGCT', 'PRDX2', 'SESN2', 'MGST3', 'GCLM', 'PRDX3', 'HBE1', 'HBA1', 'PRDX5', 'TXN', 'HPGDS', 'DPEP1', 'HBG1', 'FABP1', 'UBIAD1', 'PTGES', 'TXNRD2', 'APOA4', 'PRDX6', 'GGTLC1', 'PARK7', 'G6PD', 'IPCEF1', 'GPX5', 'SOD1', 'TXNDC2', 'DUOX1', 'GSR', 'GSTO2', 'TXNRD1', 'PXDNL', 'ETHE1', 'PTGS2', 'MGST1', 'OPLAH', 'GLO1', 'HBA2', 'KDM3B', 'GPX6', 'GPX3', 'PRXL2C', 'ALDH5A1', 'HAGH', 'ALOX5AP', 'GSTA2', 'NFE2L2', 'TXNDC17', 'SLC7A11', 'GSTT1', 'GGTLC3', 'GGT2', 'SOD3', 'HBM', 'CAT', 'GSTZ1', 'CHAC1', 'GSTA4', 'LTC4S', 'NFE2L1', 'GSTA5', 'PRXL2B', 'HBD', 'HP', 'CLIC2', 'GPX4', 'GGT6', 'CNDP2', 'MT3', 'SESN1', 'SOD2', 'CHAC2', 'PRXL2A', 'GSS', 'GPX8', 'GSTM3', 'GPX2', 'PRDX4', 'HBQ1', 'LOXHD1', 'MGST2', 'GGT1', 'GGT3P', 'LPO', 'GSTM4', 'GSTA1', 'MPO', 'GSTP1', 'IYD', 'S100A9', 'GSTO1', 'CYGB', 'SELENOT', 'PXDN', 'GLRX2', 'PRDX1', 'GGT7', 'CTNS', 'GSTT2B', 'GSTA3', 'GPX7', 'GCLC', 'IDH1', 'NQO1', 'DUOX2', 'GSTM2', 'GGT5', 'GSTK1', 'MMACHC', 'GGTLC2', 'APOM', 'HBG2', 'SELENOW', 'TPO', 'GSTM1', 'TXNRD3', 'GSTT2', 'NXN', 'NAT8', 'SRXN1', 'APOE', 'ALB', 'TP53INP1', 'SELENOS', 'GPX1', 'PTGS1']\n",
      "129\n"
     ]
    }
   ],
   "source": [
    "expanded_ls = list(set(expanded_ls))\n",
    "print(expanded_ls)\n",
    "print(len(expanded_ls))"
   ]
  },
  {
   "cell_type": "code",
   "execution_count": 58,
   "metadata": {},
   "outputs": [],
   "source": [
    "overlap = set(expanded_ls).intersection(set(sub_ls))"
   ]
  },
  {
   "cell_type": "code",
   "execution_count": 59,
   "metadata": {},
   "outputs": [
    {
     "name": "stdout",
     "output_type": "stream",
     "text": [
      "length of big list:  129\n",
      "length of small list:  41\n",
      "length of overlap:  22\n"
     ]
    }
   ],
   "source": [
    "print(\"length of big list: \", len(expanded_ls))\n",
    "print(\"length of small list: \", len(sub_ls))\n",
    "print(\"length of overlap: \", len(overlap))"
   ]
  },
  {
   "cell_type": "code",
   "execution_count": 39,
   "metadata": {},
   "outputs": [
    {
     "data": {
      "text/plain": [
       "{'CAT',\n",
       " 'G6PD',\n",
       " 'GPX1',\n",
       " 'GPX2',\n",
       " 'GSR',\n",
       " 'GSTA1',\n",
       " 'GSTA4',\n",
       " 'GSTP1',\n",
       " 'IDH1',\n",
       " 'NQO1',\n",
       " 'PRDX1',\n",
       " 'PRDX3',\n",
       " 'PRDX4',\n",
       " 'PRDX5',\n",
       " 'PRDX6',\n",
       " 'SESN1',\n",
       " 'SESN2',\n",
       " 'SOD1',\n",
       " 'SOD2',\n",
       " 'SRXN1',\n",
       " 'TXN',\n",
       " 'TXNRD2'}"
      ]
     },
     "execution_count": 39,
     "metadata": {},
     "output_type": "execute_result"
    }
   ],
   "source": [
    "overlap"
   ]
  },
  {
   "cell_type": "code",
   "execution_count": 65,
   "metadata": {},
   "outputs": [],
   "source": [
    "with open('overlap.txt', 'w') as f:\n",
    "    f.write(','.join(expanded_ls))\n",
    "    f.write('\\n')\n",
    "    f.write(\"length of big list: \" + str(len(expanded_ls)))\n",
    "    f.write('\\n')\n",
    "    f.write(','.join(sub_ls))\n",
    "    f.write('\\n')\n",
    "    f.write(\"length of small list: \" + str(len(sub_ls)))\n",
    "    f.write('\\n')\n",
    "    f.write(','.join(overlap))\n",
    "    f.write('\\n')\n",
    "    f.write(\"length of overlap: \" + str(len(overlap)))\n",
    "    \n"
   ]
  },
  {
   "cell_type": "code",
   "execution_count": 67,
   "metadata": {},
   "outputs": [
    {
     "ename": "",
     "evalue": "",
     "output_type": "error",
     "traceback": [
      "\u001b[1;31mThe Kernel crashed while executing code in the the current cell or a previous cell. Please review the code in the cell(s) to identify a possible cause of the failure. Click <a href='https://aka.ms/vscodeJupyterKernelCrash'>here</a> for more info. View Jupyter <a href='command:jupyter.viewOutput'>log</a> for further details."
     ]
    }
   ],
   "source": [
    "import csv\n",
    "with open('overlap.csv', 'w') as f:\n",
    "      \n",
    "    # using csv.writer method from CSV package\n",
    "    write = csv.writer(f)\n",
    "      \n",
    "    write.writerow(expanded_ls)"
   ]
  },
  {
   "cell_type": "code",
   "execution_count": null,
   "metadata": {},
   "outputs": [],
   "source": []
  }
 ],
 "metadata": {
  "kernelspec": {
   "display_name": "local-venv",
   "language": "python",
   "name": "local-venv"
  },
  "language_info": {
   "codemirror_mode": {
    "name": "ipython",
    "version": 3
   },
   "file_extension": ".py",
   "mimetype": "text/x-python",
   "name": "python",
   "nbconvert_exporter": "python",
   "pygments_lexer": "ipython3",
   "version": "3.8.5"
  },
  "orig_nbformat": 4
 },
 "nbformat": 4,
 "nbformat_minor": 2
}
