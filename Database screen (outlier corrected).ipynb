{
 "cells": [
  {
   "cell_type": "code",
   "execution_count": null,
   "metadata": {},
   "outputs": [],
   "source": [
    "import numpy as np # scientific computing\n",
    "import pandas as pd # data loading and processing\n",
    "import os # os operations\n",
    "import matplotlib.pyplot as plt # for generating figures\n",
    "import math\n",
    "import matplotlib.dates as mdates\n",
    "import seaborn as sns # for generating visualizations, better support with pandas than matplotlib\n",
    "from scipy import stats\n",
    "from sklearn.impute import SimpleImputer\n",
    "\n",
    "from analysis import *"
   ]
  },
  {
   "cell_type": "code",
   "execution_count": null,
   "metadata": {},
   "outputs": [],
   "source": [
    "# script to consolidate all HCCDB data into one dataframe\n",
    "\n",
    "hccdb_names = [\"1\", \"3\", \"4\",  \"8\", \"9\", \"11\", \"12\", \"13\", \"14\", \"16\", \"17\", \"18\"]\n",
    "hccdb = pd.DataFrame()\n",
    "\n",
    "for i in range(len(hccdb_names)):\n",
    "    n1, n2 = construct_hccdb_filename(hccdb_names[i])\n",
    "    hccdb_temp = get_hccdb_data(n1)\n",
    "    hccdb_temp = hccdb_temp.loc[~hccdb_temp.index.duplicated(),:].copy()\n",
    "    hccdb_temp.loc[\"ptype\",:] = \"HCCDB-\" + hccdb_names[i]\n",
    "    hccdb = pd.concat([hccdb, hccdb_temp], axis = 1) # patients x genes\n",
    "\n",
    "# load pancan data\n",
    "\n",
    "tcga = pd.read_csv(\"./data/EB++AdjustPANCAN_IlluminaHiSeq_RNASeqV2.geneExp (1).xena\", index_col = 0, sep = \"\\t\") # gene x patient\n",
    "pheno = pd.read_csv(\"./data/TCGA_phenotype_denseDataOnlyDownload (1).tsv\", index_col = 0, sep = \"\\t\") # patient x phenotype\n",
    "\n",
    "# attach cancer type to each patient\n",
    "data = tcga.T\n",
    "data = pd.concat([data, pheno], axis = 1, join = \"inner\") # patients x genes\n",
    "    \n",
    "print(data.shape)\n",
    "print(tcga.T.shape)\n",
    "\n",
    "# attach abbeviations for each cancer type\n",
    "ls = data[\"_primary_disease\"].unique().tolist()\n",
    "\n",
    "conditions = [\n",
    "    data['_primary_disease'] == 'adrenocortical cancer',\n",
    "    data['_primary_disease'] == 'bladder urothelial carcinoma',\n",
    "    data['_primary_disease'] == 'breast invasive carcinoma',\n",
    "    data['_primary_disease'] == 'cervical & endocervical cancer',\n",
    "    data['_primary_disease'] == 'cholangiocarcinoma', \n",
    "    data['_primary_disease'] == 'colon adenocarcinoma',\n",
    "    data['_primary_disease'] == 'diffuse large B-cell lymphoma',\n",
    "    data['_primary_disease'] == 'esophageal carcinoma',\n",
    "    data['_primary_disease'] == 'glioblastoma multiforme',\n",
    "    data['_primary_disease'] == 'head & neck squamous cell carcinoma',\n",
    "    data['_primary_disease'] == 'kidney chromophobe',\n",
    "    data['_primary_disease'] == 'kidney clear cell carcinoma',\n",
    "    data['_primary_disease'] == 'kidney papillary cell carcinoma',\n",
    "    data['_primary_disease'] == 'acute myeloid leukemia',\n",
    "    data['_primary_disease'] == 'brain lower grade glioma',\n",
    "    data['_primary_disease'] == 'liver hepatocellular carcinoma',\n",
    "    data['_primary_disease'] == 'lung adenocarcinoma',\n",
    "    data['_primary_disease'] == 'lung squamous cell carcinoma',\n",
    "    data['_primary_disease'] == 'mesothelioma',\n",
    "    data['_primary_disease'] == 'ovarian serous cystadenocarcinoma',\n",
    "    data['_primary_disease'] == 'pancreatic adenocarcinoma',\n",
    "    data['_primary_disease'] == 'pheochromocytoma & paraganglioma',\n",
    "    data['_primary_disease'] == 'prostate adenocarcinoma',\n",
    "    data['_primary_disease'] == 'rectum adenocarcinoma',\n",
    "    data['_primary_disease'] == 'sarcoma',\n",
    "    data['_primary_disease'] == 'skin cutaneous melanoma',\n",
    "    data['_primary_disease'] == 'stomach adenocarcinoma',\n",
    "    data['_primary_disease'] == 'testicular germ cell tumor',\n",
    "    data['_primary_disease'] == 'thyroid carcinoma',\n",
    "    data['_primary_disease'] == 'thymoma',\n",
    "    data['_primary_disease'] == 'uterine corpus endometrioid carcinoma',\n",
    "    data['_primary_disease'] == 'uterine carcinosarcoma',\n",
    "    data['_primary_disease'] == 'uveal melanoma'    \n",
    "]\n",
    "\n",
    "choices = [\"ACC\",\n",
    "           \"BLCA\",\n",
    "           \"BRCA\",\n",
    "           \"CESC\",\n",
    "           \"CHOL\",\n",
    "           \"COAD\",\n",
    "           \"DBLC\",\n",
    "           \"ESCA\",\n",
    "           \"GBM\",\n",
    "           \"HNSC\",\n",
    "           \"KICH\",\n",
    "           \"KIRC\",\n",
    "           \"KIRP\",\n",
    "           \"LAML\",\n",
    "           \"LGG\",\n",
    "           \"LIHC\",\n",
    "           \"LUAD\",\n",
    "           \"LUSC\",\n",
    "           \"MESO\",\n",
    "           \"OV\",\n",
    "           \"PAAD\",\n",
    "           \"PCPG\",\n",
    "           \"PRAD\",\n",
    "           \"READ\",\n",
    "           \"SARC\",\n",
    "           \"SKCM\",\n",
    "           \"STAD\",\n",
    "           \"TGCT\",\n",
    "           \"THCA\",\n",
    "           \"THYM\",\n",
    "           \"UCEC\",\n",
    "           \"UCS\",\n",
    "           \"UVM\"\n",
    "           ]\n",
    "\n",
    "data[\"ptype\"] = np.select(conditions, choices, default = \"null\")\n",
    "data.head()\n"
   ]
  },
  {
   "cell_type": "code",
   "execution_count": null,
   "metadata": {},
   "outputs": [],
   "source": [
    "# df = data[data[\"ptype\"] == \"COAD\"]\n",
    "# df = df.T\n",
    "# df.drop([\"ptype\",\"sample_type_id\", \"sample_type\", \"_primary_disease\"], inplace = True)\t"
   ]
  },
  {
   "cell_type": "code",
   "execution_count": null,
   "metadata": {},
   "outputs": [],
   "source": [
    "# gene_set = pd.read_csv(\"./data/oxstress genes.csv\", index_col=None, header= 0)\n",
    "# gene_set = gene_set['Review v3'].dropna().tolist()\n",
    "# targets = list(set([\"G6PD\", \"RRM2B\"] +  gene_set))\n",
    "\n",
    "# data_new = process_data(df, targets, x_var_names = [\"RRM2B\"], y_var_names = gene_set, pheno_filtered=None, outlier_corrected = True)"
   ]
  },
  {
   "cell_type": "code",
   "execution_count": null,
   "metadata": {},
   "outputs": [],
   "source": [
    "# def process_data_test(df, targets, x_var_names = None, y_var_names = None, pheno_filtered=None, outlier_corrected = False):\n",
    "\n",
    "#     # df is inputted as gene x patient \n",
    "#     df = df.T # patients x genes\n",
    "\n",
    "#     # subset to get relevant genes\n",
    "#     df_filtered = df[targets]\n",
    "#     print(df_filtered[[\"GPX1\"]])\n",
    "    \n",
    "#     # impute missing values with mean\n",
    "#     imp_mean = SimpleImputer(missing_values=np.nan, strategy='mean')\n",
    "#     output = imp_mean.fit_transform(df_filtered)\n",
    "#     df_filtered = pd.DataFrame(output, columns = imp_mean.get_feature_names_out().tolist(), index = df_filtered.index)\n",
    "\n",
    "#     # scale numerical data\n",
    "#     df_filtered = df_filtered.astype(np.float64)\n",
    "#     df_filtered = np.log10(df_filtered+1)\n",
    "\n",
    "#     # for each sequenced gene were rescaled to set the median equal to 1\n",
    "#     df_filtered=(df_filtered-df_filtered.median())/(df_filtered.std()+1)\n",
    "#     data = df_filtered \n",
    "#     print(data.columns)\n",
    "#     print(\"GPX1\" in data.columns) \n",
    "\n",
    "#     x_var_names = list(set(x_var_names).intersection(set(data.columns)))\n",
    "#     y_var_names = list(set(y_var_names).intersection(set(data.columns)))\n",
    "\n",
    "#     if x_var_names != None:\n",
    "#         x_var_gene_set = data[x_var_names]\n",
    "#         x_var_gene_set[\"x_composite_score\"] = x_var_gene_set.mean(axis = 1)\n",
    "#         data = pd.concat([data, x_var_gene_set[[\"x_composite_score\"]]], axis = 1) \n",
    "#         if outlier_corrected == True:\n",
    "#             iqr = data[\"x_composite_score\"].describe()\n",
    "#             data = data.loc[(data[\"x_composite_score\"] > iqr['min']) & (data[\"x_composite_score\"] < iqr['max']), :] \n",
    "\n",
    "#     if y_var_names != None:\n",
    "#         # take only nrf2 target genes\n",
    "#         y_var_gene_set = data[y_var_names]\n",
    "#         y_var_gene_set[\"y_composite_score\"]= y_var_gene_set.mean(axis = 1)\n",
    "#         data = pd.concat([data, y_var_gene_set[[\"y_composite_score\"] ]], axis = 1) # patients x genes \n",
    "    \n",
    "#     input(\"pause\")\n",
    "#     return data"
   ]
  },
  {
   "cell_type": "code",
   "execution_count": null,
   "metadata": {},
   "outputs": [],
   "source": [
    "r_all =[]\n",
    "p_all = []"
   ]
  },
  {
   "cell_type": "code",
   "execution_count": null,
   "metadata": {},
   "outputs": [],
   "source": [
    "# master script to screen (outlier corrected) cancers for RRM2B - AOS\n",
    "\n",
    "# load gene names\n",
    "gene_set = pd.read_csv(\"./data/oxstress genes.csv\", index_col=None, header= 0)\n",
    "gene_set = gene_set['Review v3'].dropna().tolist()\n",
    "targets = list(set([\"G6PD\", \"RRM2B\"] +  gene_set))\n",
    "\n",
    "# load database names\n",
    "databases = ['HCCDB-1', 'HCCDB-3', 'HCCDB-4',  'HCCDB-8', 'HCCDB-9', 'HCCDB-11', \n",
    "       'HCCDB-12', 'HCCDB-13', 'HCCDB-14', 'HCCDB-16', 'HCCDB-17', 'HCCDB-18',\n",
    "       'ACC', 'BLCA', 'DBLC', 'UCEC', 'SKCM', 'HNSC', 'PRAD', 'KIRP',\n",
    "       'PAAD', 'SARC', 'CESC', 'COAD', 'LUSC', 'READ', 'KIRC', 'LIHC',\n",
    "       'BRCA', 'OV', 'UCS', 'GBM', 'KICH', 'THCA', 'LGG', 'LUAD', 'MESO',\n",
    "       'PCPG', 'TGCT', 'UVM', 'THYM', 'CHOL', 'ESCA', 'STAD', 'LAML','PANCAN'] # , , 'PANCAN'\n",
    "\n",
    "# define subplot grid\n",
    "fig, axs = plt.subplots(6, 8, figsize=(60, 40), sharey=True)\n",
    "plt.subplots_adjust(hspace=0.6)\n",
    "title = 'RRM2B vs antioxidant signature'\n",
    "fig.suptitle(title,fontsize = 40)\n",
    "\n",
    "rtemp = []\n",
    "ptemp = []\n",
    "\n",
    "# main loop\n",
    "for db, ax in zip(databases, axs.ravel()):\n",
    "    print(db)\n",
    "    df = get_data(data, hccdb, db)\n",
    "    data_new = process_data(df, targets, x_var_names = [\"RRM2B\"], y_var_names = gene_set, pheno_filtered=None, outlier_corrected = True)\n",
    "    r, p = analyse(data_new, fig, db, ax, title + ' screen (outlier corrected).png', x_label = \"RRM2B\", y_label = \"Antioxidant signature\")\n",
    "    rtemp.append(r)\n",
    "    ptemp.append(p)\n",
    "\n",
    "r_all.append(rtemp)\n",
    "p_all.append(ptemp)\n",
    "print(\"done\")\n"
   ]
  },
  {
   "cell_type": "code",
   "execution_count": null,
   "metadata": {},
   "outputs": [],
   "source": [
    "# master script to screen cancers for RRM2B - NRF2 signature\n",
    "\n",
    "gene_set = pd.read_csv(\"./data/oxstress genes.csv\", index_col=None, header= 0)\n",
    "gene_set = gene_set['NRF2 v3'].dropna().tolist()\n",
    "\n",
    "targets = list(set([\"G6PD\", \"RRM2B\"] +  gene_set))\n",
    "\n",
    "databases = ['HCCDB-1', 'HCCDB-3', 'HCCDB-4',  'HCCDB-8', 'HCCDB-9', 'HCCDB-11', \n",
    "       'HCCDB-12', 'HCCDB-13', 'HCCDB-14', 'HCCDB-16', 'HCCDB-17', 'HCCDB-18',\n",
    "       'ACC', 'BLCA', 'DBLC', 'UCEC', 'SKCM', 'HNSC', 'PRAD', 'KIRP',\n",
    "       'PAAD', 'SARC', 'CESC', 'COAD', 'LUSC', 'READ', 'KIRC', 'LIHC',\n",
    "       'BRCA', 'OV', 'UCS', 'GBM', 'KICH', 'THCA', 'LGG', 'LUAD', 'MESO',\n",
    "       'PCPG', 'TGCT', 'UVM', 'THYM', 'CHOL', 'ESCA', 'STAD', 'LAML','PANCAN'] # , , 'PANCAN'\n",
    "\n",
    "# define subplot grid\n",
    "fig, axs = plt.subplots(6, 8, figsize=(60, 40), sharey=True)\n",
    "plt.subplots_adjust(hspace=0.6)\n",
    "title = 'RRM2B vs NRF2 signature'\n",
    "fig.suptitle(title,fontsize = 25)\n",
    "\n",
    "rtemp = []\n",
    "ptemp = []\n",
    "\n",
    "for db, ax in zip(databases, axs.ravel()):\n",
    "    print(db)\n",
    "    df = get_data(data, hccdb, db)\n",
    "    data_new = process_data(df, targets, x_var_names = [\"RRM2B\"], y_var_names = gene_set, pheno_filtered=None, outlier_corrected = True)\n",
    "    r, p = analyse(data_new, fig, db, ax, title + ' screen (outlier corrected).png', x_label = \"RRM2B\", y_label = \"NRF2 signature\")\n",
    "    rtemp.append(r)\n",
    "    ptemp.append(p)\n",
    "\n",
    "r_all.append(rtemp)\n",
    "p_all.append(ptemp)\n",
    "print(\"done\")\n"
   ]
  },
  {
   "cell_type": "code",
   "execution_count": null,
   "metadata": {},
   "outputs": [],
   "source": [
    "# master script to screen cancers for RRM2B - p53 signature\n",
    "\n",
    "gene_set = pd.read_csv(\"./data/oxstress genes.csv\", index_col=None, header= 0)\n",
    "gene_set = gene_set['p53 new'].dropna().tolist()\n",
    "\n",
    "targets = list(set([\"G6PD\", \"RRM2B\"] +  gene_set))\n",
    "\n",
    "databases = ['HCCDB-1', 'HCCDB-3', 'HCCDB-4',  'HCCDB-8', 'HCCDB-9', 'HCCDB-11', \n",
    "       'HCCDB-12', 'HCCDB-13', 'HCCDB-14', 'HCCDB-16', 'HCCDB-17', 'HCCDB-18',\n",
    "       'ACC', 'BLCA', 'DBLC', 'UCEC', 'SKCM', 'HNSC', 'PRAD', 'KIRP',\n",
    "       'PAAD', 'SARC', 'CESC', 'COAD', 'LUSC', 'READ', 'KIRC', 'LIHC',\n",
    "       'BRCA', 'OV', 'UCS', 'GBM', 'KICH', 'THCA', 'LGG', 'LUAD', 'MESO',\n",
    "       'PCPG', 'TGCT', 'UVM', 'THYM', 'CHOL', 'ESCA', 'STAD', 'LAML','PANCAN'] # , , 'PANCAN'\n",
    "\n",
    "# define subplot grid\n",
    "fig, axs = plt.subplots(6, 8, figsize=(60, 40), sharey=True)\n",
    "plt.subplots_adjust(hspace=0.6)\n",
    "title = 'RRM2B vs p53 signature'\n",
    "fig.suptitle(title,fontsize = 25)\n",
    "\n",
    "rtemp = []\n",
    "ptemp = []\n",
    "\n",
    "for db, ax in zip(databases, axs.ravel()):\n",
    "    print(db)\n",
    "    df = get_data(data, hccdb, db)\n",
    "    data_new = process_data(df, targets, x_var_names = [\"RRM2B\"], y_var_names = gene_set, pheno_filtered=None, outlier_corrected = True)\n",
    "    r, p = analyse(data_new, fig, db, ax, title + ' screen (outlier corrected).png', x_label = \"RRM2B\", y_label = \"p53 signature\")\n",
    "    rtemp.append(r)\n",
    "    ptemp.append(p)\n",
    "\n",
    "r_all.append(rtemp)\n",
    "p_all.append(ptemp)\n",
    "print(\"done\")\n"
   ]
  },
  {
   "cell_type": "code",
   "execution_count": null,
   "metadata": {},
   "outputs": [],
   "source": [
    "# master script to screen cancers for NRF2 signature - p53 signature\n",
    "\n",
    "gene_set = pd.read_csv(\"./data/oxstress genes.csv\", index_col=None, header= 0)\n",
    "p53_set = gene_set['p53 new'].dropna().tolist()\n",
    "nrf2_set = gene_set['NRF2 v3'].dropna().tolist()\n",
    "\n",
    "targets = list(set([\"G6PD\", \"RRM2B\"] +  p53_set + nrf2_set))\n",
    "\n",
    "databases = ['HCCDB-1', 'HCCDB-3', 'HCCDB-4',  'HCCDB-8', 'HCCDB-9', 'HCCDB-11', \n",
    "       'HCCDB-12', 'HCCDB-13', 'HCCDB-14', 'HCCDB-16', 'HCCDB-17', 'HCCDB-18',\n",
    "       'ACC', 'BLCA', 'DBLC', 'UCEC', 'SKCM', 'HNSC', 'PRAD', 'KIRP',\n",
    "       'PAAD', 'SARC', 'CESC', 'COAD', 'LUSC', 'READ', 'KIRC', 'LIHC',\n",
    "       'BRCA', 'OV', 'UCS', 'GBM', 'KICH', 'THCA', 'LGG', 'LUAD', 'MESO',\n",
    "       'PCPG', 'TGCT', 'UVM', 'THYM', 'CHOL', 'ESCA', 'STAD', 'LAML','PANCAN'] # , , 'PANCAN'\n",
    "\n",
    "# define subplot grid\n",
    "fig, axs = plt.subplots(6, 8, figsize=(60, 40), sharey=True)\n",
    "plt.subplots_adjust(hspace=0.6)\n",
    "title = 'NRF2 signature vs p53 signature'\n",
    "fig.suptitle(title,fontsize = 25)\n",
    "\n",
    "rtemp = []\n",
    "ptemp = []\n",
    "\n",
    "for db, ax in zip(databases, axs.ravel()):\n",
    "    print(db)\n",
    "    df = get_data(data, hccdb, db)\n",
    "    data_new = process_data(df, targets, x_var_names = p53_set, y_var_names = nrf2_set, pheno_filtered=None, outlier_corrected = True)\n",
    "    r, p = analyse(data_new, fig, db, ax, title + ' screen (outlier corrected).png', x_label = \"p53 signature\", y_label = \"NRF2 signature\")\n",
    "    rtemp.append(r)\n",
    "    ptemp.append(p)\n",
    "\n",
    "r_all.append(rtemp)\n",
    "p_all.append(ptemp)\n",
    "print(\"done\")\n"
   ]
  },
  {
   "cell_type": "code",
   "execution_count": null,
   "metadata": {},
   "outputs": [],
   "source": [
    "# master script to screen cancers for AOS signature - p53 signature\n",
    "\n",
    "gene_set = pd.read_csv(\"./data/oxstress genes.csv\", index_col=None, header= 0)\n",
    "set_x = gene_set['p53 new'].dropna().tolist()\n",
    "set_y = gene_set['Review v3'].dropna().tolist()\n",
    "\n",
    "targets = list(set([\"G6PD\", \"RRM2B\"] +  set_x + set_y))\n",
    "\n",
    "databases = ['HCCDB-1', 'HCCDB-3', 'HCCDB-4',  'HCCDB-8', 'HCCDB-9', 'HCCDB-11', \n",
    "       'HCCDB-12', 'HCCDB-13', 'HCCDB-14', 'HCCDB-16', 'HCCDB-17', 'HCCDB-18',\n",
    "       'ACC', 'BLCA', 'DBLC', 'UCEC', 'SKCM', 'HNSC', 'PRAD', 'KIRP',\n",
    "       'PAAD', 'SARC', 'CESC', 'COAD', 'LUSC', 'READ', 'KIRC', 'LIHC',\n",
    "       'BRCA', 'OV', 'UCS', 'GBM', 'KICH', 'THCA', 'LGG', 'LUAD', 'MESO',\n",
    "       'PCPG', 'TGCT', 'UVM', 'THYM', 'CHOL', 'ESCA', 'STAD', 'LAML','PANCAN'] # , , 'PANCAN'\n",
    "\n",
    "# define subplot grid\n",
    "fig, axs = plt.subplots(6, 8, figsize=(60, 40), sharey=True)\n",
    "plt.subplots_adjust(hspace=0.6)\n",
    "title = 'AOS signature vs p53 signature'\n",
    "fig.suptitle(title,fontsize = 25)\n",
    "\n",
    "rtemp = []\n",
    "ptemp = []\n",
    "\n",
    "for db, ax in zip(databases, axs.ravel()):\n",
    "    print(db)\n",
    "    df = get_data(data, hccdb, db)\n",
    "    data_new = process_data(df, targets,  set_x, y_var_names = set_y, pheno_filtered=None, outlier_corrected = True)\n",
    "    r, p = analyse(data_new, fig, db, ax, title + ' screen (outlier corrected).png', x_label = \"p53 signature\", y_label = \"Antioxidant signature\")\n",
    "    rtemp.append(r)\n",
    "    ptemp.append(p)\n",
    "\n",
    "r_all.append(rtemp)\n",
    "p_all.append(ptemp)\n",
    "print(\"done\")\n"
   ]
  },
  {
   "cell_type": "code",
   "execution_count": null,
   "metadata": {},
   "outputs": [],
   "source": [
    "# master script to screen cancers for p53 signature vs G6PD\n",
    "\n",
    "gene_set = pd.read_csv(\"./data/oxstress genes.csv\", index_col=None, header= 0)\n",
    "p53_set = gene_set['p53 new'].dropna().tolist()\n",
    "nrf2_set = gene_set['NRF2 v3'].dropna().tolist()\n",
    "\n",
    "targets = list(set([\"G6PD\", \"RRM2B\"] +  p53_set + nrf2_set))\n",
    "\n",
    "databases = ['HCCDB-1', 'HCCDB-3', 'HCCDB-4',  'HCCDB-8', 'HCCDB-9', 'HCCDB-11', \n",
    "       'HCCDB-12', 'HCCDB-13', 'HCCDB-14', 'HCCDB-16', 'HCCDB-17', 'HCCDB-18',\n",
    "       'ACC', 'BLCA', 'DBLC', 'UCEC', 'SKCM', 'HNSC', 'PRAD', 'KIRP',\n",
    "       'PAAD', 'SARC', 'CESC', 'COAD', 'LUSC', 'READ', 'KIRC', 'LIHC',\n",
    "       'BRCA', 'OV', 'UCS', 'GBM', 'KICH', 'THCA', 'LGG', 'LUAD', 'MESO',\n",
    "       'PCPG', 'TGCT', 'UVM', 'THYM', 'CHOL', 'ESCA', 'STAD', 'LAML','PANCAN'] # , , 'PANCAN'\n",
    "\n",
    "# define subplot grid\n",
    "fig, axs = plt.subplots(6, 8, figsize=(60, 40), sharey=True)\n",
    "plt.subplots_adjust(hspace=0.6)\n",
    "title = 'p53 signature vs G6PD'\n",
    "fig.suptitle(title,fontsize = 25)\n",
    "\n",
    "rtemp = []\n",
    "ptemp = []\n",
    "\n",
    "for db, ax in zip(databases, axs.ravel()):\n",
    "    print(db)\n",
    "    df = get_data(data, hccdb, db)\n",
    "    data_new = process_data(df, targets, x_var_names = p53_set, y_var_names = [\"G6PD\"], pheno_filtered=None, outlier_corrected = True)\n",
    "    r, p = analyse(data_new, fig, db, ax, title + ' screen (outlier corrected).png', x_label = \"p53 signature\", y_label = \"G6PD\")\n",
    "    rtemp.append(r)\n",
    "    ptemp.append(p)\n",
    "\n",
    "r_all.append(rtemp)\n",
    "p_all.append(ptemp)\n",
    "print(\"done\")\n"
   ]
  },
  {
   "cell_type": "code",
   "execution_count": null,
   "metadata": {},
   "outputs": [],
   "source": [
    "# master script to screen cancers for RRM2B vs G6PD\n",
    "\n",
    "targets = [\"G6PD\", \"RRM2B\"]\n",
    "\n",
    "databases = ['HCCDB-1', 'HCCDB-3', 'HCCDB-4',  'HCCDB-8', 'HCCDB-9', 'HCCDB-11', \n",
    "       'HCCDB-12', 'HCCDB-13', 'HCCDB-14', 'HCCDB-16', 'HCCDB-17', 'HCCDB-18',\n",
    "       'ACC', 'BLCA', 'DBLC', 'UCEC', 'SKCM', 'HNSC', 'PRAD', 'KIRP',\n",
    "       'PAAD', 'SARC', 'CESC', 'COAD', 'LUSC', 'READ', 'KIRC', 'LIHC',\n",
    "       'BRCA', 'OV', 'UCS', 'GBM', 'KICH', 'THCA', 'LGG', 'LUAD', 'MESO',\n",
    "       'PCPG', 'TGCT', 'UVM', 'THYM', 'CHOL', 'ESCA', 'STAD', 'LAML','PANCAN'] # , , 'PANCAN'\n",
    "\n",
    "# define subplot grid\n",
    "fig, axs = plt.subplots(6, 8, figsize=(60, 40), sharey=True)\n",
    "plt.subplots_adjust(hspace=0.6)\n",
    "title = 'RRM2B vs G6PD'\n",
    "fig.suptitle(title,fontsize = 40)\n",
    "\n",
    "rtemp = []\n",
    "ptemp = []\n",
    "\n",
    "\n",
    "for db, ax in zip(databases, axs.ravel()):\n",
    "    print(db)\n",
    "    df = get_data(data, hccdb, db)\n",
    "    data_new = process_data(df, targets,x_var_names = [\"RRM2B\"], y_var_names = [\"G6PD\"], pheno_filtered=None, outlier_corrected = True)\n",
    "    r, p = analyse(data_new, fig, db, ax, title + ' screen (outlier corrected).png', x_label = \"RRM2B\", y_label = \"G6PD\")\n",
    "    rtemp.append(r)\n",
    "    ptemp.append(p)\n",
    "\n",
    "r_all.append(rtemp)\n",
    "p_all.append(ptemp)\n",
    "print(\"done\")\n"
   ]
  },
  {
   "cell_type": "code",
   "execution_count": null,
   "metadata": {},
   "outputs": [],
   "source": [
    "len(r_all[3])\n"
   ]
  },
  {
   "cell_type": "code",
   "execution_count": null,
   "metadata": {},
   "outputs": [],
   "source": [
    "testing_conditions = ['RRM2B - AOS',\n",
    "                      'RRM2B - NRF2 signature',\n",
    "                      'RRM2B - p53 signature',\n",
    "                      'NRF2 signature - p53 signature',\n",
    "                      'AOS signature - p53 signature',\n",
    "                      'p53 signature vs G6PD',\n",
    "                      'RRM2B vs G6PD']\n",
    "\n",
    "df_r = pd.DataFrame(r_all, columns = databases, index= testing_conditions)\n",
    "df_p = pd.DataFrame(p_all, columns = databases, index= testing_conditions)\n"
   ]
  },
  {
   "cell_type": "code",
   "execution_count": null,
   "metadata": {},
   "outputs": [],
   "source": [
    "df_r"
   ]
  },
  {
   "cell_type": "code",
   "execution_count": null,
   "metadata": {},
   "outputs": [],
   "source": [
    "df_r.to_csv(\"r values cancer screen (outlier corrected).csv\")\n",
    "df_p.to_csv(\"p values cancer screen (outlier corrected).csv\")"
   ]
  },
  {
   "cell_type": "code",
   "execution_count": null,
   "metadata": {},
   "outputs": [],
   "source": [
    "# # master script to screen cancers for RRM2B vs NRF2 signature\n",
    "\n",
    "# gene_set = pd.read_csv(\"./data/oxstress genes.csv\", index_col=None, header= 0)\n",
    "# gene_set = gene_set['NRF2 v3'].dropna().tolist()\n",
    "\n",
    "# targets = list(set([\"G6PD\", \"RRM2B\"] +  gene_set))\n",
    "\n",
    "# databases = ['PANCAN', 'COAD'] # , , 'PANCAN'\n",
    "\n",
    "# # define subplot grid\n",
    "# fig, axs = plt.subplots(6, 8, figsize=(60, 40), sharey=True)\n",
    "# plt.subplots_adjust(hspace=0.6)\n",
    "# title = 'RRM2B vs NRF2 signature'\n",
    "# fig.suptitle(title,fontsize = 40)\n",
    "\n",
    "# print(\"run\")\n",
    "# for db, ax in zip(databases, axs.ravel()):\n",
    "#     df = get_data(data, hccdb, db)\n",
    "#     data_new = process_data(df, targets, x_var_names = [\"RRM2B\"], y_var_names = gene_set, pheno_filtered=None, outlier_corrected = True)\n",
    "#     r, p = analyse(data_new, fig,db, ax, title + ' screen (outlier corrected).png', x_label = \"RRM2B\", y_label = \"NRF2 signature\")\n",
    "# print(\"done\")\n",
    "\n",
    "\n",
    "\n",
    "\n",
    "# # master script to screen cancers for RRM2B expression vs antioxidant activity\n",
    "\n",
    "# gene_set = pd.read_csv(\"./data/oxstress genes.csv\", index_col=None, header= 0)\n",
    "# gene_set = gene_set['Review v3'].dropna().tolist()\n",
    "\n",
    "# targets = list(set([\"G6PD\", \"RRM2B\"] +  gene_set))\n",
    "\n",
    "# databases = ['PANCAN', 'COAD'] # , , 'PANCAN'\n",
    "\n",
    "# # define subplot grid\n",
    "# fig, axs = plt.subplots(6, 8, figsize=(60, 40), sharey=True)\n",
    "# plt.subplots_adjust(hspace=0.6)\n",
    "# fig.suptitle('RRM2B vs antioxidant signature',fontsize = 40)\n",
    "\n",
    "# print(\"run\")\n",
    "# for db, ax in zip(databases, axs.ravel()):\n",
    "#     df = get_data(data, hccdb, db)\n",
    "#     data_new = process_data(df, targets, x_var_names = [\"RRM2B\"], y_var_names = gene_set, pheno_filtered=None, outlier_corrected = True)\n",
    "#     # data_new = data_new.loc[data_new[\"RRM2B\"] > -0.4, :] \n",
    "#     r, p = analyse(data_new, fig, db, ax, title + ' screen (outlier corrected).png', x_label = \"RRM2B expression\", y_label = \"Antioxidant signature\", x_target = 'RRM2B', y_target = 'y_composite_score', )\n",
    "# print(\"done\")\n"
   ]
  },
  {
   "cell_type": "code",
   "execution_count": null,
   "metadata": {},
   "outputs": [],
   "source": [
    "import missingno as msno  # # pip install missingno\n",
    "\n",
    "# Plot correlation heatmap of missingness\n",
    "msno.matrix(df)\n",
    "\n",
    "# Plot correlation heatmap of missingness\n",
    "msno.bar(df.T)"
   ]
  },
  {
   "cell_type": "code",
   "execution_count": null,
   "metadata": {},
   "outputs": [],
   "source": [
    "df = data[data[\"ptype\"] == 'LUSC']\n",
    "df = df.T\n",
    "df.drop([\"ptype\",\"sample_type_id\", \"sample_type\", \"_primary_disease\"], inplace = True)\t\n",
    "\n",
    "# Plot correlation heatmap of missingness\n",
    "msno.matrix(df)"
   ]
  },
  {
   "cell_type": "code",
   "execution_count": null,
   "metadata": {},
   "outputs": [],
   "source": [
    "hccdb"
   ]
  },
  {
   "cell_type": "code",
   "execution_count": null,
   "metadata": {},
   "outputs": [],
   "source": [
    "import missingno as msno  # # pip install missingno\n",
    "\n",
    "df = hccdb.T\n",
    "df = df[df[\"ptype\"] == \"HCCDB-1\"]\n",
    "df = df.T\n",
    "df.drop([\"ptype\"], inplace = True)\n",
    "\n",
    "# Plot correlation heatmap of missingness\n",
    "msno.matrix(df)"
   ]
  },
  {
   "cell_type": "code",
   "execution_count": null,
   "metadata": {},
   "outputs": [],
   "source": [
    "df"
   ]
  },
  {
   "cell_type": "code",
   "execution_count": null,
   "metadata": {},
   "outputs": [],
   "source": [
    "gene_set = pd.read_csv(\"./data/oxstress genes.csv\", index_col=None, header= 0)\n",
    "gene_set = gene_set['Review v3'].dropna().tolist()\n",
    "\n",
    "targets = list(set([\"G6PD\", \"RRM2B\"] +  gene_set))\n",
    "\n",
    "df.loc[targets]"
   ]
  },
  {
   "cell_type": "code",
   "execution_count": null,
   "metadata": {},
   "outputs": [],
   "source": [
    "import missingno as msno  # # pip install missingno\n",
    "\n",
    "df = hccdb.T\n",
    "df = df[df[\"ptype\"] == \"HCCDB-3\"]\n",
    "df = df.T\n",
    "df.drop([\"ptype\"], inplace = True)\n",
    "\n",
    "# Plot correlation heatmap of missingness\n",
    "msno.matrix(df)"
   ]
  },
  {
   "cell_type": "code",
   "execution_count": null,
   "metadata": {},
   "outputs": [],
   "source": [
    "import missingno as msno  # # pip install missingno\n",
    "\n",
    "df = hccdb.T\n",
    "df = df[df[\"ptype\"] == \"HCCDB-4\"]\n",
    "df = df.T\n",
    "df.drop([\"ptype\"], inplace = True)\n",
    "\n",
    "# Plot correlation heatmap of missingness\n",
    "msno.matrix(df)"
   ]
  },
  {
   "cell_type": "code",
   "execution_count": null,
   "metadata": {},
   "outputs": [],
   "source": [
    "import missingno as msno  # # pip install missingno\n",
    "\n",
    "df = hccdb.T\n",
    "df = df[df[\"ptype\"] == \"HCCDB-18\"]\n",
    "df = df.T\n",
    "df.drop([\"ptype\"], inplace = True)\n",
    "\n",
    "# Plot correlation heatmap of missingness\n",
    "msno.matrix(df)"
   ]
  },
  {
   "attachments": {},
   "cell_type": "markdown",
   "metadata": {},
   "source": [
    "# single gene screen"
   ]
  },
  {
   "cell_type": "code",
   "execution_count": null,
   "metadata": {},
   "outputs": [],
   "source": [
    "def process_data_gene_comparisons(df, targets, y_var_names, pheno_filtered=None):\n",
    "\n",
    "    # subset to get relevant genes\n",
    "    df_filtered = df.loc[targets]\n",
    "    # print(df_filtered)\n",
    "    print(df_filtered.isnull().values.any())\n",
    "\n",
    "    # check for nan values\n",
    "    na_filter = df_filtered.isnull().any()\n",
    "    na_ls = na_filter[na_filter == True].index.to_list()\n",
    "    print(na_ls)\n",
    "    \n",
    "    # impute nan values\n",
    "    mean_ls = df_filtered.mean()\n",
    "    for na_col in na_ls:\n",
    "        df_filtered[na_col] = df_filtered[na_col].fillna(mean_ls[na_col])\n",
    "    \n",
    "    # df_filtered = df\n",
    "    print(df_filtered.isnull().values.any())\n",
    "    \n",
    "    df_filtered = df_filtered.T # patients x genes\n",
    "    df_filtered = df_filtered.astype(np.float64)\n",
    "\n",
    "    # scale numerical data\n",
    "    df_filtered = np.log10(df_filtered+1)\n",
    "\n",
    "    # for each sequenced gene were rescaled to set the median equal to 1\n",
    "    df_filtered=(df_filtered-df_filtered.median())/(df_filtered.std()+1)\n",
    "\n",
    "    data = df_filtered   \n",
    "\n",
    "    # # take only nrf2 target genes\n",
    "    # y_var_gene_set = data[y_var_names]\n",
    "    # data.drop(y_var_names, inplace = True, axis = 1)\n",
    "    # y_var_gene_set[\"composite_score\"] = y_var_gene_set.mean(axis = 1)\n",
    "    # data = pd.concat([data, y_var_gene_set], axis = 1) # patients x genes \n",
    "    \n",
    "    return data\n"
   ]
  },
  {
   "cell_type": "code",
   "execution_count": null,
   "metadata": {},
   "outputs": [],
   "source": [
    "# single gene screen\n",
    "\n",
    "gene_set = pd.read_csv(\"./data/oxstress genes.csv\", index_col=None, header= 0)\n",
    "gene_set = gene_set['NRF2 v3'].dropna().tolist()\n",
    "\n",
    "targets = list(set([\"G6PD\", \"RRM2B\"] +  gene_set))\n",
    "\n",
    "r_all =[]\n",
    "p_all = []\n",
    "\n",
    "databases = ['DBLC', 'SKCM', 'HNSC', 'PRAD', 'PAAD', 'SARC', \n",
    "             'BRCA', 'UCS', 'ESCA', 'STAD', 'LAML', 'OV' ] # , , 'PANCAN'\n",
    "\n",
    "genes =['CAT', 'PRDX1', 'PRDX6', 'GPX2', 'GSR', \n",
    "        'SLC6A9', 'TXN', 'SRXN1', 'G6PD', 'IDH1', \n",
    "        'ME1', 'PGD', 'AKR1B10', 'AKR1C1', 'ALDH3A1', \n",
    "        'CBR1', 'EPHX1', 'NQO1', 'NQO2', 'PTGR1', \n",
    "        'UGT1A6', 'GSTA1', 'GSTA2', 'GSTA3', 'GSTA4', \n",
    "        'GSTA5', 'GSTM1', 'GSTM2', 'GSTM3', 'GSTP1' ]\n",
    "\n",
    "for db in databases:\n",
    "\n",
    "    # load data\n",
    "    df = data[data[\"ptype\"] == db]\n",
    "    df = df.T # genes x patients\n",
    "    df.drop([\"ptype\",\"sample_type_id\", \"sample_type\", \"_primary_disease\"], inplace = True)\n",
    "\n",
    "    # define subplot grid\n",
    "    fig, axs = plt.subplots(5, 6, figsize=(50, 30))\n",
    "    plt.subplots_adjust(hspace=0.6, wspace = 0.4)\n",
    "    fig.suptitle('Single gene comparison ' + db + \" (n = \" + str(df.shape[1]) + \")\",fontsize = 40)\n",
    "\n",
    "    rtemp = [db]\n",
    "    ptemp = [db]\n",
    "    print(db)\n",
    "    \n",
    "    for g, ax in zip(genes, axs.ravel()):\n",
    "        print(g)\n",
    "        data_new = process_data_gene_comparisons(df, targets, gene_set, pheno_filtered=None)\n",
    "        r,p=r, p = analyse(data_new, fig, \"RRM2B vs \" + g , ax, 'RRM2B vs genes' + db + '.png', x_label = \"RRM2B\", y_label = g, x_target = 'RRM2B', y_target = g )\n",
    "        rtemp.append(r)\n",
    "        ptemp.append(p)\n",
    "\n",
    "    r_all.append(rtemp)\n",
    "    p_all.append(ptemp)\n",
    "    \n",
    "print(\"done\")\n",
    "\n",
    "df_r = pd.DataFrame(r_all, columns = [\"database\"] + genes)\n",
    "df_p = pd.DataFrame(p_all, columns = [\"database\"] + genes)\n",
    "df_r.to_csv(\"r values.csv\")\n",
    "df_p.to_csv(\"p values.csv\")\n"
   ]
  },
  {
   "cell_type": "code",
   "execution_count": null,
   "metadata": {},
   "outputs": [],
   "source": [
    "# single gene screen\n",
    "# RRM2B vs NRF2 genes\n",
    "\n",
    "gene_set = pd.read_csv(\"./data/oxstress genes.csv\", index_col=None, header= 0)\n",
    "x_set = gene_set['p53 new'].dropna().tolist()\n",
    "y_set = gene_set['NRF2 v3'].dropna().tolist()\n",
    "\n",
    "targets = list(set([\"G6PD\", \"RRM2B\"] +  x_set + y_set))\n",
    "\n",
    "r_all =[]\n",
    "p_all = []\n",
    "\n",
    "databases = ['HNSC', 'SARC', 'LUSC', 'UCS', 'STAD', 'LAML', 'PRAD', 'PAAD', 'BRCA'] # , , 'PANCAN'\n",
    "\n",
    "\n",
    "genes =['CAT', 'PRDX1', 'PRDX6', 'GPX2', 'GSR', \n",
    "        'SLC6A9', 'TXN', 'SRXN1', 'G6PD', 'IDH1', \n",
    "        'ME1', 'PGD', 'AKR1B10', 'AKR1C1', 'ALDH3A1', \n",
    "        'CBR1', 'EPHX1', 'NQO1', 'NQO2', 'PTGR1', \n",
    "        'UGT1A6', 'GSTA1', 'GSTA2', 'GSTA3', 'GSTA4', \n",
    "        'GSTA5', 'GSTM1', 'GSTM2', 'GSTM3', 'GSTP1' ]\n",
    "\n",
    "for db in databases:\n",
    "    \n",
    "    # load data\n",
    "    df = data[data[\"ptype\"] == db]\n",
    "    df = df.T # genes x patients\n",
    "    df.drop([\"ptype\",\"sample_type_id\", \"sample_type\", \"_primary_disease\"], inplace = True)\n",
    "\n",
    "    # define subplot grid\n",
    "    fig, axs = plt.subplots(5, 6, figsize=(50, 30))\n",
    "    plt.subplots_adjust(hspace=0.6, wspace = 0.4)\n",
    "    fig.suptitle('Single gene comparison ' + db + \" (n = \" + str(df.shape[1]) + \")\",fontsize = 40)\n",
    "\n",
    "    rtemp = [db]\n",
    "    ptemp = [db]\n",
    "    print(db)\n",
    "    \n",
    "    for g, ax in zip(genes, axs.ravel()):\n",
    "        try:\n",
    "            print(g)\n",
    "            data_new = process_data(df, targets, x_var_names = [\"RRM2B\"], y_var_names = None, pheno_filtered=None)\n",
    "            r,p=r, p = analyse(data_new, fig, \"RRM2B vs \" + g , ax, 'RRM2B-genes-selected' + db + '.png', x_label = \"RRM2B\", y_label = g, x_target = 'RRM2B', y_target = g )\n",
    "            rtemp.append(r)\n",
    "            ptemp.append(p)\n",
    "\n",
    "        except KeyError:\n",
    "            print(\"key error\")\n",
    "            continue\n",
    "\n",
    "    r_all.append(rtemp)\n",
    "    p_all.append(ptemp)\n",
    "    \n",
    "print(\"done\")\n",
    "\n",
    "df_r = pd.DataFrame(r_all, columns = [\"database\"] + genes)\n",
    "df_p = pd.DataFrame(p_all, columns = [\"database\"] + genes)\n",
    "df_r.to_csv(\"r values RRM2B-genes-selected.csv\")\n",
    "df_p.to_csv(\"p values RRM2B-genes-selected.csv\")\n"
   ]
  },
  {
   "cell_type": "code",
   "execution_count": null,
   "metadata": {},
   "outputs": [],
   "source": [
    "# single gene screen\n",
    "# p53 sig vs NRF2 genes\n",
    "\n",
    "gene_set = pd.read_csv(\"./data/oxstress genes.csv\", index_col=None, header= 0)\n",
    "x_set = gene_set['p53 new'].dropna().tolist()\n",
    "y_set = gene_set['NRF2 v3'].dropna().tolist()\n",
    "\n",
    "targets = list(set([\"G6PD\", \"RRM2B\"] +  x_set + y_set))\n",
    "\n",
    "r_all =[]\n",
    "p_all = []\n",
    "\n",
    "databases = ['HNSC', 'SARC', 'LUSC', 'UCS', 'STAD', 'LAML', 'PRAD', 'PAAD', 'BRCA'] # , , 'PANCAN'\n",
    "\n",
    "\n",
    "genes =['CAT', 'PRDX1', 'PRDX6', 'GPX2', 'GSR', \n",
    "        'SLC6A9', 'TXN', 'SRXN1', 'G6PD', 'IDH1', \n",
    "        'ME1', 'PGD', 'AKR1B10', 'AKR1C1', 'ALDH3A1', \n",
    "        'CBR1', 'EPHX1', 'NQO1', 'NQO2', 'PTGR1', \n",
    "        'UGT1A6', 'GSTA1', 'GSTA2', 'GSTA3', 'GSTA4', \n",
    "        'GSTA5', 'GSTM1', 'GSTM2', 'GSTM3', 'GSTP1' ]\n",
    "\n",
    "for db in databases:\n",
    "\n",
    "    # load data\n",
    "    df = data[data[\"ptype\"] == db]\n",
    "    df = df.T # genes x patients\n",
    "    df.drop([\"ptype\",\"sample_type_id\", \"sample_type\", \"_primary_disease\"], inplace = True)\n",
    "\n",
    "    # define subplot grid\n",
    "    fig, axs = plt.subplots(5, 6, figsize=(50, 30))\n",
    "    plt.subplots_adjust(hspace=0.6, wspace = 0.4)\n",
    "    fig.suptitle('Single gene comparison ' + db + \" (n = \" + str(df.shape[1]) + \")\",fontsize = 40)\n",
    "\n",
    "    rtemp = [db]\n",
    "    ptemp = [db]\n",
    "    print(db)\n",
    "    \n",
    "    for g, ax in zip(genes, axs.ravel()):\n",
    "        try:\n",
    "            print(g)\n",
    "            data_new = process_data(df, targets, x_var_names = x_set, y_var_names = None, pheno_filtered=None)\n",
    "            r,p=r, p = analyse(data_new, fig, \"p53 sig vs \" + g , ax, 'p53sig-genes-selected' + db + '.png', x_label = \"p53 signature\", y_label = g, x_target = 'x_composite_score', y_target = g )\n",
    "            rtemp.append(r)\n",
    "            ptemp.append(p)\n",
    "        except KeyError:\n",
    "            print(\"key error\")\n",
    "            continue\n",
    "\n",
    "    r_all.append(rtemp)\n",
    "    p_all.append(ptemp)\n",
    "    \n",
    "print(\"done\")\n",
    "\n",
    "df_r = pd.DataFrame(r_all, columns = [\"database\"] + genes)\n",
    "df_p = pd.DataFrame(p_all, columns = [\"database\"] + genes)\n",
    "df_r.to_csv(\"r values p53sig-genes-selected.csv\")\n",
    "df_p.to_csv(\"p values p53sig-genes-selected.csv\")\n"
   ]
  },
  {
   "cell_type": "code",
   "execution_count": null,
   "metadata": {},
   "outputs": [],
   "source": [
    "import missingno as msno  # # pip install missingno\n",
    "\n",
    "# Plot correlation heatmap of missingness\n",
    "msno.matrix(data)\n"
   ]
  },
  {
   "cell_type": "code",
   "execution_count": null,
   "metadata": {},
   "outputs": [],
   "source": []
  },
  {
   "attachments": {},
   "cell_type": "markdown",
   "metadata": {},
   "source": [
    "# Texting NRF2 gene sets"
   ]
  },
  {
   "cell_type": "code",
   "execution_count": 26,
   "metadata": {},
   "outputs": [
    {
     "name": "stdout",
     "output_type": "stream",
     "text": [
      "HCCDB-1\n",
      "[]\n",
      "[]\n"
     ]
    },
    {
     "name": "stderr",
     "output_type": "stream",
     "text": [
      "/Users/shanghongsim/Documents/GitHub/HU-ATRi-Code-Repository/analysis.py:76: SettingWithCopyWarning: \n",
      "A value is trying to be set on a copy of a slice from a DataFrame.\n",
      "Try using .loc[row_indexer,col_indexer] = value instead\n",
      "\n",
      "See the caveats in the documentation: https://pandas.pydata.org/pandas-docs/stable/user_guide/indexing.html#returning-a-view-versus-a-copy\n",
      "  x_var_gene_set[\"x_composite_score\"] = x_var_gene_set.mean(axis = 1)\n",
      "/Users/shanghongsim/Documents/GitHub/HU-ATRi-Code-Repository/analysis.py:85: SettingWithCopyWarning: \n",
      "A value is trying to be set on a copy of a slice from a DataFrame.\n",
      "Try using .loc[row_indexer,col_indexer] = value instead\n",
      "\n",
      "See the caveats in the documentation: https://pandas.pydata.org/pandas-docs/stable/user_guide/indexing.html#returning-a-view-versus-a-copy\n",
      "  y_var_gene_set[\"y_composite_score\"]= y_var_gene_set.mean(axis = 1)\n"
     ]
    },
    {
     "data": {
      "image/png": "[encoded data removed]",
      "text/plain": [
       "<Figure size 4320x2880 with 48 Axes>"
      ]
     },
     "metadata": {},
     "output_type": "display_data"
    },
    {
     "name": "stdout",
     "output_type": "stream",
     "text": [
      "HCCDB-3\n",
      "[]\n",
      "[]\n"
     ]
    },
    {
     "name": "stderr",
     "output_type": "stream",
     "text": [
      "/Users/shanghongsim/Documents/GitHub/HU-ATRi-Code-Repository/analysis.py:76: SettingWithCopyWarning: \n",
      "A value is trying to be set on a copy of a slice from a DataFrame.\n",
      "Try using .loc[row_indexer,col_indexer] = value instead\n",
      "\n",
      "See the caveats in the documentation: https://pandas.pydata.org/pandas-docs/stable/user_guide/indexing.html#returning-a-view-versus-a-copy\n",
      "  x_var_gene_set[\"x_composite_score\"] = x_var_gene_set.mean(axis = 1)\n",
      "/Users/shanghongsim/Documents/GitHub/HU-ATRi-Code-Repository/analysis.py:85: SettingWithCopyWarning: \n",
      "A value is trying to be set on a copy of a slice from a DataFrame.\n",
      "Try using .loc[row_indexer,col_indexer] = value instead\n",
      "\n",
      "See the caveats in the documentation: https://pandas.pydata.org/pandas-docs/stable/user_guide/indexing.html#returning-a-view-versus-a-copy\n",
      "  y_var_gene_set[\"y_composite_score\"]= y_var_gene_set.mean(axis = 1)\n"
     ]
    },
    {
     "name": "stdout",
     "output_type": "stream",
     "text": [
      "HCCDB-4\n",
      "[]\n",
      "[]\n"
     ]
    },
    {
     "name": "stderr",
     "output_type": "stream",
     "text": [
      "/Users/shanghongsim/Documents/GitHub/HU-ATRi-Code-Repository/analysis.py:76: SettingWithCopyWarning: \n",
      "A value is trying to be set on a copy of a slice from a DataFrame.\n",
      "Try using .loc[row_indexer,col_indexer] = value instead\n",
      "\n",
      "See the caveats in the documentation: https://pandas.pydata.org/pandas-docs/stable/user_guide/indexing.html#returning-a-view-versus-a-copy\n",
      "  x_var_gene_set[\"x_composite_score\"] = x_var_gene_set.mean(axis = 1)\n",
      "/Users/shanghongsim/Documents/GitHub/HU-ATRi-Code-Repository/analysis.py:85: SettingWithCopyWarning: \n",
      "A value is trying to be set on a copy of a slice from a DataFrame.\n",
      "Try using .loc[row_indexer,col_indexer] = value instead\n",
      "\n",
      "See the caveats in the documentation: https://pandas.pydata.org/pandas-docs/stable/user_guide/indexing.html#returning-a-view-versus-a-copy\n",
      "  y_var_gene_set[\"y_composite_score\"]= y_var_gene_set.mean(axis = 1)\n"
     ]
    },
    {
     "name": "stdout",
     "output_type": "stream",
     "text": [
      "HCCDB-8\n",
      "[]\n",
      "[]\n"
     ]
    },
    {
     "name": "stderr",
     "output_type": "stream",
     "text": [
      "/Users/shanghongsim/Documents/GitHub/HU-ATRi-Code-Repository/analysis.py:76: SettingWithCopyWarning: \n",
      "A value is trying to be set on a copy of a slice from a DataFrame.\n",
      "Try using .loc[row_indexer,col_indexer] = value instead\n",
      "\n",
      "See the caveats in the documentation: https://pandas.pydata.org/pandas-docs/stable/user_guide/indexing.html#returning-a-view-versus-a-copy\n",
      "  x_var_gene_set[\"x_composite_score\"] = x_var_gene_set.mean(axis = 1)\n",
      "/Users/shanghongsim/Documents/GitHub/HU-ATRi-Code-Repository/analysis.py:85: SettingWithCopyWarning: \n",
      "A value is trying to be set on a copy of a slice from a DataFrame.\n",
      "Try using .loc[row_indexer,col_indexer] = value instead\n",
      "\n",
      "See the caveats in the documentation: https://pandas.pydata.org/pandas-docs/stable/user_guide/indexing.html#returning-a-view-versus-a-copy\n",
      "  y_var_gene_set[\"y_composite_score\"]= y_var_gene_set.mean(axis = 1)\n"
     ]
    },
    {
     "name": "stdout",
     "output_type": "stream",
     "text": [
      "HCCDB-9\n",
      "[]\n",
      "[]\n"
     ]
    },
    {
     "name": "stderr",
     "output_type": "stream",
     "text": [
      "/Users/shanghongsim/Documents/GitHub/HU-ATRi-Code-Repository/analysis.py:76: SettingWithCopyWarning: \n",
      "A value is trying to be set on a copy of a slice from a DataFrame.\n",
      "Try using .loc[row_indexer,col_indexer] = value instead\n",
      "\n",
      "See the caveats in the documentation: https://pandas.pydata.org/pandas-docs/stable/user_guide/indexing.html#returning-a-view-versus-a-copy\n",
      "  x_var_gene_set[\"x_composite_score\"] = x_var_gene_set.mean(axis = 1)\n",
      "/Users/shanghongsim/Documents/GitHub/HU-ATRi-Code-Repository/analysis.py:85: SettingWithCopyWarning: \n",
      "A value is trying to be set on a copy of a slice from a DataFrame.\n",
      "Try using .loc[row_indexer,col_indexer] = value instead\n",
      "\n",
      "See the caveats in the documentation: https://pandas.pydata.org/pandas-docs/stable/user_guide/indexing.html#returning-a-view-versus-a-copy\n",
      "  y_var_gene_set[\"y_composite_score\"]= y_var_gene_set.mean(axis = 1)\n"
     ]
    },
    {
     "name": "stdout",
     "output_type": "stream",
     "text": [
      "HCCDB-11\n",
      "[]\n",
      "[]\n"
     ]
    },
    {
     "name": "stderr",
     "output_type": "stream",
     "text": [
      "/Users/shanghongsim/Documents/GitHub/HU-ATRi-Code-Repository/analysis.py:76: SettingWithCopyWarning: \n",
      "A value is trying to be set on a copy of a slice from a DataFrame.\n",
      "Try using .loc[row_indexer,col_indexer] = value instead\n",
      "\n",
      "See the caveats in the documentation: https://pandas.pydata.org/pandas-docs/stable/user_guide/indexing.html#returning-a-view-versus-a-copy\n",
      "  x_var_gene_set[\"x_composite_score\"] = x_var_gene_set.mean(axis = 1)\n",
      "/Users/shanghongsim/Documents/GitHub/HU-ATRi-Code-Repository/analysis.py:85: SettingWithCopyWarning: \n",
      "A value is trying to be set on a copy of a slice from a DataFrame.\n",
      "Try using .loc[row_indexer,col_indexer] = value instead\n",
      "\n",
      "See the caveats in the documentation: https://pandas.pydata.org/pandas-docs/stable/user_guide/indexing.html#returning-a-view-versus-a-copy\n",
      "  y_var_gene_set[\"y_composite_score\"]= y_var_gene_set.mean(axis = 1)\n"
     ]
    },
    {
     "name": "stdout",
     "output_type": "stream",
     "text": [
      "HCCDB-12\n",
      "[]\n",
      "[]\n"
     ]
    },
    {
     "name": "stderr",
     "output_type": "stream",
     "text": [
      "/Users/shanghongsim/Documents/GitHub/HU-ATRi-Code-Repository/analysis.py:76: SettingWithCopyWarning: \n",
      "A value is trying to be set on a copy of a slice from a DataFrame.\n",
      "Try using .loc[row_indexer,col_indexer] = value instead\n",
      "\n",
      "See the caveats in the documentation: https://pandas.pydata.org/pandas-docs/stable/user_guide/indexing.html#returning-a-view-versus-a-copy\n",
      "  x_var_gene_set[\"x_composite_score\"] = x_var_gene_set.mean(axis = 1)\n",
      "/Users/shanghongsim/Documents/GitHub/HU-ATRi-Code-Repository/analysis.py:85: SettingWithCopyWarning: \n",
      "A value is trying to be set on a copy of a slice from a DataFrame.\n",
      "Try using .loc[row_indexer,col_indexer] = value instead\n",
      "\n",
      "See the caveats in the documentation: https://pandas.pydata.org/pandas-docs/stable/user_guide/indexing.html#returning-a-view-versus-a-copy\n",
      "  y_var_gene_set[\"y_composite_score\"]= y_var_gene_set.mean(axis = 1)\n"
     ]
    },
    {
     "name": "stdout",
     "output_type": "stream",
     "text": [
      "HCCDB-13\n",
      "[]\n",
      "[]\n"
     ]
    },
    {
     "name": "stderr",
     "output_type": "stream",
     "text": [
      "/Users/shanghongsim/Documents/GitHub/HU-ATRi-Code-Repository/analysis.py:76: SettingWithCopyWarning: \n",
      "A value is trying to be set on a copy of a slice from a DataFrame.\n",
      "Try using .loc[row_indexer,col_indexer] = value instead\n",
      "\n",
      "See the caveats in the documentation: https://pandas.pydata.org/pandas-docs/stable/user_guide/indexing.html#returning-a-view-versus-a-copy\n",
      "  x_var_gene_set[\"x_composite_score\"] = x_var_gene_set.mean(axis = 1)\n",
      "/Users/shanghongsim/Documents/GitHub/HU-ATRi-Code-Repository/analysis.py:85: SettingWithCopyWarning: \n",
      "A value is trying to be set on a copy of a slice from a DataFrame.\n",
      "Try using .loc[row_indexer,col_indexer] = value instead\n",
      "\n",
      "See the caveats in the documentation: https://pandas.pydata.org/pandas-docs/stable/user_guide/indexing.html#returning-a-view-versus-a-copy\n",
      "  y_var_gene_set[\"y_composite_score\"]= y_var_gene_set.mean(axis = 1)\n"
     ]
    },
    {
     "name": "stdout",
     "output_type": "stream",
     "text": [
      "HCCDB-14\n",
      "[]\n",
      "[]\n"
     ]
    },
    {
     "name": "stderr",
     "output_type": "stream",
     "text": [
      "/Users/shanghongsim/Documents/GitHub/HU-ATRi-Code-Repository/analysis.py:76: SettingWithCopyWarning: \n",
      "A value is trying to be set on a copy of a slice from a DataFrame.\n",
      "Try using .loc[row_indexer,col_indexer] = value instead\n",
      "\n",
      "See the caveats in the documentation: https://pandas.pydata.org/pandas-docs/stable/user_guide/indexing.html#returning-a-view-versus-a-copy\n",
      "  x_var_gene_set[\"x_composite_score\"] = x_var_gene_set.mean(axis = 1)\n",
      "/Users/shanghongsim/Documents/GitHub/HU-ATRi-Code-Repository/analysis.py:85: SettingWithCopyWarning: \n",
      "A value is trying to be set on a copy of a slice from a DataFrame.\n",
      "Try using .loc[row_indexer,col_indexer] = value instead\n",
      "\n",
      "See the caveats in the documentation: https://pandas.pydata.org/pandas-docs/stable/user_guide/indexing.html#returning-a-view-versus-a-copy\n",
      "  y_var_gene_set[\"y_composite_score\"]= y_var_gene_set.mean(axis = 1)\n"
     ]
    },
    {
     "name": "stdout",
     "output_type": "stream",
     "text": [
      "HCCDB-16\n",
      "[]\n",
      "[]\n"
     ]
    },
    {
     "name": "stderr",
     "output_type": "stream",
     "text": [
      "/Users/shanghongsim/Documents/GitHub/HU-ATRi-Code-Repository/analysis.py:76: SettingWithCopyWarning: \n",
      "A value is trying to be set on a copy of a slice from a DataFrame.\n",
      "Try using .loc[row_indexer,col_indexer] = value instead\n",
      "\n",
      "See the caveats in the documentation: https://pandas.pydata.org/pandas-docs/stable/user_guide/indexing.html#returning-a-view-versus-a-copy\n",
      "  x_var_gene_set[\"x_composite_score\"] = x_var_gene_set.mean(axis = 1)\n",
      "/Users/shanghongsim/Documents/GitHub/HU-ATRi-Code-Repository/analysis.py:85: SettingWithCopyWarning: \n",
      "A value is trying to be set on a copy of a slice from a DataFrame.\n",
      "Try using .loc[row_indexer,col_indexer] = value instead\n",
      "\n",
      "See the caveats in the documentation: https://pandas.pydata.org/pandas-docs/stable/user_guide/indexing.html#returning-a-view-versus-a-copy\n",
      "  y_var_gene_set[\"y_composite_score\"]= y_var_gene_set.mean(axis = 1)\n"
     ]
    },
    {
     "name": "stdout",
     "output_type": "stream",
     "text": [
      "HCCDB-17\n",
      "[]\n",
      "[]\n"
     ]
    },
    {
     "name": "stderr",
     "output_type": "stream",
     "text": [
      "/Users/shanghongsim/Documents/GitHub/HU-ATRi-Code-Repository/analysis.py:76: SettingWithCopyWarning: \n",
      "A value is trying to be set on a copy of a slice from a DataFrame.\n",
      "Try using .loc[row_indexer,col_indexer] = value instead\n",
      "\n",
      "See the caveats in the documentation: https://pandas.pydata.org/pandas-docs/stable/user_guide/indexing.html#returning-a-view-versus-a-copy\n",
      "  x_var_gene_set[\"x_composite_score\"] = x_var_gene_set.mean(axis = 1)\n",
      "/Users/shanghongsim/Documents/GitHub/HU-ATRi-Code-Repository/analysis.py:85: SettingWithCopyWarning: \n",
      "A value is trying to be set on a copy of a slice from a DataFrame.\n",
      "Try using .loc[row_indexer,col_indexer] = value instead\n",
      "\n",
      "See the caveats in the documentation: https://pandas.pydata.org/pandas-docs/stable/user_guide/indexing.html#returning-a-view-versus-a-copy\n",
      "  y_var_gene_set[\"y_composite_score\"]= y_var_gene_set.mean(axis = 1)\n"
     ]
    },
    {
     "name": "stdout",
     "output_type": "stream",
     "text": [
      "HCCDB-18\n",
      "[]\n",
      "[]\n"
     ]
    },
    {
     "name": "stderr",
     "output_type": "stream",
     "text": [
      "/Users/shanghongsim/Documents/GitHub/HU-ATRi-Code-Repository/analysis.py:76: SettingWithCopyWarning: \n",
      "A value is trying to be set on a copy of a slice from a DataFrame.\n",
      "Try using .loc[row_indexer,col_indexer] = value instead\n",
      "\n",
      "See the caveats in the documentation: https://pandas.pydata.org/pandas-docs/stable/user_guide/indexing.html#returning-a-view-versus-a-copy\n",
      "  x_var_gene_set[\"x_composite_score\"] = x_var_gene_set.mean(axis = 1)\n",
      "/Users/shanghongsim/Documents/GitHub/HU-ATRi-Code-Repository/analysis.py:85: SettingWithCopyWarning: \n",
      "A value is trying to be set on a copy of a slice from a DataFrame.\n",
      "Try using .loc[row_indexer,col_indexer] = value instead\n",
      "\n",
      "See the caveats in the documentation: https://pandas.pydata.org/pandas-docs/stable/user_guide/indexing.html#returning-a-view-versus-a-copy\n",
      "  y_var_gene_set[\"y_composite_score\"]= y_var_gene_set.mean(axis = 1)\n"
     ]
    },
    {
     "name": "stdout",
     "output_type": "stream",
     "text": [
      "ACC\n",
      "[]\n",
      "[]\n"
     ]
    },
    {
     "name": "stderr",
     "output_type": "stream",
     "text": [
      "/Users/shanghongsim/Documents/GitHub/HU-ATRi-Code-Repository/analysis.py:76: SettingWithCopyWarning: \n",
      "A value is trying to be set on a copy of a slice from a DataFrame.\n",
      "Try using .loc[row_indexer,col_indexer] = value instead\n",
      "\n",
      "See the caveats in the documentation: https://pandas.pydata.org/pandas-docs/stable/user_guide/indexing.html#returning-a-view-versus-a-copy\n",
      "  x_var_gene_set[\"x_composite_score\"] = x_var_gene_set.mean(axis = 1)\n",
      "/Users/shanghongsim/Documents/GitHub/HU-ATRi-Code-Repository/analysis.py:85: SettingWithCopyWarning: \n",
      "A value is trying to be set on a copy of a slice from a DataFrame.\n",
      "Try using .loc[row_indexer,col_indexer] = value instead\n",
      "\n",
      "See the caveats in the documentation: https://pandas.pydata.org/pandas-docs/stable/user_guide/indexing.html#returning-a-view-versus-a-copy\n",
      "  y_var_gene_set[\"y_composite_score\"]= y_var_gene_set.mean(axis = 1)\n"
     ]
    },
    {
     "name": "stdout",
     "output_type": "stream",
     "text": [
      "BLCA\n",
      "[]\n",
      "[]\n"
     ]
    },
    {
     "name": "stderr",
     "output_type": "stream",
     "text": [
      "/Users/shanghongsim/Documents/GitHub/HU-ATRi-Code-Repository/analysis.py:76: SettingWithCopyWarning: \n",
      "A value is trying to be set on a copy of a slice from a DataFrame.\n",
      "Try using .loc[row_indexer,col_indexer] = value instead\n",
      "\n",
      "See the caveats in the documentation: https://pandas.pydata.org/pandas-docs/stable/user_guide/indexing.html#returning-a-view-versus-a-copy\n",
      "  x_var_gene_set[\"x_composite_score\"] = x_var_gene_set.mean(axis = 1)\n",
      "/Users/shanghongsim/Documents/GitHub/HU-ATRi-Code-Repository/analysis.py:85: SettingWithCopyWarning: \n",
      "A value is trying to be set on a copy of a slice from a DataFrame.\n",
      "Try using .loc[row_indexer,col_indexer] = value instead\n",
      "\n",
      "See the caveats in the documentation: https://pandas.pydata.org/pandas-docs/stable/user_guide/indexing.html#returning-a-view-versus-a-copy\n",
      "  y_var_gene_set[\"y_composite_score\"]= y_var_gene_set.mean(axis = 1)\n"
     ]
    },
    {
     "name": "stdout",
     "output_type": "stream",
     "text": [
      "DBLC\n",
      "[]\n",
      "[]\n"
     ]
    },
    {
     "name": "stderr",
     "output_type": "stream",
     "text": [
      "/Users/shanghongsim/Documents/GitHub/HU-ATRi-Code-Repository/analysis.py:76: SettingWithCopyWarning: \n",
      "A value is trying to be set on a copy of a slice from a DataFrame.\n",
      "Try using .loc[row_indexer,col_indexer] = value instead\n",
      "\n",
      "See the caveats in the documentation: https://pandas.pydata.org/pandas-docs/stable/user_guide/indexing.html#returning-a-view-versus-a-copy\n",
      "  x_var_gene_set[\"x_composite_score\"] = x_var_gene_set.mean(axis = 1)\n",
      "/Users/shanghongsim/Documents/GitHub/HU-ATRi-Code-Repository/analysis.py:85: SettingWithCopyWarning: \n",
      "A value is trying to be set on a copy of a slice from a DataFrame.\n",
      "Try using .loc[row_indexer,col_indexer] = value instead\n",
      "\n",
      "See the caveats in the documentation: https://pandas.pydata.org/pandas-docs/stable/user_guide/indexing.html#returning-a-view-versus-a-copy\n",
      "  y_var_gene_set[\"y_composite_score\"]= y_var_gene_set.mean(axis = 1)\n"
     ]
    },
    {
     "name": "stdout",
     "output_type": "stream",
     "text": [
      "UCEC\n",
      "[]\n",
      "[]\n"
     ]
    },
    {
     "name": "stderr",
     "output_type": "stream",
     "text": [
      "/Users/shanghongsim/Documents/GitHub/HU-ATRi-Code-Repository/analysis.py:76: SettingWithCopyWarning: \n",
      "A value is trying to be set on a copy of a slice from a DataFrame.\n",
      "Try using .loc[row_indexer,col_indexer] = value instead\n",
      "\n",
      "See the caveats in the documentation: https://pandas.pydata.org/pandas-docs/stable/user_guide/indexing.html#returning-a-view-versus-a-copy\n",
      "  x_var_gene_set[\"x_composite_score\"] = x_var_gene_set.mean(axis = 1)\n",
      "/Users/shanghongsim/Documents/GitHub/HU-ATRi-Code-Repository/analysis.py:85: SettingWithCopyWarning: \n",
      "A value is trying to be set on a copy of a slice from a DataFrame.\n",
      "Try using .loc[row_indexer,col_indexer] = value instead\n",
      "\n",
      "See the caveats in the documentation: https://pandas.pydata.org/pandas-docs/stable/user_guide/indexing.html#returning-a-view-versus-a-copy\n",
      "  y_var_gene_set[\"y_composite_score\"]= y_var_gene_set.mean(axis = 1)\n"
     ]
    },
    {
     "name": "stdout",
     "output_type": "stream",
     "text": [
      "SKCM\n",
      "[]\n",
      "[]\n"
     ]
    },
    {
     "name": "stderr",
     "output_type": "stream",
     "text": [
      "/Users/shanghongsim/Documents/GitHub/HU-ATRi-Code-Repository/analysis.py:76: SettingWithCopyWarning: \n",
      "A value is trying to be set on a copy of a slice from a DataFrame.\n",
      "Try using .loc[row_indexer,col_indexer] = value instead\n",
      "\n",
      "See the caveats in the documentation: https://pandas.pydata.org/pandas-docs/stable/user_guide/indexing.html#returning-a-view-versus-a-copy\n",
      "  x_var_gene_set[\"x_composite_score\"] = x_var_gene_set.mean(axis = 1)\n",
      "/Users/shanghongsim/Documents/GitHub/HU-ATRi-Code-Repository/analysis.py:85: SettingWithCopyWarning: \n",
      "A value is trying to be set on a copy of a slice from a DataFrame.\n",
      "Try using .loc[row_indexer,col_indexer] = value instead\n",
      "\n",
      "See the caveats in the documentation: https://pandas.pydata.org/pandas-docs/stable/user_guide/indexing.html#returning-a-view-versus-a-copy\n",
      "  y_var_gene_set[\"y_composite_score\"]= y_var_gene_set.mean(axis = 1)\n"
     ]
    },
    {
     "name": "stdout",
     "output_type": "stream",
     "text": [
      "HNSC\n",
      "[]\n",
      "[]\n"
     ]
    },
    {
     "name": "stderr",
     "output_type": "stream",
     "text": [
      "/Users/shanghongsim/Documents/GitHub/HU-ATRi-Code-Repository/analysis.py:76: SettingWithCopyWarning: \n",
      "A value is trying to be set on a copy of a slice from a DataFrame.\n",
      "Try using .loc[row_indexer,col_indexer] = value instead\n",
      "\n",
      "See the caveats in the documentation: https://pandas.pydata.org/pandas-docs/stable/user_guide/indexing.html#returning-a-view-versus-a-copy\n",
      "  x_var_gene_set[\"x_composite_score\"] = x_var_gene_set.mean(axis = 1)\n",
      "/Users/shanghongsim/Documents/GitHub/HU-ATRi-Code-Repository/analysis.py:85: SettingWithCopyWarning: \n",
      "A value is trying to be set on a copy of a slice from a DataFrame.\n",
      "Try using .loc[row_indexer,col_indexer] = value instead\n",
      "\n",
      "See the caveats in the documentation: https://pandas.pydata.org/pandas-docs/stable/user_guide/indexing.html#returning-a-view-versus-a-copy\n",
      "  y_var_gene_set[\"y_composite_score\"]= y_var_gene_set.mean(axis = 1)\n"
     ]
    },
    {
     "name": "stdout",
     "output_type": "stream",
     "text": [
      "PRAD\n",
      "[]\n",
      "[]\n"
     ]
    },
    {
     "name": "stderr",
     "output_type": "stream",
     "text": [
      "/Users/shanghongsim/Documents/GitHub/HU-ATRi-Code-Repository/analysis.py:76: SettingWithCopyWarning: \n",
      "A value is trying to be set on a copy of a slice from a DataFrame.\n",
      "Try using .loc[row_indexer,col_indexer] = value instead\n",
      "\n",
      "See the caveats in the documentation: https://pandas.pydata.org/pandas-docs/stable/user_guide/indexing.html#returning-a-view-versus-a-copy\n",
      "  x_var_gene_set[\"x_composite_score\"] = x_var_gene_set.mean(axis = 1)\n",
      "/Users/shanghongsim/Documents/GitHub/HU-ATRi-Code-Repository/analysis.py:85: SettingWithCopyWarning: \n",
      "A value is trying to be set on a copy of a slice from a DataFrame.\n",
      "Try using .loc[row_indexer,col_indexer] = value instead\n",
      "\n",
      "See the caveats in the documentation: https://pandas.pydata.org/pandas-docs/stable/user_guide/indexing.html#returning-a-view-versus-a-copy\n",
      "  y_var_gene_set[\"y_composite_score\"]= y_var_gene_set.mean(axis = 1)\n"
     ]
    },
    {
     "name": "stdout",
     "output_type": "stream",
     "text": [
      "KIRP\n",
      "[]\n",
      "[]\n"
     ]
    },
    {
     "name": "stderr",
     "output_type": "stream",
     "text": [
      "/Users/shanghongsim/Documents/GitHub/HU-ATRi-Code-Repository/analysis.py:76: SettingWithCopyWarning: \n",
      "A value is trying to be set on a copy of a slice from a DataFrame.\n",
      "Try using .loc[row_indexer,col_indexer] = value instead\n",
      "\n",
      "See the caveats in the documentation: https://pandas.pydata.org/pandas-docs/stable/user_guide/indexing.html#returning-a-view-versus-a-copy\n",
      "  x_var_gene_set[\"x_composite_score\"] = x_var_gene_set.mean(axis = 1)\n",
      "/Users/shanghongsim/Documents/GitHub/HU-ATRi-Code-Repository/analysis.py:85: SettingWithCopyWarning: \n",
      "A value is trying to be set on a copy of a slice from a DataFrame.\n",
      "Try using .loc[row_indexer,col_indexer] = value instead\n",
      "\n",
      "See the caveats in the documentation: https://pandas.pydata.org/pandas-docs/stable/user_guide/indexing.html#returning-a-view-versus-a-copy\n",
      "  y_var_gene_set[\"y_composite_score\"]= y_var_gene_set.mean(axis = 1)\n"
     ]
    },
    {
     "name": "stdout",
     "output_type": "stream",
     "text": [
      "PAAD\n",
      "[]\n",
      "[]\n"
     ]
    },
    {
     "name": "stderr",
     "output_type": "stream",
     "text": [
      "/Users/shanghongsim/Documents/GitHub/HU-ATRi-Code-Repository/analysis.py:76: SettingWithCopyWarning: \n",
      "A value is trying to be set on a copy of a slice from a DataFrame.\n",
      "Try using .loc[row_indexer,col_indexer] = value instead\n",
      "\n",
      "See the caveats in the documentation: https://pandas.pydata.org/pandas-docs/stable/user_guide/indexing.html#returning-a-view-versus-a-copy\n",
      "  x_var_gene_set[\"x_composite_score\"] = x_var_gene_set.mean(axis = 1)\n",
      "/Users/shanghongsim/Documents/GitHub/HU-ATRi-Code-Repository/analysis.py:85: SettingWithCopyWarning: \n",
      "A value is trying to be set on a copy of a slice from a DataFrame.\n",
      "Try using .loc[row_indexer,col_indexer] = value instead\n",
      "\n",
      "See the caveats in the documentation: https://pandas.pydata.org/pandas-docs/stable/user_guide/indexing.html#returning-a-view-versus-a-copy\n",
      "  y_var_gene_set[\"y_composite_score\"]= y_var_gene_set.mean(axis = 1)\n"
     ]
    },
    {
     "name": "stdout",
     "output_type": "stream",
     "text": [
      "SARC\n",
      "[]\n",
      "[]\n"
     ]
    },
    {
     "name": "stderr",
     "output_type": "stream",
     "text": [
      "/Users/shanghongsim/Documents/GitHub/HU-ATRi-Code-Repository/analysis.py:76: SettingWithCopyWarning: \n",
      "A value is trying to be set on a copy of a slice from a DataFrame.\n",
      "Try using .loc[row_indexer,col_indexer] = value instead\n",
      "\n",
      "See the caveats in the documentation: https://pandas.pydata.org/pandas-docs/stable/user_guide/indexing.html#returning-a-view-versus-a-copy\n",
      "  x_var_gene_set[\"x_composite_score\"] = x_var_gene_set.mean(axis = 1)\n",
      "/Users/shanghongsim/Documents/GitHub/HU-ATRi-Code-Repository/analysis.py:85: SettingWithCopyWarning: \n",
      "A value is trying to be set on a copy of a slice from a DataFrame.\n",
      "Try using .loc[row_indexer,col_indexer] = value instead\n",
      "\n",
      "See the caveats in the documentation: https://pandas.pydata.org/pandas-docs/stable/user_guide/indexing.html#returning-a-view-versus-a-copy\n",
      "  y_var_gene_set[\"y_composite_score\"]= y_var_gene_set.mean(axis = 1)\n"
     ]
    },
    {
     "name": "stdout",
     "output_type": "stream",
     "text": [
      "CESC\n",
      "[]\n",
      "[]\n"
     ]
    },
    {
     "name": "stderr",
     "output_type": "stream",
     "text": [
      "/Users/shanghongsim/Documents/GitHub/HU-ATRi-Code-Repository/analysis.py:76: SettingWithCopyWarning: \n",
      "A value is trying to be set on a copy of a slice from a DataFrame.\n",
      "Try using .loc[row_indexer,col_indexer] = value instead\n",
      "\n",
      "See the caveats in the documentation: https://pandas.pydata.org/pandas-docs/stable/user_guide/indexing.html#returning-a-view-versus-a-copy\n",
      "  x_var_gene_set[\"x_composite_score\"] = x_var_gene_set.mean(axis = 1)\n",
      "/Users/shanghongsim/Documents/GitHub/HU-ATRi-Code-Repository/analysis.py:85: SettingWithCopyWarning: \n",
      "A value is trying to be set on a copy of a slice from a DataFrame.\n",
      "Try using .loc[row_indexer,col_indexer] = value instead\n",
      "\n",
      "See the caveats in the documentation: https://pandas.pydata.org/pandas-docs/stable/user_guide/indexing.html#returning-a-view-versus-a-copy\n",
      "  y_var_gene_set[\"y_composite_score\"]= y_var_gene_set.mean(axis = 1)\n"
     ]
    },
    {
     "name": "stdout",
     "output_type": "stream",
     "text": [
      "COAD\n",
      "[]\n",
      "[]\n"
     ]
    },
    {
     "name": "stderr",
     "output_type": "stream",
     "text": [
      "/Users/shanghongsim/Documents/GitHub/HU-ATRi-Code-Repository/analysis.py:76: SettingWithCopyWarning: \n",
      "A value is trying to be set on a copy of a slice from a DataFrame.\n",
      "Try using .loc[row_indexer,col_indexer] = value instead\n",
      "\n",
      "See the caveats in the documentation: https://pandas.pydata.org/pandas-docs/stable/user_guide/indexing.html#returning-a-view-versus-a-copy\n",
      "  x_var_gene_set[\"x_composite_score\"] = x_var_gene_set.mean(axis = 1)\n",
      "/Users/shanghongsim/Documents/GitHub/HU-ATRi-Code-Repository/analysis.py:85: SettingWithCopyWarning: \n",
      "A value is trying to be set on a copy of a slice from a DataFrame.\n",
      "Try using .loc[row_indexer,col_indexer] = value instead\n",
      "\n",
      "See the caveats in the documentation: https://pandas.pydata.org/pandas-docs/stable/user_guide/indexing.html#returning-a-view-versus-a-copy\n",
      "  y_var_gene_set[\"y_composite_score\"]= y_var_gene_set.mean(axis = 1)\n"
     ]
    },
    {
     "name": "stdout",
     "output_type": "stream",
     "text": [
      "LUSC\n",
      "[]\n",
      "[]\n"
     ]
    },
    {
     "name": "stderr",
     "output_type": "stream",
     "text": [
      "/Users/shanghongsim/Documents/GitHub/HU-ATRi-Code-Repository/analysis.py:76: SettingWithCopyWarning: \n",
      "A value is trying to be set on a copy of a slice from a DataFrame.\n",
      "Try using .loc[row_indexer,col_indexer] = value instead\n",
      "\n",
      "See the caveats in the documentation: https://pandas.pydata.org/pandas-docs/stable/user_guide/indexing.html#returning-a-view-versus-a-copy\n",
      "  x_var_gene_set[\"x_composite_score\"] = x_var_gene_set.mean(axis = 1)\n",
      "/Users/shanghongsim/Documents/GitHub/HU-ATRi-Code-Repository/analysis.py:85: SettingWithCopyWarning: \n",
      "A value is trying to be set on a copy of a slice from a DataFrame.\n",
      "Try using .loc[row_indexer,col_indexer] = value instead\n",
      "\n",
      "See the caveats in the documentation: https://pandas.pydata.org/pandas-docs/stable/user_guide/indexing.html#returning-a-view-versus-a-copy\n",
      "  y_var_gene_set[\"y_composite_score\"]= y_var_gene_set.mean(axis = 1)\n"
     ]
    },
    {
     "name": "stdout",
     "output_type": "stream",
     "text": [
      "READ\n",
      "[]\n",
      "[]\n"
     ]
    },
    {
     "name": "stderr",
     "output_type": "stream",
     "text": [
      "/Users/shanghongsim/Documents/GitHub/HU-ATRi-Code-Repository/analysis.py:76: SettingWithCopyWarning: \n",
      "A value is trying to be set on a copy of a slice from a DataFrame.\n",
      "Try using .loc[row_indexer,col_indexer] = value instead\n",
      "\n",
      "See the caveats in the documentation: https://pandas.pydata.org/pandas-docs/stable/user_guide/indexing.html#returning-a-view-versus-a-copy\n",
      "  x_var_gene_set[\"x_composite_score\"] = x_var_gene_set.mean(axis = 1)\n",
      "/Users/shanghongsim/Documents/GitHub/HU-ATRi-Code-Repository/analysis.py:85: SettingWithCopyWarning: \n",
      "A value is trying to be set on a copy of a slice from a DataFrame.\n",
      "Try using .loc[row_indexer,col_indexer] = value instead\n",
      "\n",
      "See the caveats in the documentation: https://pandas.pydata.org/pandas-docs/stable/user_guide/indexing.html#returning-a-view-versus-a-copy\n",
      "  y_var_gene_set[\"y_composite_score\"]= y_var_gene_set.mean(axis = 1)\n"
     ]
    },
    {
     "name": "stdout",
     "output_type": "stream",
     "text": [
      "KIRC\n",
      "[]\n",
      "[]\n"
     ]
    },
    {
     "name": "stderr",
     "output_type": "stream",
     "text": [
      "/Users/shanghongsim/Documents/GitHub/HU-ATRi-Code-Repository/analysis.py:76: SettingWithCopyWarning: \n",
      "A value is trying to be set on a copy of a slice from a DataFrame.\n",
      "Try using .loc[row_indexer,col_indexer] = value instead\n",
      "\n",
      "See the caveats in the documentation: https://pandas.pydata.org/pandas-docs/stable/user_guide/indexing.html#returning-a-view-versus-a-copy\n",
      "  x_var_gene_set[\"x_composite_score\"] = x_var_gene_set.mean(axis = 1)\n",
      "/Users/shanghongsim/Documents/GitHub/HU-ATRi-Code-Repository/analysis.py:85: SettingWithCopyWarning: \n",
      "A value is trying to be set on a copy of a slice from a DataFrame.\n",
      "Try using .loc[row_indexer,col_indexer] = value instead\n",
      "\n",
      "See the caveats in the documentation: https://pandas.pydata.org/pandas-docs/stable/user_guide/indexing.html#returning-a-view-versus-a-copy\n",
      "  y_var_gene_set[\"y_composite_score\"]= y_var_gene_set.mean(axis = 1)\n"
     ]
    },
    {
     "name": "stdout",
     "output_type": "stream",
     "text": [
      "LIHC\n",
      "[]\n",
      "[]\n"
     ]
    },
    {
     "name": "stderr",
     "output_type": "stream",
     "text": [
      "/Users/shanghongsim/Documents/GitHub/HU-ATRi-Code-Repository/analysis.py:76: SettingWithCopyWarning: \n",
      "A value is trying to be set on a copy of a slice from a DataFrame.\n",
      "Try using .loc[row_indexer,col_indexer] = value instead\n",
      "\n",
      "See the caveats in the documentation: https://pandas.pydata.org/pandas-docs/stable/user_guide/indexing.html#returning-a-view-versus-a-copy\n",
      "  x_var_gene_set[\"x_composite_score\"] = x_var_gene_set.mean(axis = 1)\n",
      "/Users/shanghongsim/Documents/GitHub/HU-ATRi-Code-Repository/analysis.py:85: SettingWithCopyWarning: \n",
      "A value is trying to be set on a copy of a slice from a DataFrame.\n",
      "Try using .loc[row_indexer,col_indexer] = value instead\n",
      "\n",
      "See the caveats in the documentation: https://pandas.pydata.org/pandas-docs/stable/user_guide/indexing.html#returning-a-view-versus-a-copy\n",
      "  y_var_gene_set[\"y_composite_score\"]= y_var_gene_set.mean(axis = 1)\n"
     ]
    },
    {
     "name": "stdout",
     "output_type": "stream",
     "text": [
      "BRCA\n",
      "[]\n",
      "[]\n"
     ]
    },
    {
     "name": "stderr",
     "output_type": "stream",
     "text": [
      "/Users/shanghongsim/Documents/GitHub/HU-ATRi-Code-Repository/analysis.py:76: SettingWithCopyWarning: \n",
      "A value is trying to be set on a copy of a slice from a DataFrame.\n",
      "Try using .loc[row_indexer,col_indexer] = value instead\n",
      "\n",
      "See the caveats in the documentation: https://pandas.pydata.org/pandas-docs/stable/user_guide/indexing.html#returning-a-view-versus-a-copy\n",
      "  x_var_gene_set[\"x_composite_score\"] = x_var_gene_set.mean(axis = 1)\n",
      "/Users/shanghongsim/Documents/GitHub/HU-ATRi-Code-Repository/analysis.py:85: SettingWithCopyWarning: \n",
      "A value is trying to be set on a copy of a slice from a DataFrame.\n",
      "Try using .loc[row_indexer,col_indexer] = value instead\n",
      "\n",
      "See the caveats in the documentation: https://pandas.pydata.org/pandas-docs/stable/user_guide/indexing.html#returning-a-view-versus-a-copy\n",
      "  y_var_gene_set[\"y_composite_score\"]= y_var_gene_set.mean(axis = 1)\n"
     ]
    },
    {
     "name": "stdout",
     "output_type": "stream",
     "text": [
      "OV\n",
      "[]\n",
      "[]\n"
     ]
    },
    {
     "name": "stderr",
     "output_type": "stream",
     "text": [
      "/Users/shanghongsim/Documents/GitHub/HU-ATRi-Code-Repository/analysis.py:76: SettingWithCopyWarning: \n",
      "A value is trying to be set on a copy of a slice from a DataFrame.\n",
      "Try using .loc[row_indexer,col_indexer] = value instead\n",
      "\n",
      "See the caveats in the documentation: https://pandas.pydata.org/pandas-docs/stable/user_guide/indexing.html#returning-a-view-versus-a-copy\n",
      "  x_var_gene_set[\"x_composite_score\"] = x_var_gene_set.mean(axis = 1)\n",
      "/Users/shanghongsim/Documents/GitHub/HU-ATRi-Code-Repository/analysis.py:85: SettingWithCopyWarning: \n",
      "A value is trying to be set on a copy of a slice from a DataFrame.\n",
      "Try using .loc[row_indexer,col_indexer] = value instead\n",
      "\n",
      "See the caveats in the documentation: https://pandas.pydata.org/pandas-docs/stable/user_guide/indexing.html#returning-a-view-versus-a-copy\n",
      "  y_var_gene_set[\"y_composite_score\"]= y_var_gene_set.mean(axis = 1)\n"
     ]
    },
    {
     "name": "stdout",
     "output_type": "stream",
     "text": [
      "UCS\n",
      "[]\n",
      "[]\n"
     ]
    },
    {
     "name": "stderr",
     "output_type": "stream",
     "text": [
      "/Users/shanghongsim/Documents/GitHub/HU-ATRi-Code-Repository/analysis.py:76: SettingWithCopyWarning: \n",
      "A value is trying to be set on a copy of a slice from a DataFrame.\n",
      "Try using .loc[row_indexer,col_indexer] = value instead\n",
      "\n",
      "See the caveats in the documentation: https://pandas.pydata.org/pandas-docs/stable/user_guide/indexing.html#returning-a-view-versus-a-copy\n",
      "  x_var_gene_set[\"x_composite_score\"] = x_var_gene_set.mean(axis = 1)\n",
      "/Users/shanghongsim/Documents/GitHub/HU-ATRi-Code-Repository/analysis.py:85: SettingWithCopyWarning: \n",
      "A value is trying to be set on a copy of a slice from a DataFrame.\n",
      "Try using .loc[row_indexer,col_indexer] = value instead\n",
      "\n",
      "See the caveats in the documentation: https://pandas.pydata.org/pandas-docs/stable/user_guide/indexing.html#returning-a-view-versus-a-copy\n",
      "  y_var_gene_set[\"y_composite_score\"]= y_var_gene_set.mean(axis = 1)\n"
     ]
    },
    {
     "name": "stdout",
     "output_type": "stream",
     "text": [
      "GBM\n",
      "[]\n",
      "[]\n"
     ]
    },
    {
     "name": "stderr",
     "output_type": "stream",
     "text": [
      "/Users/shanghongsim/Documents/GitHub/HU-ATRi-Code-Repository/analysis.py:76: SettingWithCopyWarning: \n",
      "A value is trying to be set on a copy of a slice from a DataFrame.\n",
      "Try using .loc[row_indexer,col_indexer] = value instead\n",
      "\n",
      "See the caveats in the documentation: https://pandas.pydata.org/pandas-docs/stable/user_guide/indexing.html#returning-a-view-versus-a-copy\n",
      "  x_var_gene_set[\"x_composite_score\"] = x_var_gene_set.mean(axis = 1)\n",
      "/Users/shanghongsim/Documents/GitHub/HU-ATRi-Code-Repository/analysis.py:85: SettingWithCopyWarning: \n",
      "A value is trying to be set on a copy of a slice from a DataFrame.\n",
      "Try using .loc[row_indexer,col_indexer] = value instead\n",
      "\n",
      "See the caveats in the documentation: https://pandas.pydata.org/pandas-docs/stable/user_guide/indexing.html#returning-a-view-versus-a-copy\n",
      "  y_var_gene_set[\"y_composite_score\"]= y_var_gene_set.mean(axis = 1)\n"
     ]
    },
    {
     "name": "stdout",
     "output_type": "stream",
     "text": [
      "KICH\n",
      "[]\n",
      "[]\n"
     ]
    },
    {
     "name": "stderr",
     "output_type": "stream",
     "text": [
      "/Users/shanghongsim/Documents/GitHub/HU-ATRi-Code-Repository/analysis.py:76: SettingWithCopyWarning: \n",
      "A value is trying to be set on a copy of a slice from a DataFrame.\n",
      "Try using .loc[row_indexer,col_indexer] = value instead\n",
      "\n",
      "See the caveats in the documentation: https://pandas.pydata.org/pandas-docs/stable/user_guide/indexing.html#returning-a-view-versus-a-copy\n",
      "  x_var_gene_set[\"x_composite_score\"] = x_var_gene_set.mean(axis = 1)\n",
      "/Users/shanghongsim/Documents/GitHub/HU-ATRi-Code-Repository/analysis.py:85: SettingWithCopyWarning: \n",
      "A value is trying to be set on a copy of a slice from a DataFrame.\n",
      "Try using .loc[row_indexer,col_indexer] = value instead\n",
      "\n",
      "See the caveats in the documentation: https://pandas.pydata.org/pandas-docs/stable/user_guide/indexing.html#returning-a-view-versus-a-copy\n",
      "  y_var_gene_set[\"y_composite_score\"]= y_var_gene_set.mean(axis = 1)\n"
     ]
    },
    {
     "name": "stdout",
     "output_type": "stream",
     "text": [
      "THCA\n",
      "[]\n",
      "[]\n"
     ]
    },
    {
     "name": "stderr",
     "output_type": "stream",
     "text": [
      "/Users/shanghongsim/Documents/GitHub/HU-ATRi-Code-Repository/analysis.py:76: SettingWithCopyWarning: \n",
      "A value is trying to be set on a copy of a slice from a DataFrame.\n",
      "Try using .loc[row_indexer,col_indexer] = value instead\n",
      "\n",
      "See the caveats in the documentation: https://pandas.pydata.org/pandas-docs/stable/user_guide/indexing.html#returning-a-view-versus-a-copy\n",
      "  x_var_gene_set[\"x_composite_score\"] = x_var_gene_set.mean(axis = 1)\n",
      "/Users/shanghongsim/Documents/GitHub/HU-ATRi-Code-Repository/analysis.py:85: SettingWithCopyWarning: \n",
      "A value is trying to be set on a copy of a slice from a DataFrame.\n",
      "Try using .loc[row_indexer,col_indexer] = value instead\n",
      "\n",
      "See the caveats in the documentation: https://pandas.pydata.org/pandas-docs/stable/user_guide/indexing.html#returning-a-view-versus-a-copy\n",
      "  y_var_gene_set[\"y_composite_score\"]= y_var_gene_set.mean(axis = 1)\n"
     ]
    },
    {
     "name": "stdout",
     "output_type": "stream",
     "text": [
      "LGG\n",
      "[]\n",
      "[]\n"
     ]
    },
    {
     "name": "stderr",
     "output_type": "stream",
     "text": [
      "/Users/shanghongsim/Documents/GitHub/HU-ATRi-Code-Repository/analysis.py:76: SettingWithCopyWarning: \n",
      "A value is trying to be set on a copy of a slice from a DataFrame.\n",
      "Try using .loc[row_indexer,col_indexer] = value instead\n",
      "\n",
      "See the caveats in the documentation: https://pandas.pydata.org/pandas-docs/stable/user_guide/indexing.html#returning-a-view-versus-a-copy\n",
      "  x_var_gene_set[\"x_composite_score\"] = x_var_gene_set.mean(axis = 1)\n",
      "/Users/shanghongsim/Documents/GitHub/HU-ATRi-Code-Repository/analysis.py:85: SettingWithCopyWarning: \n",
      "A value is trying to be set on a copy of a slice from a DataFrame.\n",
      "Try using .loc[row_indexer,col_indexer] = value instead\n",
      "\n",
      "See the caveats in the documentation: https://pandas.pydata.org/pandas-docs/stable/user_guide/indexing.html#returning-a-view-versus-a-copy\n",
      "  y_var_gene_set[\"y_composite_score\"]= y_var_gene_set.mean(axis = 1)\n"
     ]
    },
    {
     "name": "stdout",
     "output_type": "stream",
     "text": [
      "LUAD\n",
      "[]\n",
      "[]\n"
     ]
    },
    {
     "name": "stderr",
     "output_type": "stream",
     "text": [
      "/Users/shanghongsim/Documents/GitHub/HU-ATRi-Code-Repository/analysis.py:76: SettingWithCopyWarning: \n",
      "A value is trying to be set on a copy of a slice from a DataFrame.\n",
      "Try using .loc[row_indexer,col_indexer] = value instead\n",
      "\n",
      "See the caveats in the documentation: https://pandas.pydata.org/pandas-docs/stable/user_guide/indexing.html#returning-a-view-versus-a-copy\n",
      "  x_var_gene_set[\"x_composite_score\"] = x_var_gene_set.mean(axis = 1)\n",
      "/Users/shanghongsim/Documents/GitHub/HU-ATRi-Code-Repository/analysis.py:85: SettingWithCopyWarning: \n",
      "A value is trying to be set on a copy of a slice from a DataFrame.\n",
      "Try using .loc[row_indexer,col_indexer] = value instead\n",
      "\n",
      "See the caveats in the documentation: https://pandas.pydata.org/pandas-docs/stable/user_guide/indexing.html#returning-a-view-versus-a-copy\n",
      "  y_var_gene_set[\"y_composite_score\"]= y_var_gene_set.mean(axis = 1)\n"
     ]
    },
    {
     "name": "stdout",
     "output_type": "stream",
     "text": [
      "MESO\n",
      "[]\n",
      "[]\n"
     ]
    },
    {
     "name": "stderr",
     "output_type": "stream",
     "text": [
      "/Users/shanghongsim/Documents/GitHub/HU-ATRi-Code-Repository/analysis.py:76: SettingWithCopyWarning: \n",
      "A value is trying to be set on a copy of a slice from a DataFrame.\n",
      "Try using .loc[row_indexer,col_indexer] = value instead\n",
      "\n",
      "See the caveats in the documentation: https://pandas.pydata.org/pandas-docs/stable/user_guide/indexing.html#returning-a-view-versus-a-copy\n",
      "  x_var_gene_set[\"x_composite_score\"] = x_var_gene_set.mean(axis = 1)\n",
      "/Users/shanghongsim/Documents/GitHub/HU-ATRi-Code-Repository/analysis.py:85: SettingWithCopyWarning: \n",
      "A value is trying to be set on a copy of a slice from a DataFrame.\n",
      "Try using .loc[row_indexer,col_indexer] = value instead\n",
      "\n",
      "See the caveats in the documentation: https://pandas.pydata.org/pandas-docs/stable/user_guide/indexing.html#returning-a-view-versus-a-copy\n",
      "  y_var_gene_set[\"y_composite_score\"]= y_var_gene_set.mean(axis = 1)\n"
     ]
    },
    {
     "name": "stdout",
     "output_type": "stream",
     "text": [
      "PCPG\n",
      "[]\n",
      "[]\n"
     ]
    },
    {
     "name": "stderr",
     "output_type": "stream",
     "text": [
      "/Users/shanghongsim/Documents/GitHub/HU-ATRi-Code-Repository/analysis.py:76: SettingWithCopyWarning: \n",
      "A value is trying to be set on a copy of a slice from a DataFrame.\n",
      "Try using .loc[row_indexer,col_indexer] = value instead\n",
      "\n",
      "See the caveats in the documentation: https://pandas.pydata.org/pandas-docs/stable/user_guide/indexing.html#returning-a-view-versus-a-copy\n",
      "  x_var_gene_set[\"x_composite_score\"] = x_var_gene_set.mean(axis = 1)\n",
      "/Users/shanghongsim/Documents/GitHub/HU-ATRi-Code-Repository/analysis.py:85: SettingWithCopyWarning: \n",
      "A value is trying to be set on a copy of a slice from a DataFrame.\n",
      "Try using .loc[row_indexer,col_indexer] = value instead\n",
      "\n",
      "See the caveats in the documentation: https://pandas.pydata.org/pandas-docs/stable/user_guide/indexing.html#returning-a-view-versus-a-copy\n",
      "  y_var_gene_set[\"y_composite_score\"]= y_var_gene_set.mean(axis = 1)\n"
     ]
    },
    {
     "name": "stdout",
     "output_type": "stream",
     "text": [
      "TGCT\n",
      "[]\n",
      "[]\n"
     ]
    },
    {
     "name": "stderr",
     "output_type": "stream",
     "text": [
      "/Users/shanghongsim/Documents/GitHub/HU-ATRi-Code-Repository/analysis.py:76: SettingWithCopyWarning: \n",
      "A value is trying to be set on a copy of a slice from a DataFrame.\n",
      "Try using .loc[row_indexer,col_indexer] = value instead\n",
      "\n",
      "See the caveats in the documentation: https://pandas.pydata.org/pandas-docs/stable/user_guide/indexing.html#returning-a-view-versus-a-copy\n",
      "  x_var_gene_set[\"x_composite_score\"] = x_var_gene_set.mean(axis = 1)\n",
      "/Users/shanghongsim/Documents/GitHub/HU-ATRi-Code-Repository/analysis.py:85: SettingWithCopyWarning: \n",
      "A value is trying to be set on a copy of a slice from a DataFrame.\n",
      "Try using .loc[row_indexer,col_indexer] = value instead\n",
      "\n",
      "See the caveats in the documentation: https://pandas.pydata.org/pandas-docs/stable/user_guide/indexing.html#returning-a-view-versus-a-copy\n",
      "  y_var_gene_set[\"y_composite_score\"]= y_var_gene_set.mean(axis = 1)\n"
     ]
    },
    {
     "name": "stdout",
     "output_type": "stream",
     "text": [
      "UVM\n",
      "[]\n",
      "[]\n"
     ]
    },
    {
     "name": "stderr",
     "output_type": "stream",
     "text": [
      "/Users/shanghongsim/Documents/GitHub/HU-ATRi-Code-Repository/analysis.py:76: SettingWithCopyWarning: \n",
      "A value is trying to be set on a copy of a slice from a DataFrame.\n",
      "Try using .loc[row_indexer,col_indexer] = value instead\n",
      "\n",
      "See the caveats in the documentation: https://pandas.pydata.org/pandas-docs/stable/user_guide/indexing.html#returning-a-view-versus-a-copy\n",
      "  x_var_gene_set[\"x_composite_score\"] = x_var_gene_set.mean(axis = 1)\n",
      "/Users/shanghongsim/Documents/GitHub/HU-ATRi-Code-Repository/analysis.py:85: SettingWithCopyWarning: \n",
      "A value is trying to be set on a copy of a slice from a DataFrame.\n",
      "Try using .loc[row_indexer,col_indexer] = value instead\n",
      "\n",
      "See the caveats in the documentation: https://pandas.pydata.org/pandas-docs/stable/user_guide/indexing.html#returning-a-view-versus-a-copy\n",
      "  y_var_gene_set[\"y_composite_score\"]= y_var_gene_set.mean(axis = 1)\n"
     ]
    },
    {
     "name": "stdout",
     "output_type": "stream",
     "text": [
      "THYM\n",
      "[]\n",
      "[]\n"
     ]
    },
    {
     "name": "stderr",
     "output_type": "stream",
     "text": [
      "/Users/shanghongsim/Documents/GitHub/HU-ATRi-Code-Repository/analysis.py:76: SettingWithCopyWarning: \n",
      "A value is trying to be set on a copy of a slice from a DataFrame.\n",
      "Try using .loc[row_indexer,col_indexer] = value instead\n",
      "\n",
      "See the caveats in the documentation: https://pandas.pydata.org/pandas-docs/stable/user_guide/indexing.html#returning-a-view-versus-a-copy\n",
      "  x_var_gene_set[\"x_composite_score\"] = x_var_gene_set.mean(axis = 1)\n",
      "/Users/shanghongsim/Documents/GitHub/HU-ATRi-Code-Repository/analysis.py:85: SettingWithCopyWarning: \n",
      "A value is trying to be set on a copy of a slice from a DataFrame.\n",
      "Try using .loc[row_indexer,col_indexer] = value instead\n",
      "\n",
      "See the caveats in the documentation: https://pandas.pydata.org/pandas-docs/stable/user_guide/indexing.html#returning-a-view-versus-a-copy\n",
      "  y_var_gene_set[\"y_composite_score\"]= y_var_gene_set.mean(axis = 1)\n"
     ]
    },
    {
     "name": "stdout",
     "output_type": "stream",
     "text": [
      "CHOL\n",
      "[]\n",
      "[]\n"
     ]
    },
    {
     "name": "stderr",
     "output_type": "stream",
     "text": [
      "/Users/shanghongsim/Documents/GitHub/HU-ATRi-Code-Repository/analysis.py:76: SettingWithCopyWarning: \n",
      "A value is trying to be set on a copy of a slice from a DataFrame.\n",
      "Try using .loc[row_indexer,col_indexer] = value instead\n",
      "\n",
      "See the caveats in the documentation: https://pandas.pydata.org/pandas-docs/stable/user_guide/indexing.html#returning-a-view-versus-a-copy\n",
      "  x_var_gene_set[\"x_composite_score\"] = x_var_gene_set.mean(axis = 1)\n",
      "/Users/shanghongsim/Documents/GitHub/HU-ATRi-Code-Repository/analysis.py:85: SettingWithCopyWarning: \n",
      "A value is trying to be set on a copy of a slice from a DataFrame.\n",
      "Try using .loc[row_indexer,col_indexer] = value instead\n",
      "\n",
      "See the caveats in the documentation: https://pandas.pydata.org/pandas-docs/stable/user_guide/indexing.html#returning-a-view-versus-a-copy\n",
      "  y_var_gene_set[\"y_composite_score\"]= y_var_gene_set.mean(axis = 1)\n"
     ]
    },
    {
     "name": "stdout",
     "output_type": "stream",
     "text": [
      "ESCA\n",
      "[]\n",
      "[]\n"
     ]
    },
    {
     "name": "stderr",
     "output_type": "stream",
     "text": [
      "/Users/shanghongsim/Documents/GitHub/HU-ATRi-Code-Repository/analysis.py:76: SettingWithCopyWarning: \n",
      "A value is trying to be set on a copy of a slice from a DataFrame.\n",
      "Try using .loc[row_indexer,col_indexer] = value instead\n",
      "\n",
      "See the caveats in the documentation: https://pandas.pydata.org/pandas-docs/stable/user_guide/indexing.html#returning-a-view-versus-a-copy\n",
      "  x_var_gene_set[\"x_composite_score\"] = x_var_gene_set.mean(axis = 1)\n",
      "/Users/shanghongsim/Documents/GitHub/HU-ATRi-Code-Repository/analysis.py:85: SettingWithCopyWarning: \n",
      "A value is trying to be set on a copy of a slice from a DataFrame.\n",
      "Try using .loc[row_indexer,col_indexer] = value instead\n",
      "\n",
      "See the caveats in the documentation: https://pandas.pydata.org/pandas-docs/stable/user_guide/indexing.html#returning-a-view-versus-a-copy\n",
      "  y_var_gene_set[\"y_composite_score\"]= y_var_gene_set.mean(axis = 1)\n"
     ]
    },
    {
     "name": "stdout",
     "output_type": "stream",
     "text": [
      "STAD\n",
      "[]\n",
      "[]\n"
     ]
    },
    {
     "name": "stderr",
     "output_type": "stream",
     "text": [
      "/Users/shanghongsim/Documents/GitHub/HU-ATRi-Code-Repository/analysis.py:76: SettingWithCopyWarning: \n",
      "A value is trying to be set on a copy of a slice from a DataFrame.\n",
      "Try using .loc[row_indexer,col_indexer] = value instead\n",
      "\n",
      "See the caveats in the documentation: https://pandas.pydata.org/pandas-docs/stable/user_guide/indexing.html#returning-a-view-versus-a-copy\n",
      "  x_var_gene_set[\"x_composite_score\"] = x_var_gene_set.mean(axis = 1)\n",
      "/Users/shanghongsim/Documents/GitHub/HU-ATRi-Code-Repository/analysis.py:85: SettingWithCopyWarning: \n",
      "A value is trying to be set on a copy of a slice from a DataFrame.\n",
      "Try using .loc[row_indexer,col_indexer] = value instead\n",
      "\n",
      "See the caveats in the documentation: https://pandas.pydata.org/pandas-docs/stable/user_guide/indexing.html#returning-a-view-versus-a-copy\n",
      "  y_var_gene_set[\"y_composite_score\"]= y_var_gene_set.mean(axis = 1)\n"
     ]
    },
    {
     "name": "stdout",
     "output_type": "stream",
     "text": [
      "LAML\n",
      "[]\n",
      "[]\n"
     ]
    },
    {
     "name": "stderr",
     "output_type": "stream",
     "text": [
      "/Users/shanghongsim/Documents/GitHub/HU-ATRi-Code-Repository/analysis.py:76: SettingWithCopyWarning: \n",
      "A value is trying to be set on a copy of a slice from a DataFrame.\n",
      "Try using .loc[row_indexer,col_indexer] = value instead\n",
      "\n",
      "See the caveats in the documentation: https://pandas.pydata.org/pandas-docs/stable/user_guide/indexing.html#returning-a-view-versus-a-copy\n",
      "  x_var_gene_set[\"x_composite_score\"] = x_var_gene_set.mean(axis = 1)\n",
      "/Users/shanghongsim/Documents/GitHub/HU-ATRi-Code-Repository/analysis.py:85: SettingWithCopyWarning: \n",
      "A value is trying to be set on a copy of a slice from a DataFrame.\n",
      "Try using .loc[row_indexer,col_indexer] = value instead\n",
      "\n",
      "See the caveats in the documentation: https://pandas.pydata.org/pandas-docs/stable/user_guide/indexing.html#returning-a-view-versus-a-copy\n",
      "  y_var_gene_set[\"y_composite_score\"]= y_var_gene_set.mean(axis = 1)\n"
     ]
    },
    {
     "name": "stdout",
     "output_type": "stream",
     "text": [
      "PANCAN\n",
      "[]\n",
      "[]\n"
     ]
    },
    {
     "name": "stderr",
     "output_type": "stream",
     "text": [
      "/Users/shanghongsim/Documents/GitHub/HU-ATRi-Code-Repository/analysis.py:76: SettingWithCopyWarning: \n",
      "A value is trying to be set on a copy of a slice from a DataFrame.\n",
      "Try using .loc[row_indexer,col_indexer] = value instead\n",
      "\n",
      "See the caveats in the documentation: https://pandas.pydata.org/pandas-docs/stable/user_guide/indexing.html#returning-a-view-versus-a-copy\n",
      "  x_var_gene_set[\"x_composite_score\"] = x_var_gene_set.mean(axis = 1)\n",
      "/Users/shanghongsim/Documents/GitHub/HU-ATRi-Code-Repository/analysis.py:85: SettingWithCopyWarning: \n",
      "A value is trying to be set on a copy of a slice from a DataFrame.\n",
      "Try using .loc[row_indexer,col_indexer] = value instead\n",
      "\n",
      "See the caveats in the documentation: https://pandas.pydata.org/pandas-docs/stable/user_guide/indexing.html#returning-a-view-versus-a-copy\n",
      "  y_var_gene_set[\"y_composite_score\"]= y_var_gene_set.mean(axis = 1)\n"
     ]
    },
    {
     "name": "stdout",
     "output_type": "stream",
     "text": [
      "done\n"
     ]
    }
   ],
   "source": [
    "# master script to screen cancers for RRM2B - NRF2 signature\n",
    "\n",
    "gene_set = pd.read_csv(\"./data/oxstress genes.csv\", index_col=None, header= 0)\n",
    "gene_set = gene_set['NRF2_GSTA4'].dropna().tolist()\n",
    "\n",
    "targets = list(set([\"G6PD\", \"RRM2B\"] +  gene_set))\n",
    "\n",
    "databases = ['HCCDB-1', 'HCCDB-3', 'HCCDB-4',  'HCCDB-8', 'HCCDB-9', 'HCCDB-11', \n",
    "       'HCCDB-12', 'HCCDB-13', 'HCCDB-14', 'HCCDB-16', 'HCCDB-17', 'HCCDB-18',\n",
    "       'ACC', 'BLCA', 'DBLC', 'UCEC', 'SKCM', 'HNSC', 'PRAD', 'KIRP',\n",
    "       'PAAD', 'SARC', 'CESC', 'COAD', 'LUSC', 'READ', 'KIRC', 'LIHC',\n",
    "       'BRCA', 'OV', 'UCS', 'GBM', 'KICH', 'THCA', 'LGG', 'LUAD', 'MESO',\n",
    "       'PCPG', 'TGCT', 'UVM', 'THYM', 'CHOL', 'ESCA', 'STAD', 'LAML','PANCAN'] # , , 'PANCAN'\n",
    "\n",
    "# define subplot grid\n",
    "fig, axs = plt.subplots(6, 8, figsize=(60, 40), sharey=True)\n",
    "plt.subplots_adjust(hspace=0.6)\n",
    "title = 'RRM2B vs NRF2 signature (GSTA4)'\n",
    "fig.suptitle(title,fontsize = 25)\n",
    "\n",
    "rtemp = []\n",
    "ptemp = []\n",
    "\n",
    "for db, ax in zip(databases, axs.ravel()):\n",
    "    print(db)\n",
    "    df = get_data(data, hccdb, db)\n",
    "    data_new = process_data(df, targets, x_var_names = [\"RRM2B\"], y_var_names = gene_set, pheno_filtered=None, outlier_corrected = True)\n",
    "    r, p = analyse(data_new, fig, db, ax, title + ' screen.png', x_label = \"RRM2B\", y_label = \"NRF2 signature\")\n",
    "    rtemp.append(r)\n",
    "    ptemp.append(p)\n",
    "\n",
    "r_all.append(rtemp)\n",
    "p_all.append(ptemp)\n",
    "print(\"done\")\n"
   ]
  },
  {
   "cell_type": "code",
   "execution_count": 27,
   "metadata": {},
   "outputs": [
    {
     "name": "stdout",
     "output_type": "stream",
     "text": [
      "HCCDB-1\n",
      "[]\n",
      "[]\n"
     ]
    },
    {
     "name": "stderr",
     "output_type": "stream",
     "text": [
      "/Users/shanghongsim/Documents/GitHub/HU-ATRi-Code-Repository/analysis.py:76: SettingWithCopyWarning: \n",
      "A value is trying to be set on a copy of a slice from a DataFrame.\n",
      "Try using .loc[row_indexer,col_indexer] = value instead\n",
      "\n",
      "See the caveats in the documentation: https://pandas.pydata.org/pandas-docs/stable/user_guide/indexing.html#returning-a-view-versus-a-copy\n",
      "  x_var_gene_set[\"x_composite_score\"] = x_var_gene_set.mean(axis = 1)\n",
      "/Users/shanghongsim/Documents/GitHub/HU-ATRi-Code-Repository/analysis.py:85: SettingWithCopyWarning: \n",
      "A value is trying to be set on a copy of a slice from a DataFrame.\n",
      "Try using .loc[row_indexer,col_indexer] = value instead\n",
      "\n",
      "See the caveats in the documentation: https://pandas.pydata.org/pandas-docs/stable/user_guide/indexing.html#returning-a-view-versus-a-copy\n",
      "  y_var_gene_set[\"y_composite_score\"]= y_var_gene_set.mean(axis = 1)\n"
     ]
    },
    {
     "data": {
      "image/png": "[encoded data removed]",
      "text/plain": [
       "<Figure size 4320x2880 with 48 Axes>"
      ]
     },
     "metadata": {},
     "output_type": "display_data"
    },
    {
     "name": "stdout",
     "output_type": "stream",
     "text": [
      "HCCDB-3\n",
      "[]\n",
      "[]\n"
     ]
    },
    {
     "name": "stderr",
     "output_type": "stream",
     "text": [
      "/Users/shanghongsim/Documents/GitHub/HU-ATRi-Code-Repository/analysis.py:76: SettingWithCopyWarning: \n",
      "A value is trying to be set on a copy of a slice from a DataFrame.\n",
      "Try using .loc[row_indexer,col_indexer] = value instead\n",
      "\n",
      "See the caveats in the documentation: https://pandas.pydata.org/pandas-docs/stable/user_guide/indexing.html#returning-a-view-versus-a-copy\n",
      "  x_var_gene_set[\"x_composite_score\"] = x_var_gene_set.mean(axis = 1)\n",
      "/Users/shanghongsim/Documents/GitHub/HU-ATRi-Code-Repository/analysis.py:85: SettingWithCopyWarning: \n",
      "A value is trying to be set on a copy of a slice from a DataFrame.\n",
      "Try using .loc[row_indexer,col_indexer] = value instead\n",
      "\n",
      "See the caveats in the documentation: https://pandas.pydata.org/pandas-docs/stable/user_guide/indexing.html#returning-a-view-versus-a-copy\n",
      "  y_var_gene_set[\"y_composite_score\"]= y_var_gene_set.mean(axis = 1)\n"
     ]
    },
    {
     "name": "stdout",
     "output_type": "stream",
     "text": [
      "HCCDB-4\n",
      "[]\n",
      "[]\n"
     ]
    },
    {
     "name": "stderr",
     "output_type": "stream",
     "text": [
      "/Users/shanghongsim/Documents/GitHub/HU-ATRi-Code-Repository/analysis.py:76: SettingWithCopyWarning: \n",
      "A value is trying to be set on a copy of a slice from a DataFrame.\n",
      "Try using .loc[row_indexer,col_indexer] = value instead\n",
      "\n",
      "See the caveats in the documentation: https://pandas.pydata.org/pandas-docs/stable/user_guide/indexing.html#returning-a-view-versus-a-copy\n",
      "  x_var_gene_set[\"x_composite_score\"] = x_var_gene_set.mean(axis = 1)\n",
      "/Users/shanghongsim/Documents/GitHub/HU-ATRi-Code-Repository/analysis.py:85: SettingWithCopyWarning: \n",
      "A value is trying to be set on a copy of a slice from a DataFrame.\n",
      "Try using .loc[row_indexer,col_indexer] = value instead\n",
      "\n",
      "See the caveats in the documentation: https://pandas.pydata.org/pandas-docs/stable/user_guide/indexing.html#returning-a-view-versus-a-copy\n",
      "  y_var_gene_set[\"y_composite_score\"]= y_var_gene_set.mean(axis = 1)\n"
     ]
    },
    {
     "name": "stdout",
     "output_type": "stream",
     "text": [
      "HCCDB-8\n",
      "[]\n",
      "[]\n"
     ]
    },
    {
     "name": "stderr",
     "output_type": "stream",
     "text": [
      "/Users/shanghongsim/Documents/GitHub/HU-ATRi-Code-Repository/analysis.py:76: SettingWithCopyWarning: \n",
      "A value is trying to be set on a copy of a slice from a DataFrame.\n",
      "Try using .loc[row_indexer,col_indexer] = value instead\n",
      "\n",
      "See the caveats in the documentation: https://pandas.pydata.org/pandas-docs/stable/user_guide/indexing.html#returning-a-view-versus-a-copy\n",
      "  x_var_gene_set[\"x_composite_score\"] = x_var_gene_set.mean(axis = 1)\n",
      "/Users/shanghongsim/Documents/GitHub/HU-ATRi-Code-Repository/analysis.py:85: SettingWithCopyWarning: \n",
      "A value is trying to be set on a copy of a slice from a DataFrame.\n",
      "Try using .loc[row_indexer,col_indexer] = value instead\n",
      "\n",
      "See the caveats in the documentation: https://pandas.pydata.org/pandas-docs/stable/user_guide/indexing.html#returning-a-view-versus-a-copy\n",
      "  y_var_gene_set[\"y_composite_score\"]= y_var_gene_set.mean(axis = 1)\n"
     ]
    },
    {
     "name": "stdout",
     "output_type": "stream",
     "text": [
      "HCCDB-9\n",
      "[]\n",
      "[]\n"
     ]
    },
    {
     "name": "stderr",
     "output_type": "stream",
     "text": [
      "/Users/shanghongsim/Documents/GitHub/HU-ATRi-Code-Repository/analysis.py:76: SettingWithCopyWarning: \n",
      "A value is trying to be set on a copy of a slice from a DataFrame.\n",
      "Try using .loc[row_indexer,col_indexer] = value instead\n",
      "\n",
      "See the caveats in the documentation: https://pandas.pydata.org/pandas-docs/stable/user_guide/indexing.html#returning-a-view-versus-a-copy\n",
      "  x_var_gene_set[\"x_composite_score\"] = x_var_gene_set.mean(axis = 1)\n",
      "/Users/shanghongsim/Documents/GitHub/HU-ATRi-Code-Repository/analysis.py:85: SettingWithCopyWarning: \n",
      "A value is trying to be set on a copy of a slice from a DataFrame.\n",
      "Try using .loc[row_indexer,col_indexer] = value instead\n",
      "\n",
      "See the caveats in the documentation: https://pandas.pydata.org/pandas-docs/stable/user_guide/indexing.html#returning-a-view-versus-a-copy\n",
      "  y_var_gene_set[\"y_composite_score\"]= y_var_gene_set.mean(axis = 1)\n"
     ]
    },
    {
     "name": "stdout",
     "output_type": "stream",
     "text": [
      "HCCDB-11\n",
      "[]\n",
      "[]\n"
     ]
    },
    {
     "name": "stderr",
     "output_type": "stream",
     "text": [
      "/Users/shanghongsim/Documents/GitHub/HU-ATRi-Code-Repository/analysis.py:76: SettingWithCopyWarning: \n",
      "A value is trying to be set on a copy of a slice from a DataFrame.\n",
      "Try using .loc[row_indexer,col_indexer] = value instead\n",
      "\n",
      "See the caveats in the documentation: https://pandas.pydata.org/pandas-docs/stable/user_guide/indexing.html#returning-a-view-versus-a-copy\n",
      "  x_var_gene_set[\"x_composite_score\"] = x_var_gene_set.mean(axis = 1)\n",
      "/Users/shanghongsim/Documents/GitHub/HU-ATRi-Code-Repository/analysis.py:85: SettingWithCopyWarning: \n",
      "A value is trying to be set on a copy of a slice from a DataFrame.\n",
      "Try using .loc[row_indexer,col_indexer] = value instead\n",
      "\n",
      "See the caveats in the documentation: https://pandas.pydata.org/pandas-docs/stable/user_guide/indexing.html#returning-a-view-versus-a-copy\n",
      "  y_var_gene_set[\"y_composite_score\"]= y_var_gene_set.mean(axis = 1)\n"
     ]
    },
    {
     "name": "stdout",
     "output_type": "stream",
     "text": [
      "HCCDB-12\n",
      "[]\n",
      "[]\n"
     ]
    },
    {
     "name": "stderr",
     "output_type": "stream",
     "text": [
      "/Users/shanghongsim/Documents/GitHub/HU-ATRi-Code-Repository/analysis.py:76: SettingWithCopyWarning: \n",
      "A value is trying to be set on a copy of a slice from a DataFrame.\n",
      "Try using .loc[row_indexer,col_indexer] = value instead\n",
      "\n",
      "See the caveats in the documentation: https://pandas.pydata.org/pandas-docs/stable/user_guide/indexing.html#returning-a-view-versus-a-copy\n",
      "  x_var_gene_set[\"x_composite_score\"] = x_var_gene_set.mean(axis = 1)\n",
      "/Users/shanghongsim/Documents/GitHub/HU-ATRi-Code-Repository/analysis.py:85: SettingWithCopyWarning: \n",
      "A value is trying to be set on a copy of a slice from a DataFrame.\n",
      "Try using .loc[row_indexer,col_indexer] = value instead\n",
      "\n",
      "See the caveats in the documentation: https://pandas.pydata.org/pandas-docs/stable/user_guide/indexing.html#returning-a-view-versus-a-copy\n",
      "  y_var_gene_set[\"y_composite_score\"]= y_var_gene_set.mean(axis = 1)\n"
     ]
    },
    {
     "name": "stdout",
     "output_type": "stream",
     "text": [
      "HCCDB-13\n",
      "[]\n",
      "[]\n"
     ]
    },
    {
     "name": "stderr",
     "output_type": "stream",
     "text": [
      "/Users/shanghongsim/Documents/GitHub/HU-ATRi-Code-Repository/analysis.py:76: SettingWithCopyWarning: \n",
      "A value is trying to be set on a copy of a slice from a DataFrame.\n",
      "Try using .loc[row_indexer,col_indexer] = value instead\n",
      "\n",
      "See the caveats in the documentation: https://pandas.pydata.org/pandas-docs/stable/user_guide/indexing.html#returning-a-view-versus-a-copy\n",
      "  x_var_gene_set[\"x_composite_score\"] = x_var_gene_set.mean(axis = 1)\n",
      "/Users/shanghongsim/Documents/GitHub/HU-ATRi-Code-Repository/analysis.py:85: SettingWithCopyWarning: \n",
      "A value is trying to be set on a copy of a slice from a DataFrame.\n",
      "Try using .loc[row_indexer,col_indexer] = value instead\n",
      "\n",
      "See the caveats in the documentation: https://pandas.pydata.org/pandas-docs/stable/user_guide/indexing.html#returning-a-view-versus-a-copy\n",
      "  y_var_gene_set[\"y_composite_score\"]= y_var_gene_set.mean(axis = 1)\n"
     ]
    },
    {
     "name": "stdout",
     "output_type": "stream",
     "text": [
      "HCCDB-14\n",
      "[]\n",
      "[]\n"
     ]
    },
    {
     "name": "stderr",
     "output_type": "stream",
     "text": [
      "/Users/shanghongsim/Documents/GitHub/HU-ATRi-Code-Repository/analysis.py:76: SettingWithCopyWarning: \n",
      "A value is trying to be set on a copy of a slice from a DataFrame.\n",
      "Try using .loc[row_indexer,col_indexer] = value instead\n",
      "\n",
      "See the caveats in the documentation: https://pandas.pydata.org/pandas-docs/stable/user_guide/indexing.html#returning-a-view-versus-a-copy\n",
      "  x_var_gene_set[\"x_composite_score\"] = x_var_gene_set.mean(axis = 1)\n",
      "/Users/shanghongsim/Documents/GitHub/HU-ATRi-Code-Repository/analysis.py:85: SettingWithCopyWarning: \n",
      "A value is trying to be set on a copy of a slice from a DataFrame.\n",
      "Try using .loc[row_indexer,col_indexer] = value instead\n",
      "\n",
      "See the caveats in the documentation: https://pandas.pydata.org/pandas-docs/stable/user_guide/indexing.html#returning-a-view-versus-a-copy\n",
      "  y_var_gene_set[\"y_composite_score\"]= y_var_gene_set.mean(axis = 1)\n"
     ]
    },
    {
     "name": "stdout",
     "output_type": "stream",
     "text": [
      "HCCDB-16\n",
      "[]\n",
      "[]\n"
     ]
    },
    {
     "name": "stderr",
     "output_type": "stream",
     "text": [
      "/Users/shanghongsim/Documents/GitHub/HU-ATRi-Code-Repository/analysis.py:76: SettingWithCopyWarning: \n",
      "A value is trying to be set on a copy of a slice from a DataFrame.\n",
      "Try using .loc[row_indexer,col_indexer] = value instead\n",
      "\n",
      "See the caveats in the documentation: https://pandas.pydata.org/pandas-docs/stable/user_guide/indexing.html#returning-a-view-versus-a-copy\n",
      "  x_var_gene_set[\"x_composite_score\"] = x_var_gene_set.mean(axis = 1)\n",
      "/Users/shanghongsim/Documents/GitHub/HU-ATRi-Code-Repository/analysis.py:85: SettingWithCopyWarning: \n",
      "A value is trying to be set on a copy of a slice from a DataFrame.\n",
      "Try using .loc[row_indexer,col_indexer] = value instead\n",
      "\n",
      "See the caveats in the documentation: https://pandas.pydata.org/pandas-docs/stable/user_guide/indexing.html#returning-a-view-versus-a-copy\n",
      "  y_var_gene_set[\"y_composite_score\"]= y_var_gene_set.mean(axis = 1)\n"
     ]
    },
    {
     "name": "stdout",
     "output_type": "stream",
     "text": [
      "HCCDB-17\n",
      "[]\n",
      "[]\n"
     ]
    },
    {
     "name": "stderr",
     "output_type": "stream",
     "text": [
      "/Users/shanghongsim/Documents/GitHub/HU-ATRi-Code-Repository/analysis.py:76: SettingWithCopyWarning: \n",
      "A value is trying to be set on a copy of a slice from a DataFrame.\n",
      "Try using .loc[row_indexer,col_indexer] = value instead\n",
      "\n",
      "See the caveats in the documentation: https://pandas.pydata.org/pandas-docs/stable/user_guide/indexing.html#returning-a-view-versus-a-copy\n",
      "  x_var_gene_set[\"x_composite_score\"] = x_var_gene_set.mean(axis = 1)\n",
      "/Users/shanghongsim/Documents/GitHub/HU-ATRi-Code-Repository/analysis.py:85: SettingWithCopyWarning: \n",
      "A value is trying to be set on a copy of a slice from a DataFrame.\n",
      "Try using .loc[row_indexer,col_indexer] = value instead\n",
      "\n",
      "See the caveats in the documentation: https://pandas.pydata.org/pandas-docs/stable/user_guide/indexing.html#returning-a-view-versus-a-copy\n",
      "  y_var_gene_set[\"y_composite_score\"]= y_var_gene_set.mean(axis = 1)\n"
     ]
    },
    {
     "name": "stdout",
     "output_type": "stream",
     "text": [
      "HCCDB-18\n",
      "[]\n",
      "[]\n"
     ]
    },
    {
     "name": "stderr",
     "output_type": "stream",
     "text": [
      "/Users/shanghongsim/Documents/GitHub/HU-ATRi-Code-Repository/analysis.py:76: SettingWithCopyWarning: \n",
      "A value is trying to be set on a copy of a slice from a DataFrame.\n",
      "Try using .loc[row_indexer,col_indexer] = value instead\n",
      "\n",
      "See the caveats in the documentation: https://pandas.pydata.org/pandas-docs/stable/user_guide/indexing.html#returning-a-view-versus-a-copy\n",
      "  x_var_gene_set[\"x_composite_score\"] = x_var_gene_set.mean(axis = 1)\n",
      "/Users/shanghongsim/Documents/GitHub/HU-ATRi-Code-Repository/analysis.py:85: SettingWithCopyWarning: \n",
      "A value is trying to be set on a copy of a slice from a DataFrame.\n",
      "Try using .loc[row_indexer,col_indexer] = value instead\n",
      "\n",
      "See the caveats in the documentation: https://pandas.pydata.org/pandas-docs/stable/user_guide/indexing.html#returning-a-view-versus-a-copy\n",
      "  y_var_gene_set[\"y_composite_score\"]= y_var_gene_set.mean(axis = 1)\n"
     ]
    },
    {
     "name": "stdout",
     "output_type": "stream",
     "text": [
      "ACC\n",
      "[]\n",
      "[]\n"
     ]
    },
    {
     "name": "stderr",
     "output_type": "stream",
     "text": [
      "/Users/shanghongsim/Documents/GitHub/HU-ATRi-Code-Repository/analysis.py:76: SettingWithCopyWarning: \n",
      "A value is trying to be set on a copy of a slice from a DataFrame.\n",
      "Try using .loc[row_indexer,col_indexer] = value instead\n",
      "\n",
      "See the caveats in the documentation: https://pandas.pydata.org/pandas-docs/stable/user_guide/indexing.html#returning-a-view-versus-a-copy\n",
      "  x_var_gene_set[\"x_composite_score\"] = x_var_gene_set.mean(axis = 1)\n",
      "/Users/shanghongsim/Documents/GitHub/HU-ATRi-Code-Repository/analysis.py:85: SettingWithCopyWarning: \n",
      "A value is trying to be set on a copy of a slice from a DataFrame.\n",
      "Try using .loc[row_indexer,col_indexer] = value instead\n",
      "\n",
      "See the caveats in the documentation: https://pandas.pydata.org/pandas-docs/stable/user_guide/indexing.html#returning-a-view-versus-a-copy\n",
      "  y_var_gene_set[\"y_composite_score\"]= y_var_gene_set.mean(axis = 1)\n"
     ]
    },
    {
     "name": "stdout",
     "output_type": "stream",
     "text": [
      "BLCA\n",
      "[]\n",
      "[]\n"
     ]
    },
    {
     "name": "stderr",
     "output_type": "stream",
     "text": [
      "/Users/shanghongsim/Documents/GitHub/HU-ATRi-Code-Repository/analysis.py:76: SettingWithCopyWarning: \n",
      "A value is trying to be set on a copy of a slice from a DataFrame.\n",
      "Try using .loc[row_indexer,col_indexer] = value instead\n",
      "\n",
      "See the caveats in the documentation: https://pandas.pydata.org/pandas-docs/stable/user_guide/indexing.html#returning-a-view-versus-a-copy\n",
      "  x_var_gene_set[\"x_composite_score\"] = x_var_gene_set.mean(axis = 1)\n",
      "/Users/shanghongsim/Documents/GitHub/HU-ATRi-Code-Repository/analysis.py:85: SettingWithCopyWarning: \n",
      "A value is trying to be set on a copy of a slice from a DataFrame.\n",
      "Try using .loc[row_indexer,col_indexer] = value instead\n",
      "\n",
      "See the caveats in the documentation: https://pandas.pydata.org/pandas-docs/stable/user_guide/indexing.html#returning-a-view-versus-a-copy\n",
      "  y_var_gene_set[\"y_composite_score\"]= y_var_gene_set.mean(axis = 1)\n"
     ]
    },
    {
     "name": "stdout",
     "output_type": "stream",
     "text": [
      "DBLC\n",
      "[]\n",
      "[]\n"
     ]
    },
    {
     "name": "stderr",
     "output_type": "stream",
     "text": [
      "/Users/shanghongsim/Documents/GitHub/HU-ATRi-Code-Repository/analysis.py:76: SettingWithCopyWarning: \n",
      "A value is trying to be set on a copy of a slice from a DataFrame.\n",
      "Try using .loc[row_indexer,col_indexer] = value instead\n",
      "\n",
      "See the caveats in the documentation: https://pandas.pydata.org/pandas-docs/stable/user_guide/indexing.html#returning-a-view-versus-a-copy\n",
      "  x_var_gene_set[\"x_composite_score\"] = x_var_gene_set.mean(axis = 1)\n",
      "/Users/shanghongsim/Documents/GitHub/HU-ATRi-Code-Repository/analysis.py:85: SettingWithCopyWarning: \n",
      "A value is trying to be set on a copy of a slice from a DataFrame.\n",
      "Try using .loc[row_indexer,col_indexer] = value instead\n",
      "\n",
      "See the caveats in the documentation: https://pandas.pydata.org/pandas-docs/stable/user_guide/indexing.html#returning-a-view-versus-a-copy\n",
      "  y_var_gene_set[\"y_composite_score\"]= y_var_gene_set.mean(axis = 1)\n"
     ]
    },
    {
     "name": "stdout",
     "output_type": "stream",
     "text": [
      "UCEC\n",
      "[]\n",
      "[]\n"
     ]
    },
    {
     "name": "stderr",
     "output_type": "stream",
     "text": [
      "/Users/shanghongsim/Documents/GitHub/HU-ATRi-Code-Repository/analysis.py:76: SettingWithCopyWarning: \n",
      "A value is trying to be set on a copy of a slice from a DataFrame.\n",
      "Try using .loc[row_indexer,col_indexer] = value instead\n",
      "\n",
      "See the caveats in the documentation: https://pandas.pydata.org/pandas-docs/stable/user_guide/indexing.html#returning-a-view-versus-a-copy\n",
      "  x_var_gene_set[\"x_composite_score\"] = x_var_gene_set.mean(axis = 1)\n",
      "/Users/shanghongsim/Documents/GitHub/HU-ATRi-Code-Repository/analysis.py:85: SettingWithCopyWarning: \n",
      "A value is trying to be set on a copy of a slice from a DataFrame.\n",
      "Try using .loc[row_indexer,col_indexer] = value instead\n",
      "\n",
      "See the caveats in the documentation: https://pandas.pydata.org/pandas-docs/stable/user_guide/indexing.html#returning-a-view-versus-a-copy\n",
      "  y_var_gene_set[\"y_composite_score\"]= y_var_gene_set.mean(axis = 1)\n"
     ]
    },
    {
     "name": "stdout",
     "output_type": "stream",
     "text": [
      "SKCM\n",
      "[]\n",
      "[]\n"
     ]
    },
    {
     "name": "stderr",
     "output_type": "stream",
     "text": [
      "/Users/shanghongsim/Documents/GitHub/HU-ATRi-Code-Repository/analysis.py:76: SettingWithCopyWarning: \n",
      "A value is trying to be set on a copy of a slice from a DataFrame.\n",
      "Try using .loc[row_indexer,col_indexer] = value instead\n",
      "\n",
      "See the caveats in the documentation: https://pandas.pydata.org/pandas-docs/stable/user_guide/indexing.html#returning-a-view-versus-a-copy\n",
      "  x_var_gene_set[\"x_composite_score\"] = x_var_gene_set.mean(axis = 1)\n",
      "/Users/shanghongsim/Documents/GitHub/HU-ATRi-Code-Repository/analysis.py:85: SettingWithCopyWarning: \n",
      "A value is trying to be set on a copy of a slice from a DataFrame.\n",
      "Try using .loc[row_indexer,col_indexer] = value instead\n",
      "\n",
      "See the caveats in the documentation: https://pandas.pydata.org/pandas-docs/stable/user_guide/indexing.html#returning-a-view-versus-a-copy\n",
      "  y_var_gene_set[\"y_composite_score\"]= y_var_gene_set.mean(axis = 1)\n"
     ]
    },
    {
     "name": "stdout",
     "output_type": "stream",
     "text": [
      "HNSC\n",
      "[]\n",
      "[]\n"
     ]
    },
    {
     "name": "stderr",
     "output_type": "stream",
     "text": [
      "/Users/shanghongsim/Documents/GitHub/HU-ATRi-Code-Repository/analysis.py:76: SettingWithCopyWarning: \n",
      "A value is trying to be set on a copy of a slice from a DataFrame.\n",
      "Try using .loc[row_indexer,col_indexer] = value instead\n",
      "\n",
      "See the caveats in the documentation: https://pandas.pydata.org/pandas-docs/stable/user_guide/indexing.html#returning-a-view-versus-a-copy\n",
      "  x_var_gene_set[\"x_composite_score\"] = x_var_gene_set.mean(axis = 1)\n",
      "/Users/shanghongsim/Documents/GitHub/HU-ATRi-Code-Repository/analysis.py:85: SettingWithCopyWarning: \n",
      "A value is trying to be set on a copy of a slice from a DataFrame.\n",
      "Try using .loc[row_indexer,col_indexer] = value instead\n",
      "\n",
      "See the caveats in the documentation: https://pandas.pydata.org/pandas-docs/stable/user_guide/indexing.html#returning-a-view-versus-a-copy\n",
      "  y_var_gene_set[\"y_composite_score\"]= y_var_gene_set.mean(axis = 1)\n"
     ]
    },
    {
     "name": "stdout",
     "output_type": "stream",
     "text": [
      "PRAD\n",
      "[]\n",
      "[]\n"
     ]
    },
    {
     "name": "stderr",
     "output_type": "stream",
     "text": [
      "/Users/shanghongsim/Documents/GitHub/HU-ATRi-Code-Repository/analysis.py:76: SettingWithCopyWarning: \n",
      "A value is trying to be set on a copy of a slice from a DataFrame.\n",
      "Try using .loc[row_indexer,col_indexer] = value instead\n",
      "\n",
      "See the caveats in the documentation: https://pandas.pydata.org/pandas-docs/stable/user_guide/indexing.html#returning-a-view-versus-a-copy\n",
      "  x_var_gene_set[\"x_composite_score\"] = x_var_gene_set.mean(axis = 1)\n",
      "/Users/shanghongsim/Documents/GitHub/HU-ATRi-Code-Repository/analysis.py:85: SettingWithCopyWarning: \n",
      "A value is trying to be set on a copy of a slice from a DataFrame.\n",
      "Try using .loc[row_indexer,col_indexer] = value instead\n",
      "\n",
      "See the caveats in the documentation: https://pandas.pydata.org/pandas-docs/stable/user_guide/indexing.html#returning-a-view-versus-a-copy\n",
      "  y_var_gene_set[\"y_composite_score\"]= y_var_gene_set.mean(axis = 1)\n"
     ]
    },
    {
     "name": "stdout",
     "output_type": "stream",
     "text": [
      "KIRP\n",
      "[]\n",
      "[]\n"
     ]
    },
    {
     "name": "stderr",
     "output_type": "stream",
     "text": [
      "/Users/shanghongsim/Documents/GitHub/HU-ATRi-Code-Repository/analysis.py:76: SettingWithCopyWarning: \n",
      "A value is trying to be set on a copy of a slice from a DataFrame.\n",
      "Try using .loc[row_indexer,col_indexer] = value instead\n",
      "\n",
      "See the caveats in the documentation: https://pandas.pydata.org/pandas-docs/stable/user_guide/indexing.html#returning-a-view-versus-a-copy\n",
      "  x_var_gene_set[\"x_composite_score\"] = x_var_gene_set.mean(axis = 1)\n",
      "/Users/shanghongsim/Documents/GitHub/HU-ATRi-Code-Repository/analysis.py:85: SettingWithCopyWarning: \n",
      "A value is trying to be set on a copy of a slice from a DataFrame.\n",
      "Try using .loc[row_indexer,col_indexer] = value instead\n",
      "\n",
      "See the caveats in the documentation: https://pandas.pydata.org/pandas-docs/stable/user_guide/indexing.html#returning-a-view-versus-a-copy\n",
      "  y_var_gene_set[\"y_composite_score\"]= y_var_gene_set.mean(axis = 1)\n"
     ]
    },
    {
     "name": "stdout",
     "output_type": "stream",
     "text": [
      "PAAD\n",
      "[]\n",
      "[]\n"
     ]
    },
    {
     "name": "stderr",
     "output_type": "stream",
     "text": [
      "/Users/shanghongsim/Documents/GitHub/HU-ATRi-Code-Repository/analysis.py:76: SettingWithCopyWarning: \n",
      "A value is trying to be set on a copy of a slice from a DataFrame.\n",
      "Try using .loc[row_indexer,col_indexer] = value instead\n",
      "\n",
      "See the caveats in the documentation: https://pandas.pydata.org/pandas-docs/stable/user_guide/indexing.html#returning-a-view-versus-a-copy\n",
      "  x_var_gene_set[\"x_composite_score\"] = x_var_gene_set.mean(axis = 1)\n",
      "/Users/shanghongsim/Documents/GitHub/HU-ATRi-Code-Repository/analysis.py:85: SettingWithCopyWarning: \n",
      "A value is trying to be set on a copy of a slice from a DataFrame.\n",
      "Try using .loc[row_indexer,col_indexer] = value instead\n",
      "\n",
      "See the caveats in the documentation: https://pandas.pydata.org/pandas-docs/stable/user_guide/indexing.html#returning-a-view-versus-a-copy\n",
      "  y_var_gene_set[\"y_composite_score\"]= y_var_gene_set.mean(axis = 1)\n"
     ]
    },
    {
     "name": "stdout",
     "output_type": "stream",
     "text": [
      "SARC\n",
      "[]\n",
      "[]\n"
     ]
    },
    {
     "name": "stderr",
     "output_type": "stream",
     "text": [
      "/Users/shanghongsim/Documents/GitHub/HU-ATRi-Code-Repository/analysis.py:76: SettingWithCopyWarning: \n",
      "A value is trying to be set on a copy of a slice from a DataFrame.\n",
      "Try using .loc[row_indexer,col_indexer] = value instead\n",
      "\n",
      "See the caveats in the documentation: https://pandas.pydata.org/pandas-docs/stable/user_guide/indexing.html#returning-a-view-versus-a-copy\n",
      "  x_var_gene_set[\"x_composite_score\"] = x_var_gene_set.mean(axis = 1)\n",
      "/Users/shanghongsim/Documents/GitHub/HU-ATRi-Code-Repository/analysis.py:85: SettingWithCopyWarning: \n",
      "A value is trying to be set on a copy of a slice from a DataFrame.\n",
      "Try using .loc[row_indexer,col_indexer] = value instead\n",
      "\n",
      "See the caveats in the documentation: https://pandas.pydata.org/pandas-docs/stable/user_guide/indexing.html#returning-a-view-versus-a-copy\n",
      "  y_var_gene_set[\"y_composite_score\"]= y_var_gene_set.mean(axis = 1)\n"
     ]
    },
    {
     "name": "stdout",
     "output_type": "stream",
     "text": [
      "CESC\n",
      "[]\n",
      "[]\n"
     ]
    },
    {
     "name": "stderr",
     "output_type": "stream",
     "text": [
      "/Users/shanghongsim/Documents/GitHub/HU-ATRi-Code-Repository/analysis.py:76: SettingWithCopyWarning: \n",
      "A value is trying to be set on a copy of a slice from a DataFrame.\n",
      "Try using .loc[row_indexer,col_indexer] = value instead\n",
      "\n",
      "See the caveats in the documentation: https://pandas.pydata.org/pandas-docs/stable/user_guide/indexing.html#returning-a-view-versus-a-copy\n",
      "  x_var_gene_set[\"x_composite_score\"] = x_var_gene_set.mean(axis = 1)\n",
      "/Users/shanghongsim/Documents/GitHub/HU-ATRi-Code-Repository/analysis.py:85: SettingWithCopyWarning: \n",
      "A value is trying to be set on a copy of a slice from a DataFrame.\n",
      "Try using .loc[row_indexer,col_indexer] = value instead\n",
      "\n",
      "See the caveats in the documentation: https://pandas.pydata.org/pandas-docs/stable/user_guide/indexing.html#returning-a-view-versus-a-copy\n",
      "  y_var_gene_set[\"y_composite_score\"]= y_var_gene_set.mean(axis = 1)\n"
     ]
    },
    {
     "name": "stdout",
     "output_type": "stream",
     "text": [
      "COAD\n",
      "[]\n",
      "[]\n"
     ]
    },
    {
     "name": "stderr",
     "output_type": "stream",
     "text": [
      "/Users/shanghongsim/Documents/GitHub/HU-ATRi-Code-Repository/analysis.py:76: SettingWithCopyWarning: \n",
      "A value is trying to be set on a copy of a slice from a DataFrame.\n",
      "Try using .loc[row_indexer,col_indexer] = value instead\n",
      "\n",
      "See the caveats in the documentation: https://pandas.pydata.org/pandas-docs/stable/user_guide/indexing.html#returning-a-view-versus-a-copy\n",
      "  x_var_gene_set[\"x_composite_score\"] = x_var_gene_set.mean(axis = 1)\n",
      "/Users/shanghongsim/Documents/GitHub/HU-ATRi-Code-Repository/analysis.py:85: SettingWithCopyWarning: \n",
      "A value is trying to be set on a copy of a slice from a DataFrame.\n",
      "Try using .loc[row_indexer,col_indexer] = value instead\n",
      "\n",
      "See the caveats in the documentation: https://pandas.pydata.org/pandas-docs/stable/user_guide/indexing.html#returning-a-view-versus-a-copy\n",
      "  y_var_gene_set[\"y_composite_score\"]= y_var_gene_set.mean(axis = 1)\n"
     ]
    },
    {
     "name": "stdout",
     "output_type": "stream",
     "text": [
      "LUSC\n",
      "[]\n",
      "[]\n"
     ]
    },
    {
     "name": "stderr",
     "output_type": "stream",
     "text": [
      "/Users/shanghongsim/Documents/GitHub/HU-ATRi-Code-Repository/analysis.py:76: SettingWithCopyWarning: \n",
      "A value is trying to be set on a copy of a slice from a DataFrame.\n",
      "Try using .loc[row_indexer,col_indexer] = value instead\n",
      "\n",
      "See the caveats in the documentation: https://pandas.pydata.org/pandas-docs/stable/user_guide/indexing.html#returning-a-view-versus-a-copy\n",
      "  x_var_gene_set[\"x_composite_score\"] = x_var_gene_set.mean(axis = 1)\n",
      "/Users/shanghongsim/Documents/GitHub/HU-ATRi-Code-Repository/analysis.py:85: SettingWithCopyWarning: \n",
      "A value is trying to be set on a copy of a slice from a DataFrame.\n",
      "Try using .loc[row_indexer,col_indexer] = value instead\n",
      "\n",
      "See the caveats in the documentation: https://pandas.pydata.org/pandas-docs/stable/user_guide/indexing.html#returning-a-view-versus-a-copy\n",
      "  y_var_gene_set[\"y_composite_score\"]= y_var_gene_set.mean(axis = 1)\n"
     ]
    },
    {
     "name": "stdout",
     "output_type": "stream",
     "text": [
      "READ\n",
      "[]\n",
      "[]\n"
     ]
    },
    {
     "name": "stderr",
     "output_type": "stream",
     "text": [
      "/Users/shanghongsim/Documents/GitHub/HU-ATRi-Code-Repository/analysis.py:76: SettingWithCopyWarning: \n",
      "A value is trying to be set on a copy of a slice from a DataFrame.\n",
      "Try using .loc[row_indexer,col_indexer] = value instead\n",
      "\n",
      "See the caveats in the documentation: https://pandas.pydata.org/pandas-docs/stable/user_guide/indexing.html#returning-a-view-versus-a-copy\n",
      "  x_var_gene_set[\"x_composite_score\"] = x_var_gene_set.mean(axis = 1)\n",
      "/Users/shanghongsim/Documents/GitHub/HU-ATRi-Code-Repository/analysis.py:85: SettingWithCopyWarning: \n",
      "A value is trying to be set on a copy of a slice from a DataFrame.\n",
      "Try using .loc[row_indexer,col_indexer] = value instead\n",
      "\n",
      "See the caveats in the documentation: https://pandas.pydata.org/pandas-docs/stable/user_guide/indexing.html#returning-a-view-versus-a-copy\n",
      "  y_var_gene_set[\"y_composite_score\"]= y_var_gene_set.mean(axis = 1)\n"
     ]
    },
    {
     "name": "stdout",
     "output_type": "stream",
     "text": [
      "KIRC\n",
      "[]\n",
      "[]\n"
     ]
    },
    {
     "name": "stderr",
     "output_type": "stream",
     "text": [
      "/Users/shanghongsim/Documents/GitHub/HU-ATRi-Code-Repository/analysis.py:76: SettingWithCopyWarning: \n",
      "A value is trying to be set on a copy of a slice from a DataFrame.\n",
      "Try using .loc[row_indexer,col_indexer] = value instead\n",
      "\n",
      "See the caveats in the documentation: https://pandas.pydata.org/pandas-docs/stable/user_guide/indexing.html#returning-a-view-versus-a-copy\n",
      "  x_var_gene_set[\"x_composite_score\"] = x_var_gene_set.mean(axis = 1)\n",
      "/Users/shanghongsim/Documents/GitHub/HU-ATRi-Code-Repository/analysis.py:85: SettingWithCopyWarning: \n",
      "A value is trying to be set on a copy of a slice from a DataFrame.\n",
      "Try using .loc[row_indexer,col_indexer] = value instead\n",
      "\n",
      "See the caveats in the documentation: https://pandas.pydata.org/pandas-docs/stable/user_guide/indexing.html#returning-a-view-versus-a-copy\n",
      "  y_var_gene_set[\"y_composite_score\"]= y_var_gene_set.mean(axis = 1)\n"
     ]
    },
    {
     "name": "stdout",
     "output_type": "stream",
     "text": [
      "LIHC\n",
      "[]\n",
      "[]\n"
     ]
    },
    {
     "name": "stderr",
     "output_type": "stream",
     "text": [
      "/Users/shanghongsim/Documents/GitHub/HU-ATRi-Code-Repository/analysis.py:76: SettingWithCopyWarning: \n",
      "A value is trying to be set on a copy of a slice from a DataFrame.\n",
      "Try using .loc[row_indexer,col_indexer] = value instead\n",
      "\n",
      "See the caveats in the documentation: https://pandas.pydata.org/pandas-docs/stable/user_guide/indexing.html#returning-a-view-versus-a-copy\n",
      "  x_var_gene_set[\"x_composite_score\"] = x_var_gene_set.mean(axis = 1)\n",
      "/Users/shanghongsim/Documents/GitHub/HU-ATRi-Code-Repository/analysis.py:85: SettingWithCopyWarning: \n",
      "A value is trying to be set on a copy of a slice from a DataFrame.\n",
      "Try using .loc[row_indexer,col_indexer] = value instead\n",
      "\n",
      "See the caveats in the documentation: https://pandas.pydata.org/pandas-docs/stable/user_guide/indexing.html#returning-a-view-versus-a-copy\n",
      "  y_var_gene_set[\"y_composite_score\"]= y_var_gene_set.mean(axis = 1)\n"
     ]
    },
    {
     "name": "stdout",
     "output_type": "stream",
     "text": [
      "BRCA\n",
      "[]\n",
      "[]\n"
     ]
    },
    {
     "name": "stderr",
     "output_type": "stream",
     "text": [
      "/Users/shanghongsim/Documents/GitHub/HU-ATRi-Code-Repository/analysis.py:76: SettingWithCopyWarning: \n",
      "A value is trying to be set on a copy of a slice from a DataFrame.\n",
      "Try using .loc[row_indexer,col_indexer] = value instead\n",
      "\n",
      "See the caveats in the documentation: https://pandas.pydata.org/pandas-docs/stable/user_guide/indexing.html#returning-a-view-versus-a-copy\n",
      "  x_var_gene_set[\"x_composite_score\"] = x_var_gene_set.mean(axis = 1)\n",
      "/Users/shanghongsim/Documents/GitHub/HU-ATRi-Code-Repository/analysis.py:85: SettingWithCopyWarning: \n",
      "A value is trying to be set on a copy of a slice from a DataFrame.\n",
      "Try using .loc[row_indexer,col_indexer] = value instead\n",
      "\n",
      "See the caveats in the documentation: https://pandas.pydata.org/pandas-docs/stable/user_guide/indexing.html#returning-a-view-versus-a-copy\n",
      "  y_var_gene_set[\"y_composite_score\"]= y_var_gene_set.mean(axis = 1)\n"
     ]
    },
    {
     "name": "stdout",
     "output_type": "stream",
     "text": [
      "OV\n",
      "[]\n",
      "[]\n"
     ]
    },
    {
     "name": "stderr",
     "output_type": "stream",
     "text": [
      "/Users/shanghongsim/Documents/GitHub/HU-ATRi-Code-Repository/analysis.py:76: SettingWithCopyWarning: \n",
      "A value is trying to be set on a copy of a slice from a DataFrame.\n",
      "Try using .loc[row_indexer,col_indexer] = value instead\n",
      "\n",
      "See the caveats in the documentation: https://pandas.pydata.org/pandas-docs/stable/user_guide/indexing.html#returning-a-view-versus-a-copy\n",
      "  x_var_gene_set[\"x_composite_score\"] = x_var_gene_set.mean(axis = 1)\n",
      "/Users/shanghongsim/Documents/GitHub/HU-ATRi-Code-Repository/analysis.py:85: SettingWithCopyWarning: \n",
      "A value is trying to be set on a copy of a slice from a DataFrame.\n",
      "Try using .loc[row_indexer,col_indexer] = value instead\n",
      "\n",
      "See the caveats in the documentation: https://pandas.pydata.org/pandas-docs/stable/user_guide/indexing.html#returning-a-view-versus-a-copy\n",
      "  y_var_gene_set[\"y_composite_score\"]= y_var_gene_set.mean(axis = 1)\n"
     ]
    },
    {
     "name": "stdout",
     "output_type": "stream",
     "text": [
      "UCS\n",
      "[]\n",
      "[]\n"
     ]
    },
    {
     "name": "stderr",
     "output_type": "stream",
     "text": [
      "/Users/shanghongsim/Documents/GitHub/HU-ATRi-Code-Repository/analysis.py:76: SettingWithCopyWarning: \n",
      "A value is trying to be set on a copy of a slice from a DataFrame.\n",
      "Try using .loc[row_indexer,col_indexer] = value instead\n",
      "\n",
      "See the caveats in the documentation: https://pandas.pydata.org/pandas-docs/stable/user_guide/indexing.html#returning-a-view-versus-a-copy\n",
      "  x_var_gene_set[\"x_composite_score\"] = x_var_gene_set.mean(axis = 1)\n",
      "/Users/shanghongsim/Documents/GitHub/HU-ATRi-Code-Repository/analysis.py:85: SettingWithCopyWarning: \n",
      "A value is trying to be set on a copy of a slice from a DataFrame.\n",
      "Try using .loc[row_indexer,col_indexer] = value instead\n",
      "\n",
      "See the caveats in the documentation: https://pandas.pydata.org/pandas-docs/stable/user_guide/indexing.html#returning-a-view-versus-a-copy\n",
      "  y_var_gene_set[\"y_composite_score\"]= y_var_gene_set.mean(axis = 1)\n"
     ]
    },
    {
     "name": "stdout",
     "output_type": "stream",
     "text": [
      "GBM\n",
      "[]\n",
      "[]\n"
     ]
    },
    {
     "name": "stderr",
     "output_type": "stream",
     "text": [
      "/Users/shanghongsim/Documents/GitHub/HU-ATRi-Code-Repository/analysis.py:76: SettingWithCopyWarning: \n",
      "A value is trying to be set on a copy of a slice from a DataFrame.\n",
      "Try using .loc[row_indexer,col_indexer] = value instead\n",
      "\n",
      "See the caveats in the documentation: https://pandas.pydata.org/pandas-docs/stable/user_guide/indexing.html#returning-a-view-versus-a-copy\n",
      "  x_var_gene_set[\"x_composite_score\"] = x_var_gene_set.mean(axis = 1)\n",
      "/Users/shanghongsim/Documents/GitHub/HU-ATRi-Code-Repository/analysis.py:85: SettingWithCopyWarning: \n",
      "A value is trying to be set on a copy of a slice from a DataFrame.\n",
      "Try using .loc[row_indexer,col_indexer] = value instead\n",
      "\n",
      "See the caveats in the documentation: https://pandas.pydata.org/pandas-docs/stable/user_guide/indexing.html#returning-a-view-versus-a-copy\n",
      "  y_var_gene_set[\"y_composite_score\"]= y_var_gene_set.mean(axis = 1)\n"
     ]
    },
    {
     "name": "stdout",
     "output_type": "stream",
     "text": [
      "KICH\n",
      "[]\n",
      "[]\n"
     ]
    },
    {
     "name": "stderr",
     "output_type": "stream",
     "text": [
      "/Users/shanghongsim/Documents/GitHub/HU-ATRi-Code-Repository/analysis.py:76: SettingWithCopyWarning: \n",
      "A value is trying to be set on a copy of a slice from a DataFrame.\n",
      "Try using .loc[row_indexer,col_indexer] = value instead\n",
      "\n",
      "See the caveats in the documentation: https://pandas.pydata.org/pandas-docs/stable/user_guide/indexing.html#returning-a-view-versus-a-copy\n",
      "  x_var_gene_set[\"x_composite_score\"] = x_var_gene_set.mean(axis = 1)\n",
      "/Users/shanghongsim/Documents/GitHub/HU-ATRi-Code-Repository/analysis.py:85: SettingWithCopyWarning: \n",
      "A value is trying to be set on a copy of a slice from a DataFrame.\n",
      "Try using .loc[row_indexer,col_indexer] = value instead\n",
      "\n",
      "See the caveats in the documentation: https://pandas.pydata.org/pandas-docs/stable/user_guide/indexing.html#returning-a-view-versus-a-copy\n",
      "  y_var_gene_set[\"y_composite_score\"]= y_var_gene_set.mean(axis = 1)\n"
     ]
    },
    {
     "name": "stdout",
     "output_type": "stream",
     "text": [
      "THCA\n",
      "[]\n",
      "[]\n"
     ]
    },
    {
     "name": "stderr",
     "output_type": "stream",
     "text": [
      "/Users/shanghongsim/Documents/GitHub/HU-ATRi-Code-Repository/analysis.py:76: SettingWithCopyWarning: \n",
      "A value is trying to be set on a copy of a slice from a DataFrame.\n",
      "Try using .loc[row_indexer,col_indexer] = value instead\n",
      "\n",
      "See the caveats in the documentation: https://pandas.pydata.org/pandas-docs/stable/user_guide/indexing.html#returning-a-view-versus-a-copy\n",
      "  x_var_gene_set[\"x_composite_score\"] = x_var_gene_set.mean(axis = 1)\n",
      "/Users/shanghongsim/Documents/GitHub/HU-ATRi-Code-Repository/analysis.py:85: SettingWithCopyWarning: \n",
      "A value is trying to be set on a copy of a slice from a DataFrame.\n",
      "Try using .loc[row_indexer,col_indexer] = value instead\n",
      "\n",
      "See the caveats in the documentation: https://pandas.pydata.org/pandas-docs/stable/user_guide/indexing.html#returning-a-view-versus-a-copy\n",
      "  y_var_gene_set[\"y_composite_score\"]= y_var_gene_set.mean(axis = 1)\n"
     ]
    },
    {
     "name": "stdout",
     "output_type": "stream",
     "text": [
      "LGG\n",
      "[]\n",
      "[]\n"
     ]
    },
    {
     "name": "stderr",
     "output_type": "stream",
     "text": [
      "/Users/shanghongsim/Documents/GitHub/HU-ATRi-Code-Repository/analysis.py:76: SettingWithCopyWarning: \n",
      "A value is trying to be set on a copy of a slice from a DataFrame.\n",
      "Try using .loc[row_indexer,col_indexer] = value instead\n",
      "\n",
      "See the caveats in the documentation: https://pandas.pydata.org/pandas-docs/stable/user_guide/indexing.html#returning-a-view-versus-a-copy\n",
      "  x_var_gene_set[\"x_composite_score\"] = x_var_gene_set.mean(axis = 1)\n",
      "/Users/shanghongsim/Documents/GitHub/HU-ATRi-Code-Repository/analysis.py:85: SettingWithCopyWarning: \n",
      "A value is trying to be set on a copy of a slice from a DataFrame.\n",
      "Try using .loc[row_indexer,col_indexer] = value instead\n",
      "\n",
      "See the caveats in the documentation: https://pandas.pydata.org/pandas-docs/stable/user_guide/indexing.html#returning-a-view-versus-a-copy\n",
      "  y_var_gene_set[\"y_composite_score\"]= y_var_gene_set.mean(axis = 1)\n"
     ]
    },
    {
     "name": "stdout",
     "output_type": "stream",
     "text": [
      "LUAD\n",
      "[]\n",
      "[]\n"
     ]
    },
    {
     "name": "stderr",
     "output_type": "stream",
     "text": [
      "/Users/shanghongsim/Documents/GitHub/HU-ATRi-Code-Repository/analysis.py:76: SettingWithCopyWarning: \n",
      "A value is trying to be set on a copy of a slice from a DataFrame.\n",
      "Try using .loc[row_indexer,col_indexer] = value instead\n",
      "\n",
      "See the caveats in the documentation: https://pandas.pydata.org/pandas-docs/stable/user_guide/indexing.html#returning-a-view-versus-a-copy\n",
      "  x_var_gene_set[\"x_composite_score\"] = x_var_gene_set.mean(axis = 1)\n",
      "/Users/shanghongsim/Documents/GitHub/HU-ATRi-Code-Repository/analysis.py:85: SettingWithCopyWarning: \n",
      "A value is trying to be set on a copy of a slice from a DataFrame.\n",
      "Try using .loc[row_indexer,col_indexer] = value instead\n",
      "\n",
      "See the caveats in the documentation: https://pandas.pydata.org/pandas-docs/stable/user_guide/indexing.html#returning-a-view-versus-a-copy\n",
      "  y_var_gene_set[\"y_composite_score\"]= y_var_gene_set.mean(axis = 1)\n"
     ]
    },
    {
     "name": "stdout",
     "output_type": "stream",
     "text": [
      "MESO\n",
      "[]\n",
      "[]\n"
     ]
    },
    {
     "name": "stderr",
     "output_type": "stream",
     "text": [
      "/Users/shanghongsim/Documents/GitHub/HU-ATRi-Code-Repository/analysis.py:76: SettingWithCopyWarning: \n",
      "A value is trying to be set on a copy of a slice from a DataFrame.\n",
      "Try using .loc[row_indexer,col_indexer] = value instead\n",
      "\n",
      "See the caveats in the documentation: https://pandas.pydata.org/pandas-docs/stable/user_guide/indexing.html#returning-a-view-versus-a-copy\n",
      "  x_var_gene_set[\"x_composite_score\"] = x_var_gene_set.mean(axis = 1)\n",
      "/Users/shanghongsim/Documents/GitHub/HU-ATRi-Code-Repository/analysis.py:85: SettingWithCopyWarning: \n",
      "A value is trying to be set on a copy of a slice from a DataFrame.\n",
      "Try using .loc[row_indexer,col_indexer] = value instead\n",
      "\n",
      "See the caveats in the documentation: https://pandas.pydata.org/pandas-docs/stable/user_guide/indexing.html#returning-a-view-versus-a-copy\n",
      "  y_var_gene_set[\"y_composite_score\"]= y_var_gene_set.mean(axis = 1)\n"
     ]
    },
    {
     "name": "stdout",
     "output_type": "stream",
     "text": [
      "PCPG\n",
      "[]\n",
      "[]\n"
     ]
    },
    {
     "name": "stderr",
     "output_type": "stream",
     "text": [
      "/Users/shanghongsim/Documents/GitHub/HU-ATRi-Code-Repository/analysis.py:76: SettingWithCopyWarning: \n",
      "A value is trying to be set on a copy of a slice from a DataFrame.\n",
      "Try using .loc[row_indexer,col_indexer] = value instead\n",
      "\n",
      "See the caveats in the documentation: https://pandas.pydata.org/pandas-docs/stable/user_guide/indexing.html#returning-a-view-versus-a-copy\n",
      "  x_var_gene_set[\"x_composite_score\"] = x_var_gene_set.mean(axis = 1)\n",
      "/Users/shanghongsim/Documents/GitHub/HU-ATRi-Code-Repository/analysis.py:85: SettingWithCopyWarning: \n",
      "A value is trying to be set on a copy of a slice from a DataFrame.\n",
      "Try using .loc[row_indexer,col_indexer] = value instead\n",
      "\n",
      "See the caveats in the documentation: https://pandas.pydata.org/pandas-docs/stable/user_guide/indexing.html#returning-a-view-versus-a-copy\n",
      "  y_var_gene_set[\"y_composite_score\"]= y_var_gene_set.mean(axis = 1)\n"
     ]
    },
    {
     "name": "stdout",
     "output_type": "stream",
     "text": [
      "TGCT\n",
      "[]\n",
      "[]\n"
     ]
    },
    {
     "name": "stderr",
     "output_type": "stream",
     "text": [
      "/Users/shanghongsim/Documents/GitHub/HU-ATRi-Code-Repository/analysis.py:76: SettingWithCopyWarning: \n",
      "A value is trying to be set on a copy of a slice from a DataFrame.\n",
      "Try using .loc[row_indexer,col_indexer] = value instead\n",
      "\n",
      "See the caveats in the documentation: https://pandas.pydata.org/pandas-docs/stable/user_guide/indexing.html#returning-a-view-versus-a-copy\n",
      "  x_var_gene_set[\"x_composite_score\"] = x_var_gene_set.mean(axis = 1)\n",
      "/Users/shanghongsim/Documents/GitHub/HU-ATRi-Code-Repository/analysis.py:85: SettingWithCopyWarning: \n",
      "A value is trying to be set on a copy of a slice from a DataFrame.\n",
      "Try using .loc[row_indexer,col_indexer] = value instead\n",
      "\n",
      "See the caveats in the documentation: https://pandas.pydata.org/pandas-docs/stable/user_guide/indexing.html#returning-a-view-versus-a-copy\n",
      "  y_var_gene_set[\"y_composite_score\"]= y_var_gene_set.mean(axis = 1)\n"
     ]
    },
    {
     "name": "stdout",
     "output_type": "stream",
     "text": [
      "UVM\n",
      "[]\n",
      "[]\n"
     ]
    },
    {
     "name": "stderr",
     "output_type": "stream",
     "text": [
      "/Users/shanghongsim/Documents/GitHub/HU-ATRi-Code-Repository/analysis.py:76: SettingWithCopyWarning: \n",
      "A value is trying to be set on a copy of a slice from a DataFrame.\n",
      "Try using .loc[row_indexer,col_indexer] = value instead\n",
      "\n",
      "See the caveats in the documentation: https://pandas.pydata.org/pandas-docs/stable/user_guide/indexing.html#returning-a-view-versus-a-copy\n",
      "  x_var_gene_set[\"x_composite_score\"] = x_var_gene_set.mean(axis = 1)\n",
      "/Users/shanghongsim/Documents/GitHub/HU-ATRi-Code-Repository/analysis.py:85: SettingWithCopyWarning: \n",
      "A value is trying to be set on a copy of a slice from a DataFrame.\n",
      "Try using .loc[row_indexer,col_indexer] = value instead\n",
      "\n",
      "See the caveats in the documentation: https://pandas.pydata.org/pandas-docs/stable/user_guide/indexing.html#returning-a-view-versus-a-copy\n",
      "  y_var_gene_set[\"y_composite_score\"]= y_var_gene_set.mean(axis = 1)\n"
     ]
    },
    {
     "name": "stdout",
     "output_type": "stream",
     "text": [
      "THYM\n",
      "[]\n",
      "[]\n"
     ]
    },
    {
     "name": "stderr",
     "output_type": "stream",
     "text": [
      "/Users/shanghongsim/Documents/GitHub/HU-ATRi-Code-Repository/analysis.py:76: SettingWithCopyWarning: \n",
      "A value is trying to be set on a copy of a slice from a DataFrame.\n",
      "Try using .loc[row_indexer,col_indexer] = value instead\n",
      "\n",
      "See the caveats in the documentation: https://pandas.pydata.org/pandas-docs/stable/user_guide/indexing.html#returning-a-view-versus-a-copy\n",
      "  x_var_gene_set[\"x_composite_score\"] = x_var_gene_set.mean(axis = 1)\n",
      "/Users/shanghongsim/Documents/GitHub/HU-ATRi-Code-Repository/analysis.py:85: SettingWithCopyWarning: \n",
      "A value is trying to be set on a copy of a slice from a DataFrame.\n",
      "Try using .loc[row_indexer,col_indexer] = value instead\n",
      "\n",
      "See the caveats in the documentation: https://pandas.pydata.org/pandas-docs/stable/user_guide/indexing.html#returning-a-view-versus-a-copy\n",
      "  y_var_gene_set[\"y_composite_score\"]= y_var_gene_set.mean(axis = 1)\n"
     ]
    },
    {
     "name": "stdout",
     "output_type": "stream",
     "text": [
      "CHOL\n",
      "[]\n",
      "[]\n"
     ]
    },
    {
     "name": "stderr",
     "output_type": "stream",
     "text": [
      "/Users/shanghongsim/Documents/GitHub/HU-ATRi-Code-Repository/analysis.py:76: SettingWithCopyWarning: \n",
      "A value is trying to be set on a copy of a slice from a DataFrame.\n",
      "Try using .loc[row_indexer,col_indexer] = value instead\n",
      "\n",
      "See the caveats in the documentation: https://pandas.pydata.org/pandas-docs/stable/user_guide/indexing.html#returning-a-view-versus-a-copy\n",
      "  x_var_gene_set[\"x_composite_score\"] = x_var_gene_set.mean(axis = 1)\n",
      "/Users/shanghongsim/Documents/GitHub/HU-ATRi-Code-Repository/analysis.py:85: SettingWithCopyWarning: \n",
      "A value is trying to be set on a copy of a slice from a DataFrame.\n",
      "Try using .loc[row_indexer,col_indexer] = value instead\n",
      "\n",
      "See the caveats in the documentation: https://pandas.pydata.org/pandas-docs/stable/user_guide/indexing.html#returning-a-view-versus-a-copy\n",
      "  y_var_gene_set[\"y_composite_score\"]= y_var_gene_set.mean(axis = 1)\n"
     ]
    },
    {
     "name": "stdout",
     "output_type": "stream",
     "text": [
      "ESCA\n",
      "[]\n",
      "[]\n"
     ]
    },
    {
     "name": "stderr",
     "output_type": "stream",
     "text": [
      "/Users/shanghongsim/Documents/GitHub/HU-ATRi-Code-Repository/analysis.py:76: SettingWithCopyWarning: \n",
      "A value is trying to be set on a copy of a slice from a DataFrame.\n",
      "Try using .loc[row_indexer,col_indexer] = value instead\n",
      "\n",
      "See the caveats in the documentation: https://pandas.pydata.org/pandas-docs/stable/user_guide/indexing.html#returning-a-view-versus-a-copy\n",
      "  x_var_gene_set[\"x_composite_score\"] = x_var_gene_set.mean(axis = 1)\n",
      "/Users/shanghongsim/Documents/GitHub/HU-ATRi-Code-Repository/analysis.py:85: SettingWithCopyWarning: \n",
      "A value is trying to be set on a copy of a slice from a DataFrame.\n",
      "Try using .loc[row_indexer,col_indexer] = value instead\n",
      "\n",
      "See the caveats in the documentation: https://pandas.pydata.org/pandas-docs/stable/user_guide/indexing.html#returning-a-view-versus-a-copy\n",
      "  y_var_gene_set[\"y_composite_score\"]= y_var_gene_set.mean(axis = 1)\n"
     ]
    },
    {
     "name": "stdout",
     "output_type": "stream",
     "text": [
      "STAD\n",
      "[]\n",
      "[]\n"
     ]
    },
    {
     "name": "stderr",
     "output_type": "stream",
     "text": [
      "/Users/shanghongsim/Documents/GitHub/HU-ATRi-Code-Repository/analysis.py:76: SettingWithCopyWarning: \n",
      "A value is trying to be set on a copy of a slice from a DataFrame.\n",
      "Try using .loc[row_indexer,col_indexer] = value instead\n",
      "\n",
      "See the caveats in the documentation: https://pandas.pydata.org/pandas-docs/stable/user_guide/indexing.html#returning-a-view-versus-a-copy\n",
      "  x_var_gene_set[\"x_composite_score\"] = x_var_gene_set.mean(axis = 1)\n",
      "/Users/shanghongsim/Documents/GitHub/HU-ATRi-Code-Repository/analysis.py:85: SettingWithCopyWarning: \n",
      "A value is trying to be set on a copy of a slice from a DataFrame.\n",
      "Try using .loc[row_indexer,col_indexer] = value instead\n",
      "\n",
      "See the caveats in the documentation: https://pandas.pydata.org/pandas-docs/stable/user_guide/indexing.html#returning-a-view-versus-a-copy\n",
      "  y_var_gene_set[\"y_composite_score\"]= y_var_gene_set.mean(axis = 1)\n"
     ]
    },
    {
     "name": "stdout",
     "output_type": "stream",
     "text": [
      "LAML\n",
      "[]\n",
      "[]\n"
     ]
    },
    {
     "name": "stderr",
     "output_type": "stream",
     "text": [
      "/Users/shanghongsim/Documents/GitHub/HU-ATRi-Code-Repository/analysis.py:76: SettingWithCopyWarning: \n",
      "A value is trying to be set on a copy of a slice from a DataFrame.\n",
      "Try using .loc[row_indexer,col_indexer] = value instead\n",
      "\n",
      "See the caveats in the documentation: https://pandas.pydata.org/pandas-docs/stable/user_guide/indexing.html#returning-a-view-versus-a-copy\n",
      "  x_var_gene_set[\"x_composite_score\"] = x_var_gene_set.mean(axis = 1)\n",
      "/Users/shanghongsim/Documents/GitHub/HU-ATRi-Code-Repository/analysis.py:85: SettingWithCopyWarning: \n",
      "A value is trying to be set on a copy of a slice from a DataFrame.\n",
      "Try using .loc[row_indexer,col_indexer] = value instead\n",
      "\n",
      "See the caveats in the documentation: https://pandas.pydata.org/pandas-docs/stable/user_guide/indexing.html#returning-a-view-versus-a-copy\n",
      "  y_var_gene_set[\"y_composite_score\"]= y_var_gene_set.mean(axis = 1)\n"
     ]
    },
    {
     "name": "stdout",
     "output_type": "stream",
     "text": [
      "PANCAN\n",
      "[]\n",
      "[]\n"
     ]
    },
    {
     "name": "stderr",
     "output_type": "stream",
     "text": [
      "/Users/shanghongsim/Documents/GitHub/HU-ATRi-Code-Repository/analysis.py:76: SettingWithCopyWarning: \n",
      "A value is trying to be set on a copy of a slice from a DataFrame.\n",
      "Try using .loc[row_indexer,col_indexer] = value instead\n",
      "\n",
      "See the caveats in the documentation: https://pandas.pydata.org/pandas-docs/stable/user_guide/indexing.html#returning-a-view-versus-a-copy\n",
      "  x_var_gene_set[\"x_composite_score\"] = x_var_gene_set.mean(axis = 1)\n",
      "/Users/shanghongsim/Documents/GitHub/HU-ATRi-Code-Repository/analysis.py:85: SettingWithCopyWarning: \n",
      "A value is trying to be set on a copy of a slice from a DataFrame.\n",
      "Try using .loc[row_indexer,col_indexer] = value instead\n",
      "\n",
      "See the caveats in the documentation: https://pandas.pydata.org/pandas-docs/stable/user_guide/indexing.html#returning-a-view-versus-a-copy\n",
      "  y_var_gene_set[\"y_composite_score\"]= y_var_gene_set.mean(axis = 1)\n"
     ]
    },
    {
     "name": "stdout",
     "output_type": "stream",
     "text": [
      "done\n"
     ]
    }
   ],
   "source": [
    "# master script to screen cancers for RRM2B - NRF2 signature\n",
    "\n",
    "gene_set = pd.read_csv(\"./data/oxstress genes.csv\", index_col=None, header= 0)\n",
    "gene_set = gene_set['NRF2_GST_subset'].dropna().tolist()\n",
    "\n",
    "targets = list(set([\"G6PD\", \"RRM2B\"] +  gene_set))\n",
    "\n",
    "databases = ['HCCDB-1', 'HCCDB-3', 'HCCDB-4',  'HCCDB-8', 'HCCDB-9', 'HCCDB-11', \n",
    "       'HCCDB-12', 'HCCDB-13', 'HCCDB-14', 'HCCDB-16', 'HCCDB-17', 'HCCDB-18',\n",
    "       'ACC', 'BLCA', 'DBLC', 'UCEC', 'SKCM', 'HNSC', 'PRAD', 'KIRP',\n",
    "       'PAAD', 'SARC', 'CESC', 'COAD', 'LUSC', 'READ', 'KIRC', 'LIHC',\n",
    "       'BRCA', 'OV', 'UCS', 'GBM', 'KICH', 'THCA', 'LGG', 'LUAD', 'MESO',\n",
    "       'PCPG', 'TGCT', 'UVM', 'THYM', 'CHOL', 'ESCA', 'STAD', 'LAML','PANCAN'] # , , 'PANCAN'\n",
    "\n",
    "# define subplot grid\n",
    "fig, axs = plt.subplots(6, 8, figsize=(60, 40), sharey=True)\n",
    "plt.subplots_adjust(hspace=0.6)\n",
    "title = 'RRM2B vs NRF2 signature (GSTA4, GSTP1, GSTA1)'\n",
    "fig.suptitle(title,fontsize = 25)\n",
    "\n",
    "rtemp = []\n",
    "ptemp = []\n",
    "\n",
    "for db, ax in zip(databases, axs.ravel()):\n",
    "    print(db)\n",
    "    df = get_data(data, hccdb, db)\n",
    "    data_new = process_data(df, targets, x_var_names = [\"RRM2B\"], y_var_names = gene_set, pheno_filtered=None, outlier_corrected = True)\n",
    "    r, p = analyse(data_new, fig, db, ax, title + ' screen.png', x_label = \"RRM2B\", y_label = \"NRF2 signature\")\n",
    "    rtemp.append(r)\n",
    "    ptemp.append(p)\n",
    "\n",
    "r_all.append(rtemp)\n",
    "p_all.append(ptemp)\n",
    "print(\"done\")\n"
   ]
  },
  {
   "cell_type": "code",
   "execution_count": 28,
   "metadata": {},
   "outputs": [
    {
     "name": "stdout",
     "output_type": "stream",
     "text": [
      "HCCDB-1\n",
      "[]\n",
      "[]\n"
     ]
    },
    {
     "name": "stderr",
     "output_type": "stream",
     "text": [
      "/Users/shanghongsim/Documents/GitHub/HU-ATRi-Code-Repository/analysis.py:76: SettingWithCopyWarning: \n",
      "A value is trying to be set on a copy of a slice from a DataFrame.\n",
      "Try using .loc[row_indexer,col_indexer] = value instead\n",
      "\n",
      "See the caveats in the documentation: https://pandas.pydata.org/pandas-docs/stable/user_guide/indexing.html#returning-a-view-versus-a-copy\n",
      "  x_var_gene_set[\"x_composite_score\"] = x_var_gene_set.mean(axis = 1)\n",
      "/Users/shanghongsim/Documents/GitHub/HU-ATRi-Code-Repository/analysis.py:85: SettingWithCopyWarning: \n",
      "A value is trying to be set on a copy of a slice from a DataFrame.\n",
      "Try using .loc[row_indexer,col_indexer] = value instead\n",
      "\n",
      "See the caveats in the documentation: https://pandas.pydata.org/pandas-docs/stable/user_guide/indexing.html#returning-a-view-versus-a-copy\n",
      "  y_var_gene_set[\"y_composite_score\"]= y_var_gene_set.mean(axis = 1)\n"
     ]
    },
    {
     "data": {
      "image/png": "[encoded data removed]",
      "text/plain": [
       "<Figure size 4320x2880 with 48 Axes>"
      ]
     },
     "metadata": {},
     "output_type": "display_data"
    },
    {
     "name": "stdout",
     "output_type": "stream",
     "text": [
      "HCCDB-3\n",
      "[]\n",
      "[]\n"
     ]
    },
    {
     "name": "stderr",
     "output_type": "stream",
     "text": [
      "/Users/shanghongsim/Documents/GitHub/HU-ATRi-Code-Repository/analysis.py:76: SettingWithCopyWarning: \n",
      "A value is trying to be set on a copy of a slice from a DataFrame.\n",
      "Try using .loc[row_indexer,col_indexer] = value instead\n",
      "\n",
      "See the caveats in the documentation: https://pandas.pydata.org/pandas-docs/stable/user_guide/indexing.html#returning-a-view-versus-a-copy\n",
      "  x_var_gene_set[\"x_composite_score\"] = x_var_gene_set.mean(axis = 1)\n",
      "/Users/shanghongsim/Documents/GitHub/HU-ATRi-Code-Repository/analysis.py:85: SettingWithCopyWarning: \n",
      "A value is trying to be set on a copy of a slice from a DataFrame.\n",
      "Try using .loc[row_indexer,col_indexer] = value instead\n",
      "\n",
      "See the caveats in the documentation: https://pandas.pydata.org/pandas-docs/stable/user_guide/indexing.html#returning-a-view-versus-a-copy\n",
      "  y_var_gene_set[\"y_composite_score\"]= y_var_gene_set.mean(axis = 1)\n"
     ]
    },
    {
     "name": "stdout",
     "output_type": "stream",
     "text": [
      "HCCDB-4\n",
      "[]\n",
      "[]\n"
     ]
    },
    {
     "name": "stderr",
     "output_type": "stream",
     "text": [
      "/Users/shanghongsim/Documents/GitHub/HU-ATRi-Code-Repository/analysis.py:76: SettingWithCopyWarning: \n",
      "A value is trying to be set on a copy of a slice from a DataFrame.\n",
      "Try using .loc[row_indexer,col_indexer] = value instead\n",
      "\n",
      "See the caveats in the documentation: https://pandas.pydata.org/pandas-docs/stable/user_guide/indexing.html#returning-a-view-versus-a-copy\n",
      "  x_var_gene_set[\"x_composite_score\"] = x_var_gene_set.mean(axis = 1)\n",
      "/Users/shanghongsim/Documents/GitHub/HU-ATRi-Code-Repository/analysis.py:85: SettingWithCopyWarning: \n",
      "A value is trying to be set on a copy of a slice from a DataFrame.\n",
      "Try using .loc[row_indexer,col_indexer] = value instead\n",
      "\n",
      "See the caveats in the documentation: https://pandas.pydata.org/pandas-docs/stable/user_guide/indexing.html#returning-a-view-versus-a-copy\n",
      "  y_var_gene_set[\"y_composite_score\"]= y_var_gene_set.mean(axis = 1)\n"
     ]
    },
    {
     "name": "stdout",
     "output_type": "stream",
     "text": [
      "HCCDB-8\n",
      "[]\n",
      "[]\n"
     ]
    },
    {
     "name": "stderr",
     "output_type": "stream",
     "text": [
      "/Users/shanghongsim/Documents/GitHub/HU-ATRi-Code-Repository/analysis.py:76: SettingWithCopyWarning: \n",
      "A value is trying to be set on a copy of a slice from a DataFrame.\n",
      "Try using .loc[row_indexer,col_indexer] = value instead\n",
      "\n",
      "See the caveats in the documentation: https://pandas.pydata.org/pandas-docs/stable/user_guide/indexing.html#returning-a-view-versus-a-copy\n",
      "  x_var_gene_set[\"x_composite_score\"] = x_var_gene_set.mean(axis = 1)\n",
      "/Users/shanghongsim/Documents/GitHub/HU-ATRi-Code-Repository/analysis.py:85: SettingWithCopyWarning: \n",
      "A value is trying to be set on a copy of a slice from a DataFrame.\n",
      "Try using .loc[row_indexer,col_indexer] = value instead\n",
      "\n",
      "See the caveats in the documentation: https://pandas.pydata.org/pandas-docs/stable/user_guide/indexing.html#returning-a-view-versus-a-copy\n",
      "  y_var_gene_set[\"y_composite_score\"]= y_var_gene_set.mean(axis = 1)\n"
     ]
    },
    {
     "name": "stdout",
     "output_type": "stream",
     "text": [
      "HCCDB-9\n",
      "[]\n",
      "[]\n"
     ]
    },
    {
     "name": "stderr",
     "output_type": "stream",
     "text": [
      "/Users/shanghongsim/Documents/GitHub/HU-ATRi-Code-Repository/analysis.py:76: SettingWithCopyWarning: \n",
      "A value is trying to be set on a copy of a slice from a DataFrame.\n",
      "Try using .loc[row_indexer,col_indexer] = value instead\n",
      "\n",
      "See the caveats in the documentation: https://pandas.pydata.org/pandas-docs/stable/user_guide/indexing.html#returning-a-view-versus-a-copy\n",
      "  x_var_gene_set[\"x_composite_score\"] = x_var_gene_set.mean(axis = 1)\n",
      "/Users/shanghongsim/Documents/GitHub/HU-ATRi-Code-Repository/analysis.py:85: SettingWithCopyWarning: \n",
      "A value is trying to be set on a copy of a slice from a DataFrame.\n",
      "Try using .loc[row_indexer,col_indexer] = value instead\n",
      "\n",
      "See the caveats in the documentation: https://pandas.pydata.org/pandas-docs/stable/user_guide/indexing.html#returning-a-view-versus-a-copy\n",
      "  y_var_gene_set[\"y_composite_score\"]= y_var_gene_set.mean(axis = 1)\n"
     ]
    },
    {
     "name": "stdout",
     "output_type": "stream",
     "text": [
      "HCCDB-11\n",
      "[]\n",
      "[]\n"
     ]
    },
    {
     "name": "stderr",
     "output_type": "stream",
     "text": [
      "/Users/shanghongsim/Documents/GitHub/HU-ATRi-Code-Repository/analysis.py:76: SettingWithCopyWarning: \n",
      "A value is trying to be set on a copy of a slice from a DataFrame.\n",
      "Try using .loc[row_indexer,col_indexer] = value instead\n",
      "\n",
      "See the caveats in the documentation: https://pandas.pydata.org/pandas-docs/stable/user_guide/indexing.html#returning-a-view-versus-a-copy\n",
      "  x_var_gene_set[\"x_composite_score\"] = x_var_gene_set.mean(axis = 1)\n",
      "/Users/shanghongsim/Documents/GitHub/HU-ATRi-Code-Repository/analysis.py:85: SettingWithCopyWarning: \n",
      "A value is trying to be set on a copy of a slice from a DataFrame.\n",
      "Try using .loc[row_indexer,col_indexer] = value instead\n",
      "\n",
      "See the caveats in the documentation: https://pandas.pydata.org/pandas-docs/stable/user_guide/indexing.html#returning-a-view-versus-a-copy\n",
      "  y_var_gene_set[\"y_composite_score\"]= y_var_gene_set.mean(axis = 1)\n"
     ]
    },
    {
     "name": "stdout",
     "output_type": "stream",
     "text": [
      "HCCDB-12\n",
      "[]\n",
      "[]\n"
     ]
    },
    {
     "name": "stderr",
     "output_type": "stream",
     "text": [
      "/Users/shanghongsim/Documents/GitHub/HU-ATRi-Code-Repository/analysis.py:76: SettingWithCopyWarning: \n",
      "A value is trying to be set on a copy of a slice from a DataFrame.\n",
      "Try using .loc[row_indexer,col_indexer] = value instead\n",
      "\n",
      "See the caveats in the documentation: https://pandas.pydata.org/pandas-docs/stable/user_guide/indexing.html#returning-a-view-versus-a-copy\n",
      "  x_var_gene_set[\"x_composite_score\"] = x_var_gene_set.mean(axis = 1)\n",
      "/Users/shanghongsim/Documents/GitHub/HU-ATRi-Code-Repository/analysis.py:85: SettingWithCopyWarning: \n",
      "A value is trying to be set on a copy of a slice from a DataFrame.\n",
      "Try using .loc[row_indexer,col_indexer] = value instead\n",
      "\n",
      "See the caveats in the documentation: https://pandas.pydata.org/pandas-docs/stable/user_guide/indexing.html#returning-a-view-versus-a-copy\n",
      "  y_var_gene_set[\"y_composite_score\"]= y_var_gene_set.mean(axis = 1)\n"
     ]
    },
    {
     "name": "stdout",
     "output_type": "stream",
     "text": [
      "HCCDB-13\n",
      "[]\n",
      "[]\n"
     ]
    },
    {
     "name": "stderr",
     "output_type": "stream",
     "text": [
      "/Users/shanghongsim/Documents/GitHub/HU-ATRi-Code-Repository/analysis.py:76: SettingWithCopyWarning: \n",
      "A value is trying to be set on a copy of a slice from a DataFrame.\n",
      "Try using .loc[row_indexer,col_indexer] = value instead\n",
      "\n",
      "See the caveats in the documentation: https://pandas.pydata.org/pandas-docs/stable/user_guide/indexing.html#returning-a-view-versus-a-copy\n",
      "  x_var_gene_set[\"x_composite_score\"] = x_var_gene_set.mean(axis = 1)\n",
      "/Users/shanghongsim/Documents/GitHub/HU-ATRi-Code-Repository/analysis.py:85: SettingWithCopyWarning: \n",
      "A value is trying to be set on a copy of a slice from a DataFrame.\n",
      "Try using .loc[row_indexer,col_indexer] = value instead\n",
      "\n",
      "See the caveats in the documentation: https://pandas.pydata.org/pandas-docs/stable/user_guide/indexing.html#returning-a-view-versus-a-copy\n",
      "  y_var_gene_set[\"y_composite_score\"]= y_var_gene_set.mean(axis = 1)\n"
     ]
    },
    {
     "name": "stdout",
     "output_type": "stream",
     "text": [
      "HCCDB-14\n",
      "[]\n",
      "[]\n"
     ]
    },
    {
     "name": "stderr",
     "output_type": "stream",
     "text": [
      "/Users/shanghongsim/Documents/GitHub/HU-ATRi-Code-Repository/analysis.py:76: SettingWithCopyWarning: \n",
      "A value is trying to be set on a copy of a slice from a DataFrame.\n",
      "Try using .loc[row_indexer,col_indexer] = value instead\n",
      "\n",
      "See the caveats in the documentation: https://pandas.pydata.org/pandas-docs/stable/user_guide/indexing.html#returning-a-view-versus-a-copy\n",
      "  x_var_gene_set[\"x_composite_score\"] = x_var_gene_set.mean(axis = 1)\n",
      "/Users/shanghongsim/Documents/GitHub/HU-ATRi-Code-Repository/analysis.py:85: SettingWithCopyWarning: \n",
      "A value is trying to be set on a copy of a slice from a DataFrame.\n",
      "Try using .loc[row_indexer,col_indexer] = value instead\n",
      "\n",
      "See the caveats in the documentation: https://pandas.pydata.org/pandas-docs/stable/user_guide/indexing.html#returning-a-view-versus-a-copy\n",
      "  y_var_gene_set[\"y_composite_score\"]= y_var_gene_set.mean(axis = 1)\n"
     ]
    },
    {
     "name": "stdout",
     "output_type": "stream",
     "text": [
      "HCCDB-16\n",
      "[]\n",
      "[]\n"
     ]
    },
    {
     "name": "stderr",
     "output_type": "stream",
     "text": [
      "/Users/shanghongsim/Documents/GitHub/HU-ATRi-Code-Repository/analysis.py:76: SettingWithCopyWarning: \n",
      "A value is trying to be set on a copy of a slice from a DataFrame.\n",
      "Try using .loc[row_indexer,col_indexer] = value instead\n",
      "\n",
      "See the caveats in the documentation: https://pandas.pydata.org/pandas-docs/stable/user_guide/indexing.html#returning-a-view-versus-a-copy\n",
      "  x_var_gene_set[\"x_composite_score\"] = x_var_gene_set.mean(axis = 1)\n",
      "/Users/shanghongsim/Documents/GitHub/HU-ATRi-Code-Repository/analysis.py:85: SettingWithCopyWarning: \n",
      "A value is trying to be set on a copy of a slice from a DataFrame.\n",
      "Try using .loc[row_indexer,col_indexer] = value instead\n",
      "\n",
      "See the caveats in the documentation: https://pandas.pydata.org/pandas-docs/stable/user_guide/indexing.html#returning-a-view-versus-a-copy\n",
      "  y_var_gene_set[\"y_composite_score\"]= y_var_gene_set.mean(axis = 1)\n"
     ]
    },
    {
     "name": "stdout",
     "output_type": "stream",
     "text": [
      "HCCDB-17\n",
      "[]\n",
      "[]\n"
     ]
    },
    {
     "name": "stderr",
     "output_type": "stream",
     "text": [
      "/Users/shanghongsim/Documents/GitHub/HU-ATRi-Code-Repository/analysis.py:76: SettingWithCopyWarning: \n",
      "A value is trying to be set on a copy of a slice from a DataFrame.\n",
      "Try using .loc[row_indexer,col_indexer] = value instead\n",
      "\n",
      "See the caveats in the documentation: https://pandas.pydata.org/pandas-docs/stable/user_guide/indexing.html#returning-a-view-versus-a-copy\n",
      "  x_var_gene_set[\"x_composite_score\"] = x_var_gene_set.mean(axis = 1)\n",
      "/Users/shanghongsim/Documents/GitHub/HU-ATRi-Code-Repository/analysis.py:85: SettingWithCopyWarning: \n",
      "A value is trying to be set on a copy of a slice from a DataFrame.\n",
      "Try using .loc[row_indexer,col_indexer] = value instead\n",
      "\n",
      "See the caveats in the documentation: https://pandas.pydata.org/pandas-docs/stable/user_guide/indexing.html#returning-a-view-versus-a-copy\n",
      "  y_var_gene_set[\"y_composite_score\"]= y_var_gene_set.mean(axis = 1)\n"
     ]
    },
    {
     "name": "stdout",
     "output_type": "stream",
     "text": [
      "HCCDB-18\n",
      "[]\n",
      "[]\n"
     ]
    },
    {
     "name": "stderr",
     "output_type": "stream",
     "text": [
      "/Users/shanghongsim/Documents/GitHub/HU-ATRi-Code-Repository/analysis.py:76: SettingWithCopyWarning: \n",
      "A value is trying to be set on a copy of a slice from a DataFrame.\n",
      "Try using .loc[row_indexer,col_indexer] = value instead\n",
      "\n",
      "See the caveats in the documentation: https://pandas.pydata.org/pandas-docs/stable/user_guide/indexing.html#returning-a-view-versus-a-copy\n",
      "  x_var_gene_set[\"x_composite_score\"] = x_var_gene_set.mean(axis = 1)\n",
      "/Users/shanghongsim/Documents/GitHub/HU-ATRi-Code-Repository/analysis.py:85: SettingWithCopyWarning: \n",
      "A value is trying to be set on a copy of a slice from a DataFrame.\n",
      "Try using .loc[row_indexer,col_indexer] = value instead\n",
      "\n",
      "See the caveats in the documentation: https://pandas.pydata.org/pandas-docs/stable/user_guide/indexing.html#returning-a-view-versus-a-copy\n",
      "  y_var_gene_set[\"y_composite_score\"]= y_var_gene_set.mean(axis = 1)\n"
     ]
    },
    {
     "name": "stdout",
     "output_type": "stream",
     "text": [
      "ACC\n",
      "[]\n",
      "[]\n"
     ]
    },
    {
     "name": "stderr",
     "output_type": "stream",
     "text": [
      "/Users/shanghongsim/Documents/GitHub/HU-ATRi-Code-Repository/analysis.py:76: SettingWithCopyWarning: \n",
      "A value is trying to be set on a copy of a slice from a DataFrame.\n",
      "Try using .loc[row_indexer,col_indexer] = value instead\n",
      "\n",
      "See the caveats in the documentation: https://pandas.pydata.org/pandas-docs/stable/user_guide/indexing.html#returning-a-view-versus-a-copy\n",
      "  x_var_gene_set[\"x_composite_score\"] = x_var_gene_set.mean(axis = 1)\n",
      "/Users/shanghongsim/Documents/GitHub/HU-ATRi-Code-Repository/analysis.py:85: SettingWithCopyWarning: \n",
      "A value is trying to be set on a copy of a slice from a DataFrame.\n",
      "Try using .loc[row_indexer,col_indexer] = value instead\n",
      "\n",
      "See the caveats in the documentation: https://pandas.pydata.org/pandas-docs/stable/user_guide/indexing.html#returning-a-view-versus-a-copy\n",
      "  y_var_gene_set[\"y_composite_score\"]= y_var_gene_set.mean(axis = 1)\n"
     ]
    },
    {
     "name": "stdout",
     "output_type": "stream",
     "text": [
      "BLCA\n",
      "[]\n",
      "[]\n"
     ]
    },
    {
     "name": "stderr",
     "output_type": "stream",
     "text": [
      "/Users/shanghongsim/Documents/GitHub/HU-ATRi-Code-Repository/analysis.py:76: SettingWithCopyWarning: \n",
      "A value is trying to be set on a copy of a slice from a DataFrame.\n",
      "Try using .loc[row_indexer,col_indexer] = value instead\n",
      "\n",
      "See the caveats in the documentation: https://pandas.pydata.org/pandas-docs/stable/user_guide/indexing.html#returning-a-view-versus-a-copy\n",
      "  x_var_gene_set[\"x_composite_score\"] = x_var_gene_set.mean(axis = 1)\n",
      "/Users/shanghongsim/Documents/GitHub/HU-ATRi-Code-Repository/analysis.py:85: SettingWithCopyWarning: \n",
      "A value is trying to be set on a copy of a slice from a DataFrame.\n",
      "Try using .loc[row_indexer,col_indexer] = value instead\n",
      "\n",
      "See the caveats in the documentation: https://pandas.pydata.org/pandas-docs/stable/user_guide/indexing.html#returning-a-view-versus-a-copy\n",
      "  y_var_gene_set[\"y_composite_score\"]= y_var_gene_set.mean(axis = 1)\n"
     ]
    },
    {
     "name": "stdout",
     "output_type": "stream",
     "text": [
      "DBLC\n",
      "[]\n",
      "[]\n"
     ]
    },
    {
     "name": "stderr",
     "output_type": "stream",
     "text": [
      "/Users/shanghongsim/Documents/GitHub/HU-ATRi-Code-Repository/analysis.py:76: SettingWithCopyWarning: \n",
      "A value is trying to be set on a copy of a slice from a DataFrame.\n",
      "Try using .loc[row_indexer,col_indexer] = value instead\n",
      "\n",
      "See the caveats in the documentation: https://pandas.pydata.org/pandas-docs/stable/user_guide/indexing.html#returning-a-view-versus-a-copy\n",
      "  x_var_gene_set[\"x_composite_score\"] = x_var_gene_set.mean(axis = 1)\n",
      "/Users/shanghongsim/Documents/GitHub/HU-ATRi-Code-Repository/analysis.py:85: SettingWithCopyWarning: \n",
      "A value is trying to be set on a copy of a slice from a DataFrame.\n",
      "Try using .loc[row_indexer,col_indexer] = value instead\n",
      "\n",
      "See the caveats in the documentation: https://pandas.pydata.org/pandas-docs/stable/user_guide/indexing.html#returning-a-view-versus-a-copy\n",
      "  y_var_gene_set[\"y_composite_score\"]= y_var_gene_set.mean(axis = 1)\n"
     ]
    },
    {
     "name": "stdout",
     "output_type": "stream",
     "text": [
      "UCEC\n",
      "[]\n",
      "[]\n"
     ]
    },
    {
     "name": "stderr",
     "output_type": "stream",
     "text": [
      "/Users/shanghongsim/Documents/GitHub/HU-ATRi-Code-Repository/analysis.py:76: SettingWithCopyWarning: \n",
      "A value is trying to be set on a copy of a slice from a DataFrame.\n",
      "Try using .loc[row_indexer,col_indexer] = value instead\n",
      "\n",
      "See the caveats in the documentation: https://pandas.pydata.org/pandas-docs/stable/user_guide/indexing.html#returning-a-view-versus-a-copy\n",
      "  x_var_gene_set[\"x_composite_score\"] = x_var_gene_set.mean(axis = 1)\n",
      "/Users/shanghongsim/Documents/GitHub/HU-ATRi-Code-Repository/analysis.py:85: SettingWithCopyWarning: \n",
      "A value is trying to be set on a copy of a slice from a DataFrame.\n",
      "Try using .loc[row_indexer,col_indexer] = value instead\n",
      "\n",
      "See the caveats in the documentation: https://pandas.pydata.org/pandas-docs/stable/user_guide/indexing.html#returning-a-view-versus-a-copy\n",
      "  y_var_gene_set[\"y_composite_score\"]= y_var_gene_set.mean(axis = 1)\n"
     ]
    },
    {
     "name": "stdout",
     "output_type": "stream",
     "text": [
      "SKCM\n",
      "[]\n",
      "[]\n"
     ]
    },
    {
     "name": "stderr",
     "output_type": "stream",
     "text": [
      "/Users/shanghongsim/Documents/GitHub/HU-ATRi-Code-Repository/analysis.py:76: SettingWithCopyWarning: \n",
      "A value is trying to be set on a copy of a slice from a DataFrame.\n",
      "Try using .loc[row_indexer,col_indexer] = value instead\n",
      "\n",
      "See the caveats in the documentation: https://pandas.pydata.org/pandas-docs/stable/user_guide/indexing.html#returning-a-view-versus-a-copy\n",
      "  x_var_gene_set[\"x_composite_score\"] = x_var_gene_set.mean(axis = 1)\n",
      "/Users/shanghongsim/Documents/GitHub/HU-ATRi-Code-Repository/analysis.py:85: SettingWithCopyWarning: \n",
      "A value is trying to be set on a copy of a slice from a DataFrame.\n",
      "Try using .loc[row_indexer,col_indexer] = value instead\n",
      "\n",
      "See the caveats in the documentation: https://pandas.pydata.org/pandas-docs/stable/user_guide/indexing.html#returning-a-view-versus-a-copy\n",
      "  y_var_gene_set[\"y_composite_score\"]= y_var_gene_set.mean(axis = 1)\n"
     ]
    },
    {
     "name": "stdout",
     "output_type": "stream",
     "text": [
      "HNSC\n",
      "[]\n",
      "[]\n"
     ]
    },
    {
     "name": "stderr",
     "output_type": "stream",
     "text": [
      "/Users/shanghongsim/Documents/GitHub/HU-ATRi-Code-Repository/analysis.py:76: SettingWithCopyWarning: \n",
      "A value is trying to be set on a copy of a slice from a DataFrame.\n",
      "Try using .loc[row_indexer,col_indexer] = value instead\n",
      "\n",
      "See the caveats in the documentation: https://pandas.pydata.org/pandas-docs/stable/user_guide/indexing.html#returning-a-view-versus-a-copy\n",
      "  x_var_gene_set[\"x_composite_score\"] = x_var_gene_set.mean(axis = 1)\n",
      "/Users/shanghongsim/Documents/GitHub/HU-ATRi-Code-Repository/analysis.py:85: SettingWithCopyWarning: \n",
      "A value is trying to be set on a copy of a slice from a DataFrame.\n",
      "Try using .loc[row_indexer,col_indexer] = value instead\n",
      "\n",
      "See the caveats in the documentation: https://pandas.pydata.org/pandas-docs/stable/user_guide/indexing.html#returning-a-view-versus-a-copy\n",
      "  y_var_gene_set[\"y_composite_score\"]= y_var_gene_set.mean(axis = 1)\n"
     ]
    },
    {
     "name": "stdout",
     "output_type": "stream",
     "text": [
      "PRAD\n",
      "[]\n",
      "[]\n"
     ]
    },
    {
     "name": "stderr",
     "output_type": "stream",
     "text": [
      "/Users/shanghongsim/Documents/GitHub/HU-ATRi-Code-Repository/analysis.py:76: SettingWithCopyWarning: \n",
      "A value is trying to be set on a copy of a slice from a DataFrame.\n",
      "Try using .loc[row_indexer,col_indexer] = value instead\n",
      "\n",
      "See the caveats in the documentation: https://pandas.pydata.org/pandas-docs/stable/user_guide/indexing.html#returning-a-view-versus-a-copy\n",
      "  x_var_gene_set[\"x_composite_score\"] = x_var_gene_set.mean(axis = 1)\n",
      "/Users/shanghongsim/Documents/GitHub/HU-ATRi-Code-Repository/analysis.py:85: SettingWithCopyWarning: \n",
      "A value is trying to be set on a copy of a slice from a DataFrame.\n",
      "Try using .loc[row_indexer,col_indexer] = value instead\n",
      "\n",
      "See the caveats in the documentation: https://pandas.pydata.org/pandas-docs/stable/user_guide/indexing.html#returning-a-view-versus-a-copy\n",
      "  y_var_gene_set[\"y_composite_score\"]= y_var_gene_set.mean(axis = 1)\n"
     ]
    },
    {
     "name": "stdout",
     "output_type": "stream",
     "text": [
      "KIRP\n",
      "[]\n",
      "[]\n"
     ]
    },
    {
     "name": "stderr",
     "output_type": "stream",
     "text": [
      "/Users/shanghongsim/Documents/GitHub/HU-ATRi-Code-Repository/analysis.py:76: SettingWithCopyWarning: \n",
      "A value is trying to be set on a copy of a slice from a DataFrame.\n",
      "Try using .loc[row_indexer,col_indexer] = value instead\n",
      "\n",
      "See the caveats in the documentation: https://pandas.pydata.org/pandas-docs/stable/user_guide/indexing.html#returning-a-view-versus-a-copy\n",
      "  x_var_gene_set[\"x_composite_score\"] = x_var_gene_set.mean(axis = 1)\n",
      "/Users/shanghongsim/Documents/GitHub/HU-ATRi-Code-Repository/analysis.py:85: SettingWithCopyWarning: \n",
      "A value is trying to be set on a copy of a slice from a DataFrame.\n",
      "Try using .loc[row_indexer,col_indexer] = value instead\n",
      "\n",
      "See the caveats in the documentation: https://pandas.pydata.org/pandas-docs/stable/user_guide/indexing.html#returning-a-view-versus-a-copy\n",
      "  y_var_gene_set[\"y_composite_score\"]= y_var_gene_set.mean(axis = 1)\n"
     ]
    },
    {
     "name": "stdout",
     "output_type": "stream",
     "text": [
      "PAAD\n",
      "[]\n",
      "[]\n"
     ]
    },
    {
     "name": "stderr",
     "output_type": "stream",
     "text": [
      "/Users/shanghongsim/Documents/GitHub/HU-ATRi-Code-Repository/analysis.py:76: SettingWithCopyWarning: \n",
      "A value is trying to be set on a copy of a slice from a DataFrame.\n",
      "Try using .loc[row_indexer,col_indexer] = value instead\n",
      "\n",
      "See the caveats in the documentation: https://pandas.pydata.org/pandas-docs/stable/user_guide/indexing.html#returning-a-view-versus-a-copy\n",
      "  x_var_gene_set[\"x_composite_score\"] = x_var_gene_set.mean(axis = 1)\n",
      "/Users/shanghongsim/Documents/GitHub/HU-ATRi-Code-Repository/analysis.py:85: SettingWithCopyWarning: \n",
      "A value is trying to be set on a copy of a slice from a DataFrame.\n",
      "Try using .loc[row_indexer,col_indexer] = value instead\n",
      "\n",
      "See the caveats in the documentation: https://pandas.pydata.org/pandas-docs/stable/user_guide/indexing.html#returning-a-view-versus-a-copy\n",
      "  y_var_gene_set[\"y_composite_score\"]= y_var_gene_set.mean(axis = 1)\n"
     ]
    },
    {
     "name": "stdout",
     "output_type": "stream",
     "text": [
      "SARC\n",
      "[]\n",
      "[]\n"
     ]
    },
    {
     "name": "stderr",
     "output_type": "stream",
     "text": [
      "/Users/shanghongsim/Documents/GitHub/HU-ATRi-Code-Repository/analysis.py:76: SettingWithCopyWarning: \n",
      "A value is trying to be set on a copy of a slice from a DataFrame.\n",
      "Try using .loc[row_indexer,col_indexer] = value instead\n",
      "\n",
      "See the caveats in the documentation: https://pandas.pydata.org/pandas-docs/stable/user_guide/indexing.html#returning-a-view-versus-a-copy\n",
      "  x_var_gene_set[\"x_composite_score\"] = x_var_gene_set.mean(axis = 1)\n",
      "/Users/shanghongsim/Documents/GitHub/HU-ATRi-Code-Repository/analysis.py:85: SettingWithCopyWarning: \n",
      "A value is trying to be set on a copy of a slice from a DataFrame.\n",
      "Try using .loc[row_indexer,col_indexer] = value instead\n",
      "\n",
      "See the caveats in the documentation: https://pandas.pydata.org/pandas-docs/stable/user_guide/indexing.html#returning-a-view-versus-a-copy\n",
      "  y_var_gene_set[\"y_composite_score\"]= y_var_gene_set.mean(axis = 1)\n"
     ]
    },
    {
     "name": "stdout",
     "output_type": "stream",
     "text": [
      "CESC\n",
      "[]\n",
      "[]\n"
     ]
    },
    {
     "name": "stderr",
     "output_type": "stream",
     "text": [
      "/Users/shanghongsim/Documents/GitHub/HU-ATRi-Code-Repository/analysis.py:76: SettingWithCopyWarning: \n",
      "A value is trying to be set on a copy of a slice from a DataFrame.\n",
      "Try using .loc[row_indexer,col_indexer] = value instead\n",
      "\n",
      "See the caveats in the documentation: https://pandas.pydata.org/pandas-docs/stable/user_guide/indexing.html#returning-a-view-versus-a-copy\n",
      "  x_var_gene_set[\"x_composite_score\"] = x_var_gene_set.mean(axis = 1)\n",
      "/Users/shanghongsim/Documents/GitHub/HU-ATRi-Code-Repository/analysis.py:85: SettingWithCopyWarning: \n",
      "A value is trying to be set on a copy of a slice from a DataFrame.\n",
      "Try using .loc[row_indexer,col_indexer] = value instead\n",
      "\n",
      "See the caveats in the documentation: https://pandas.pydata.org/pandas-docs/stable/user_guide/indexing.html#returning-a-view-versus-a-copy\n",
      "  y_var_gene_set[\"y_composite_score\"]= y_var_gene_set.mean(axis = 1)\n"
     ]
    },
    {
     "name": "stdout",
     "output_type": "stream",
     "text": [
      "COAD\n",
      "[]\n",
      "[]\n"
     ]
    },
    {
     "name": "stderr",
     "output_type": "stream",
     "text": [
      "/Users/shanghongsim/Documents/GitHub/HU-ATRi-Code-Repository/analysis.py:76: SettingWithCopyWarning: \n",
      "A value is trying to be set on a copy of a slice from a DataFrame.\n",
      "Try using .loc[row_indexer,col_indexer] = value instead\n",
      "\n",
      "See the caveats in the documentation: https://pandas.pydata.org/pandas-docs/stable/user_guide/indexing.html#returning-a-view-versus-a-copy\n",
      "  x_var_gene_set[\"x_composite_score\"] = x_var_gene_set.mean(axis = 1)\n",
      "/Users/shanghongsim/Documents/GitHub/HU-ATRi-Code-Repository/analysis.py:85: SettingWithCopyWarning: \n",
      "A value is trying to be set on a copy of a slice from a DataFrame.\n",
      "Try using .loc[row_indexer,col_indexer] = value instead\n",
      "\n",
      "See the caveats in the documentation: https://pandas.pydata.org/pandas-docs/stable/user_guide/indexing.html#returning-a-view-versus-a-copy\n",
      "  y_var_gene_set[\"y_composite_score\"]= y_var_gene_set.mean(axis = 1)\n"
     ]
    },
    {
     "name": "stdout",
     "output_type": "stream",
     "text": [
      "LUSC\n",
      "[]\n",
      "[]\n"
     ]
    },
    {
     "name": "stderr",
     "output_type": "stream",
     "text": [
      "/Users/shanghongsim/Documents/GitHub/HU-ATRi-Code-Repository/analysis.py:76: SettingWithCopyWarning: \n",
      "A value is trying to be set on a copy of a slice from a DataFrame.\n",
      "Try using .loc[row_indexer,col_indexer] = value instead\n",
      "\n",
      "See the caveats in the documentation: https://pandas.pydata.org/pandas-docs/stable/user_guide/indexing.html#returning-a-view-versus-a-copy\n",
      "  x_var_gene_set[\"x_composite_score\"] = x_var_gene_set.mean(axis = 1)\n",
      "/Users/shanghongsim/Documents/GitHub/HU-ATRi-Code-Repository/analysis.py:85: SettingWithCopyWarning: \n",
      "A value is trying to be set on a copy of a slice from a DataFrame.\n",
      "Try using .loc[row_indexer,col_indexer] = value instead\n",
      "\n",
      "See the caveats in the documentation: https://pandas.pydata.org/pandas-docs/stable/user_guide/indexing.html#returning-a-view-versus-a-copy\n",
      "  y_var_gene_set[\"y_composite_score\"]= y_var_gene_set.mean(axis = 1)\n"
     ]
    },
    {
     "name": "stdout",
     "output_type": "stream",
     "text": [
      "READ\n",
      "[]\n",
      "[]\n"
     ]
    },
    {
     "name": "stderr",
     "output_type": "stream",
     "text": [
      "/Users/shanghongsim/Documents/GitHub/HU-ATRi-Code-Repository/analysis.py:76: SettingWithCopyWarning: \n",
      "A value is trying to be set on a copy of a slice from a DataFrame.\n",
      "Try using .loc[row_indexer,col_indexer] = value instead\n",
      "\n",
      "See the caveats in the documentation: https://pandas.pydata.org/pandas-docs/stable/user_guide/indexing.html#returning-a-view-versus-a-copy\n",
      "  x_var_gene_set[\"x_composite_score\"] = x_var_gene_set.mean(axis = 1)\n",
      "/Users/shanghongsim/Documents/GitHub/HU-ATRi-Code-Repository/analysis.py:85: SettingWithCopyWarning: \n",
      "A value is trying to be set on a copy of a slice from a DataFrame.\n",
      "Try using .loc[row_indexer,col_indexer] = value instead\n",
      "\n",
      "See the caveats in the documentation: https://pandas.pydata.org/pandas-docs/stable/user_guide/indexing.html#returning-a-view-versus-a-copy\n",
      "  y_var_gene_set[\"y_composite_score\"]= y_var_gene_set.mean(axis = 1)\n"
     ]
    },
    {
     "name": "stdout",
     "output_type": "stream",
     "text": [
      "KIRC\n",
      "[]\n",
      "[]\n"
     ]
    },
    {
     "name": "stderr",
     "output_type": "stream",
     "text": [
      "/Users/shanghongsim/Documents/GitHub/HU-ATRi-Code-Repository/analysis.py:76: SettingWithCopyWarning: \n",
      "A value is trying to be set on a copy of a slice from a DataFrame.\n",
      "Try using .loc[row_indexer,col_indexer] = value instead\n",
      "\n",
      "See the caveats in the documentation: https://pandas.pydata.org/pandas-docs/stable/user_guide/indexing.html#returning-a-view-versus-a-copy\n",
      "  x_var_gene_set[\"x_composite_score\"] = x_var_gene_set.mean(axis = 1)\n",
      "/Users/shanghongsim/Documents/GitHub/HU-ATRi-Code-Repository/analysis.py:85: SettingWithCopyWarning: \n",
      "A value is trying to be set on a copy of a slice from a DataFrame.\n",
      "Try using .loc[row_indexer,col_indexer] = value instead\n",
      "\n",
      "See the caveats in the documentation: https://pandas.pydata.org/pandas-docs/stable/user_guide/indexing.html#returning-a-view-versus-a-copy\n",
      "  y_var_gene_set[\"y_composite_score\"]= y_var_gene_set.mean(axis = 1)\n"
     ]
    },
    {
     "name": "stdout",
     "output_type": "stream",
     "text": [
      "LIHC\n",
      "[]\n",
      "[]\n"
     ]
    },
    {
     "name": "stderr",
     "output_type": "stream",
     "text": [
      "/Users/shanghongsim/Documents/GitHub/HU-ATRi-Code-Repository/analysis.py:76: SettingWithCopyWarning: \n",
      "A value is trying to be set on a copy of a slice from a DataFrame.\n",
      "Try using .loc[row_indexer,col_indexer] = value instead\n",
      "\n",
      "See the caveats in the documentation: https://pandas.pydata.org/pandas-docs/stable/user_guide/indexing.html#returning-a-view-versus-a-copy\n",
      "  x_var_gene_set[\"x_composite_score\"] = x_var_gene_set.mean(axis = 1)\n",
      "/Users/shanghongsim/Documents/GitHub/HU-ATRi-Code-Repository/analysis.py:85: SettingWithCopyWarning: \n",
      "A value is trying to be set on a copy of a slice from a DataFrame.\n",
      "Try using .loc[row_indexer,col_indexer] = value instead\n",
      "\n",
      "See the caveats in the documentation: https://pandas.pydata.org/pandas-docs/stable/user_guide/indexing.html#returning-a-view-versus-a-copy\n",
      "  y_var_gene_set[\"y_composite_score\"]= y_var_gene_set.mean(axis = 1)\n"
     ]
    },
    {
     "name": "stdout",
     "output_type": "stream",
     "text": [
      "BRCA\n",
      "[]\n",
      "[]\n"
     ]
    },
    {
     "name": "stderr",
     "output_type": "stream",
     "text": [
      "/Users/shanghongsim/Documents/GitHub/HU-ATRi-Code-Repository/analysis.py:76: SettingWithCopyWarning: \n",
      "A value is trying to be set on a copy of a slice from a DataFrame.\n",
      "Try using .loc[row_indexer,col_indexer] = value instead\n",
      "\n",
      "See the caveats in the documentation: https://pandas.pydata.org/pandas-docs/stable/user_guide/indexing.html#returning-a-view-versus-a-copy\n",
      "  x_var_gene_set[\"x_composite_score\"] = x_var_gene_set.mean(axis = 1)\n",
      "/Users/shanghongsim/Documents/GitHub/HU-ATRi-Code-Repository/analysis.py:85: SettingWithCopyWarning: \n",
      "A value is trying to be set on a copy of a slice from a DataFrame.\n",
      "Try using .loc[row_indexer,col_indexer] = value instead\n",
      "\n",
      "See the caveats in the documentation: https://pandas.pydata.org/pandas-docs/stable/user_guide/indexing.html#returning-a-view-versus-a-copy\n",
      "  y_var_gene_set[\"y_composite_score\"]= y_var_gene_set.mean(axis = 1)\n"
     ]
    },
    {
     "name": "stdout",
     "output_type": "stream",
     "text": [
      "OV\n",
      "[]\n",
      "[]\n"
     ]
    },
    {
     "name": "stderr",
     "output_type": "stream",
     "text": [
      "/Users/shanghongsim/Documents/GitHub/HU-ATRi-Code-Repository/analysis.py:76: SettingWithCopyWarning: \n",
      "A value is trying to be set on a copy of a slice from a DataFrame.\n",
      "Try using .loc[row_indexer,col_indexer] = value instead\n",
      "\n",
      "See the caveats in the documentation: https://pandas.pydata.org/pandas-docs/stable/user_guide/indexing.html#returning-a-view-versus-a-copy\n",
      "  x_var_gene_set[\"x_composite_score\"] = x_var_gene_set.mean(axis = 1)\n",
      "/Users/shanghongsim/Documents/GitHub/HU-ATRi-Code-Repository/analysis.py:85: SettingWithCopyWarning: \n",
      "A value is trying to be set on a copy of a slice from a DataFrame.\n",
      "Try using .loc[row_indexer,col_indexer] = value instead\n",
      "\n",
      "See the caveats in the documentation: https://pandas.pydata.org/pandas-docs/stable/user_guide/indexing.html#returning-a-view-versus-a-copy\n",
      "  y_var_gene_set[\"y_composite_score\"]= y_var_gene_set.mean(axis = 1)\n"
     ]
    },
    {
     "name": "stdout",
     "output_type": "stream",
     "text": [
      "UCS\n",
      "[]\n",
      "[]\n"
     ]
    },
    {
     "name": "stderr",
     "output_type": "stream",
     "text": [
      "/Users/shanghongsim/Documents/GitHub/HU-ATRi-Code-Repository/analysis.py:76: SettingWithCopyWarning: \n",
      "A value is trying to be set on a copy of a slice from a DataFrame.\n",
      "Try using .loc[row_indexer,col_indexer] = value instead\n",
      "\n",
      "See the caveats in the documentation: https://pandas.pydata.org/pandas-docs/stable/user_guide/indexing.html#returning-a-view-versus-a-copy\n",
      "  x_var_gene_set[\"x_composite_score\"] = x_var_gene_set.mean(axis = 1)\n",
      "/Users/shanghongsim/Documents/GitHub/HU-ATRi-Code-Repository/analysis.py:85: SettingWithCopyWarning: \n",
      "A value is trying to be set on a copy of a slice from a DataFrame.\n",
      "Try using .loc[row_indexer,col_indexer] = value instead\n",
      "\n",
      "See the caveats in the documentation: https://pandas.pydata.org/pandas-docs/stable/user_guide/indexing.html#returning-a-view-versus-a-copy\n",
      "  y_var_gene_set[\"y_composite_score\"]= y_var_gene_set.mean(axis = 1)\n"
     ]
    },
    {
     "name": "stdout",
     "output_type": "stream",
     "text": [
      "GBM\n",
      "[]\n",
      "[]\n"
     ]
    },
    {
     "name": "stderr",
     "output_type": "stream",
     "text": [
      "/Users/shanghongsim/Documents/GitHub/HU-ATRi-Code-Repository/analysis.py:76: SettingWithCopyWarning: \n",
      "A value is trying to be set on a copy of a slice from a DataFrame.\n",
      "Try using .loc[row_indexer,col_indexer] = value instead\n",
      "\n",
      "See the caveats in the documentation: https://pandas.pydata.org/pandas-docs/stable/user_guide/indexing.html#returning-a-view-versus-a-copy\n",
      "  x_var_gene_set[\"x_composite_score\"] = x_var_gene_set.mean(axis = 1)\n",
      "/Users/shanghongsim/Documents/GitHub/HU-ATRi-Code-Repository/analysis.py:85: SettingWithCopyWarning: \n",
      "A value is trying to be set on a copy of a slice from a DataFrame.\n",
      "Try using .loc[row_indexer,col_indexer] = value instead\n",
      "\n",
      "See the caveats in the documentation: https://pandas.pydata.org/pandas-docs/stable/user_guide/indexing.html#returning-a-view-versus-a-copy\n",
      "  y_var_gene_set[\"y_composite_score\"]= y_var_gene_set.mean(axis = 1)\n"
     ]
    },
    {
     "name": "stdout",
     "output_type": "stream",
     "text": [
      "KICH\n",
      "[]\n",
      "[]\n"
     ]
    },
    {
     "name": "stderr",
     "output_type": "stream",
     "text": [
      "/Users/shanghongsim/Documents/GitHub/HU-ATRi-Code-Repository/analysis.py:76: SettingWithCopyWarning: \n",
      "A value is trying to be set on a copy of a slice from a DataFrame.\n",
      "Try using .loc[row_indexer,col_indexer] = value instead\n",
      "\n",
      "See the caveats in the documentation: https://pandas.pydata.org/pandas-docs/stable/user_guide/indexing.html#returning-a-view-versus-a-copy\n",
      "  x_var_gene_set[\"x_composite_score\"] = x_var_gene_set.mean(axis = 1)\n",
      "/Users/shanghongsim/Documents/GitHub/HU-ATRi-Code-Repository/analysis.py:85: SettingWithCopyWarning: \n",
      "A value is trying to be set on a copy of a slice from a DataFrame.\n",
      "Try using .loc[row_indexer,col_indexer] = value instead\n",
      "\n",
      "See the caveats in the documentation: https://pandas.pydata.org/pandas-docs/stable/user_guide/indexing.html#returning-a-view-versus-a-copy\n",
      "  y_var_gene_set[\"y_composite_score\"]= y_var_gene_set.mean(axis = 1)\n"
     ]
    },
    {
     "name": "stdout",
     "output_type": "stream",
     "text": [
      "THCA\n",
      "[]\n",
      "[]\n"
     ]
    },
    {
     "name": "stderr",
     "output_type": "stream",
     "text": [
      "/Users/shanghongsim/Documents/GitHub/HU-ATRi-Code-Repository/analysis.py:76: SettingWithCopyWarning: \n",
      "A value is trying to be set on a copy of a slice from a DataFrame.\n",
      "Try using .loc[row_indexer,col_indexer] = value instead\n",
      "\n",
      "See the caveats in the documentation: https://pandas.pydata.org/pandas-docs/stable/user_guide/indexing.html#returning-a-view-versus-a-copy\n",
      "  x_var_gene_set[\"x_composite_score\"] = x_var_gene_set.mean(axis = 1)\n",
      "/Users/shanghongsim/Documents/GitHub/HU-ATRi-Code-Repository/analysis.py:85: SettingWithCopyWarning: \n",
      "A value is trying to be set on a copy of a slice from a DataFrame.\n",
      "Try using .loc[row_indexer,col_indexer] = value instead\n",
      "\n",
      "See the caveats in the documentation: https://pandas.pydata.org/pandas-docs/stable/user_guide/indexing.html#returning-a-view-versus-a-copy\n",
      "  y_var_gene_set[\"y_composite_score\"]= y_var_gene_set.mean(axis = 1)\n"
     ]
    },
    {
     "name": "stdout",
     "output_type": "stream",
     "text": [
      "LGG\n",
      "[]\n",
      "[]\n"
     ]
    },
    {
     "name": "stderr",
     "output_type": "stream",
     "text": [
      "/Users/shanghongsim/Documents/GitHub/HU-ATRi-Code-Repository/analysis.py:76: SettingWithCopyWarning: \n",
      "A value is trying to be set on a copy of a slice from a DataFrame.\n",
      "Try using .loc[row_indexer,col_indexer] = value instead\n",
      "\n",
      "See the caveats in the documentation: https://pandas.pydata.org/pandas-docs/stable/user_guide/indexing.html#returning-a-view-versus-a-copy\n",
      "  x_var_gene_set[\"x_composite_score\"] = x_var_gene_set.mean(axis = 1)\n",
      "/Users/shanghongsim/Documents/GitHub/HU-ATRi-Code-Repository/analysis.py:85: SettingWithCopyWarning: \n",
      "A value is trying to be set on a copy of a slice from a DataFrame.\n",
      "Try using .loc[row_indexer,col_indexer] = value instead\n",
      "\n",
      "See the caveats in the documentation: https://pandas.pydata.org/pandas-docs/stable/user_guide/indexing.html#returning-a-view-versus-a-copy\n",
      "  y_var_gene_set[\"y_composite_score\"]= y_var_gene_set.mean(axis = 1)\n"
     ]
    },
    {
     "name": "stdout",
     "output_type": "stream",
     "text": [
      "LUAD\n",
      "[]\n",
      "[]\n"
     ]
    },
    {
     "name": "stderr",
     "output_type": "stream",
     "text": [
      "/Users/shanghongsim/Documents/GitHub/HU-ATRi-Code-Repository/analysis.py:76: SettingWithCopyWarning: \n",
      "A value is trying to be set on a copy of a slice from a DataFrame.\n",
      "Try using .loc[row_indexer,col_indexer] = value instead\n",
      "\n",
      "See the caveats in the documentation: https://pandas.pydata.org/pandas-docs/stable/user_guide/indexing.html#returning-a-view-versus-a-copy\n",
      "  x_var_gene_set[\"x_composite_score\"] = x_var_gene_set.mean(axis = 1)\n",
      "/Users/shanghongsim/Documents/GitHub/HU-ATRi-Code-Repository/analysis.py:85: SettingWithCopyWarning: \n",
      "A value is trying to be set on a copy of a slice from a DataFrame.\n",
      "Try using .loc[row_indexer,col_indexer] = value instead\n",
      "\n",
      "See the caveats in the documentation: https://pandas.pydata.org/pandas-docs/stable/user_guide/indexing.html#returning-a-view-versus-a-copy\n",
      "  y_var_gene_set[\"y_composite_score\"]= y_var_gene_set.mean(axis = 1)\n"
     ]
    },
    {
     "name": "stdout",
     "output_type": "stream",
     "text": [
      "MESO\n",
      "[]\n",
      "[]\n"
     ]
    },
    {
     "name": "stderr",
     "output_type": "stream",
     "text": [
      "/Users/shanghongsim/Documents/GitHub/HU-ATRi-Code-Repository/analysis.py:76: SettingWithCopyWarning: \n",
      "A value is trying to be set on a copy of a slice from a DataFrame.\n",
      "Try using .loc[row_indexer,col_indexer] = value instead\n",
      "\n",
      "See the caveats in the documentation: https://pandas.pydata.org/pandas-docs/stable/user_guide/indexing.html#returning-a-view-versus-a-copy\n",
      "  x_var_gene_set[\"x_composite_score\"] = x_var_gene_set.mean(axis = 1)\n",
      "/Users/shanghongsim/Documents/GitHub/HU-ATRi-Code-Repository/analysis.py:85: SettingWithCopyWarning: \n",
      "A value is trying to be set on a copy of a slice from a DataFrame.\n",
      "Try using .loc[row_indexer,col_indexer] = value instead\n",
      "\n",
      "See the caveats in the documentation: https://pandas.pydata.org/pandas-docs/stable/user_guide/indexing.html#returning-a-view-versus-a-copy\n",
      "  y_var_gene_set[\"y_composite_score\"]= y_var_gene_set.mean(axis = 1)\n"
     ]
    },
    {
     "name": "stdout",
     "output_type": "stream",
     "text": [
      "PCPG\n",
      "[]\n",
      "[]\n"
     ]
    },
    {
     "name": "stderr",
     "output_type": "stream",
     "text": [
      "/Users/shanghongsim/Documents/GitHub/HU-ATRi-Code-Repository/analysis.py:76: SettingWithCopyWarning: \n",
      "A value is trying to be set on a copy of a slice from a DataFrame.\n",
      "Try using .loc[row_indexer,col_indexer] = value instead\n",
      "\n",
      "See the caveats in the documentation: https://pandas.pydata.org/pandas-docs/stable/user_guide/indexing.html#returning-a-view-versus-a-copy\n",
      "  x_var_gene_set[\"x_composite_score\"] = x_var_gene_set.mean(axis = 1)\n",
      "/Users/shanghongsim/Documents/GitHub/HU-ATRi-Code-Repository/analysis.py:85: SettingWithCopyWarning: \n",
      "A value is trying to be set on a copy of a slice from a DataFrame.\n",
      "Try using .loc[row_indexer,col_indexer] = value instead\n",
      "\n",
      "See the caveats in the documentation: https://pandas.pydata.org/pandas-docs/stable/user_guide/indexing.html#returning-a-view-versus-a-copy\n",
      "  y_var_gene_set[\"y_composite_score\"]= y_var_gene_set.mean(axis = 1)\n"
     ]
    },
    {
     "name": "stdout",
     "output_type": "stream",
     "text": [
      "TGCT\n",
      "[]\n",
      "[]\n"
     ]
    },
    {
     "name": "stderr",
     "output_type": "stream",
     "text": [
      "/Users/shanghongsim/Documents/GitHub/HU-ATRi-Code-Repository/analysis.py:76: SettingWithCopyWarning: \n",
      "A value is trying to be set on a copy of a slice from a DataFrame.\n",
      "Try using .loc[row_indexer,col_indexer] = value instead\n",
      "\n",
      "See the caveats in the documentation: https://pandas.pydata.org/pandas-docs/stable/user_guide/indexing.html#returning-a-view-versus-a-copy\n",
      "  x_var_gene_set[\"x_composite_score\"] = x_var_gene_set.mean(axis = 1)\n",
      "/Users/shanghongsim/Documents/GitHub/HU-ATRi-Code-Repository/analysis.py:85: SettingWithCopyWarning: \n",
      "A value is trying to be set on a copy of a slice from a DataFrame.\n",
      "Try using .loc[row_indexer,col_indexer] = value instead\n",
      "\n",
      "See the caveats in the documentation: https://pandas.pydata.org/pandas-docs/stable/user_guide/indexing.html#returning-a-view-versus-a-copy\n",
      "  y_var_gene_set[\"y_composite_score\"]= y_var_gene_set.mean(axis = 1)\n"
     ]
    },
    {
     "name": "stdout",
     "output_type": "stream",
     "text": [
      "UVM\n",
      "[]\n",
      "[]\n"
     ]
    },
    {
     "name": "stderr",
     "output_type": "stream",
     "text": [
      "/Users/shanghongsim/Documents/GitHub/HU-ATRi-Code-Repository/analysis.py:76: SettingWithCopyWarning: \n",
      "A value is trying to be set on a copy of a slice from a DataFrame.\n",
      "Try using .loc[row_indexer,col_indexer] = value instead\n",
      "\n",
      "See the caveats in the documentation: https://pandas.pydata.org/pandas-docs/stable/user_guide/indexing.html#returning-a-view-versus-a-copy\n",
      "  x_var_gene_set[\"x_composite_score\"] = x_var_gene_set.mean(axis = 1)\n",
      "/Users/shanghongsim/Documents/GitHub/HU-ATRi-Code-Repository/analysis.py:85: SettingWithCopyWarning: \n",
      "A value is trying to be set on a copy of a slice from a DataFrame.\n",
      "Try using .loc[row_indexer,col_indexer] = value instead\n",
      "\n",
      "See the caveats in the documentation: https://pandas.pydata.org/pandas-docs/stable/user_guide/indexing.html#returning-a-view-versus-a-copy\n",
      "  y_var_gene_set[\"y_composite_score\"]= y_var_gene_set.mean(axis = 1)\n"
     ]
    },
    {
     "name": "stdout",
     "output_type": "stream",
     "text": [
      "THYM\n",
      "[]\n",
      "[]\n"
     ]
    },
    {
     "name": "stderr",
     "output_type": "stream",
     "text": [
      "/Users/shanghongsim/Documents/GitHub/HU-ATRi-Code-Repository/analysis.py:76: SettingWithCopyWarning: \n",
      "A value is trying to be set on a copy of a slice from a DataFrame.\n",
      "Try using .loc[row_indexer,col_indexer] = value instead\n",
      "\n",
      "See the caveats in the documentation: https://pandas.pydata.org/pandas-docs/stable/user_guide/indexing.html#returning-a-view-versus-a-copy\n",
      "  x_var_gene_set[\"x_composite_score\"] = x_var_gene_set.mean(axis = 1)\n",
      "/Users/shanghongsim/Documents/GitHub/HU-ATRi-Code-Repository/analysis.py:85: SettingWithCopyWarning: \n",
      "A value is trying to be set on a copy of a slice from a DataFrame.\n",
      "Try using .loc[row_indexer,col_indexer] = value instead\n",
      "\n",
      "See the caveats in the documentation: https://pandas.pydata.org/pandas-docs/stable/user_guide/indexing.html#returning-a-view-versus-a-copy\n",
      "  y_var_gene_set[\"y_composite_score\"]= y_var_gene_set.mean(axis = 1)\n"
     ]
    },
    {
     "name": "stdout",
     "output_type": "stream",
     "text": [
      "CHOL\n",
      "[]\n",
      "[]\n"
     ]
    },
    {
     "name": "stderr",
     "output_type": "stream",
     "text": [
      "/Users/shanghongsim/Documents/GitHub/HU-ATRi-Code-Repository/analysis.py:76: SettingWithCopyWarning: \n",
      "A value is trying to be set on a copy of a slice from a DataFrame.\n",
      "Try using .loc[row_indexer,col_indexer] = value instead\n",
      "\n",
      "See the caveats in the documentation: https://pandas.pydata.org/pandas-docs/stable/user_guide/indexing.html#returning-a-view-versus-a-copy\n",
      "  x_var_gene_set[\"x_composite_score\"] = x_var_gene_set.mean(axis = 1)\n",
      "/Users/shanghongsim/Documents/GitHub/HU-ATRi-Code-Repository/analysis.py:85: SettingWithCopyWarning: \n",
      "A value is trying to be set on a copy of a slice from a DataFrame.\n",
      "Try using .loc[row_indexer,col_indexer] = value instead\n",
      "\n",
      "See the caveats in the documentation: https://pandas.pydata.org/pandas-docs/stable/user_guide/indexing.html#returning-a-view-versus-a-copy\n",
      "  y_var_gene_set[\"y_composite_score\"]= y_var_gene_set.mean(axis = 1)\n"
     ]
    },
    {
     "name": "stdout",
     "output_type": "stream",
     "text": [
      "ESCA\n",
      "[]\n",
      "[]\n"
     ]
    },
    {
     "name": "stderr",
     "output_type": "stream",
     "text": [
      "/Users/shanghongsim/Documents/GitHub/HU-ATRi-Code-Repository/analysis.py:76: SettingWithCopyWarning: \n",
      "A value is trying to be set on a copy of a slice from a DataFrame.\n",
      "Try using .loc[row_indexer,col_indexer] = value instead\n",
      "\n",
      "See the caveats in the documentation: https://pandas.pydata.org/pandas-docs/stable/user_guide/indexing.html#returning-a-view-versus-a-copy\n",
      "  x_var_gene_set[\"x_composite_score\"] = x_var_gene_set.mean(axis = 1)\n",
      "/Users/shanghongsim/Documents/GitHub/HU-ATRi-Code-Repository/analysis.py:85: SettingWithCopyWarning: \n",
      "A value is trying to be set on a copy of a slice from a DataFrame.\n",
      "Try using .loc[row_indexer,col_indexer] = value instead\n",
      "\n",
      "See the caveats in the documentation: https://pandas.pydata.org/pandas-docs/stable/user_guide/indexing.html#returning-a-view-versus-a-copy\n",
      "  y_var_gene_set[\"y_composite_score\"]= y_var_gene_set.mean(axis = 1)\n"
     ]
    },
    {
     "name": "stdout",
     "output_type": "stream",
     "text": [
      "STAD\n",
      "[]\n",
      "[]\n"
     ]
    },
    {
     "name": "stderr",
     "output_type": "stream",
     "text": [
      "/Users/shanghongsim/Documents/GitHub/HU-ATRi-Code-Repository/analysis.py:76: SettingWithCopyWarning: \n",
      "A value is trying to be set on a copy of a slice from a DataFrame.\n",
      "Try using .loc[row_indexer,col_indexer] = value instead\n",
      "\n",
      "See the caveats in the documentation: https://pandas.pydata.org/pandas-docs/stable/user_guide/indexing.html#returning-a-view-versus-a-copy\n",
      "  x_var_gene_set[\"x_composite_score\"] = x_var_gene_set.mean(axis = 1)\n",
      "/Users/shanghongsim/Documents/GitHub/HU-ATRi-Code-Repository/analysis.py:85: SettingWithCopyWarning: \n",
      "A value is trying to be set on a copy of a slice from a DataFrame.\n",
      "Try using .loc[row_indexer,col_indexer] = value instead\n",
      "\n",
      "See the caveats in the documentation: https://pandas.pydata.org/pandas-docs/stable/user_guide/indexing.html#returning-a-view-versus-a-copy\n",
      "  y_var_gene_set[\"y_composite_score\"]= y_var_gene_set.mean(axis = 1)\n"
     ]
    },
    {
     "name": "stdout",
     "output_type": "stream",
     "text": [
      "LAML\n",
      "[]\n",
      "[]\n"
     ]
    },
    {
     "name": "stderr",
     "output_type": "stream",
     "text": [
      "/Users/shanghongsim/Documents/GitHub/HU-ATRi-Code-Repository/analysis.py:76: SettingWithCopyWarning: \n",
      "A value is trying to be set on a copy of a slice from a DataFrame.\n",
      "Try using .loc[row_indexer,col_indexer] = value instead\n",
      "\n",
      "See the caveats in the documentation: https://pandas.pydata.org/pandas-docs/stable/user_guide/indexing.html#returning-a-view-versus-a-copy\n",
      "  x_var_gene_set[\"x_composite_score\"] = x_var_gene_set.mean(axis = 1)\n",
      "/Users/shanghongsim/Documents/GitHub/HU-ATRi-Code-Repository/analysis.py:85: SettingWithCopyWarning: \n",
      "A value is trying to be set on a copy of a slice from a DataFrame.\n",
      "Try using .loc[row_indexer,col_indexer] = value instead\n",
      "\n",
      "See the caveats in the documentation: https://pandas.pydata.org/pandas-docs/stable/user_guide/indexing.html#returning-a-view-versus-a-copy\n",
      "  y_var_gene_set[\"y_composite_score\"]= y_var_gene_set.mean(axis = 1)\n"
     ]
    },
    {
     "name": "stdout",
     "output_type": "stream",
     "text": [
      "PANCAN\n",
      "[]\n",
      "[]\n"
     ]
    },
    {
     "name": "stderr",
     "output_type": "stream",
     "text": [
      "/Users/shanghongsim/Documents/GitHub/HU-ATRi-Code-Repository/analysis.py:76: SettingWithCopyWarning: \n",
      "A value is trying to be set on a copy of a slice from a DataFrame.\n",
      "Try using .loc[row_indexer,col_indexer] = value instead\n",
      "\n",
      "See the caveats in the documentation: https://pandas.pydata.org/pandas-docs/stable/user_guide/indexing.html#returning-a-view-versus-a-copy\n",
      "  x_var_gene_set[\"x_composite_score\"] = x_var_gene_set.mean(axis = 1)\n",
      "/Users/shanghongsim/Documents/GitHub/HU-ATRi-Code-Repository/analysis.py:85: SettingWithCopyWarning: \n",
      "A value is trying to be set on a copy of a slice from a DataFrame.\n",
      "Try using .loc[row_indexer,col_indexer] = value instead\n",
      "\n",
      "See the caveats in the documentation: https://pandas.pydata.org/pandas-docs/stable/user_guide/indexing.html#returning-a-view-versus-a-copy\n",
      "  y_var_gene_set[\"y_composite_score\"]= y_var_gene_set.mean(axis = 1)\n"
     ]
    },
    {
     "name": "stdout",
     "output_type": "stream",
     "text": [
      "done\n"
     ]
    }
   ],
   "source": [
    "# master script to screen cancers for NRF2 signature - p53 signature\n",
    "\n",
    "gene_set = pd.read_csv(\"./data/oxstress genes.csv\", index_col=None, header= 0)\n",
    "p53_set = gene_set['p53 new'].dropna().tolist()\n",
    "nrf2_set = gene_set['NRF2_GSTA4'].dropna().tolist()\n",
    "\n",
    "targets = list(set([\"G6PD\", \"RRM2B\"] +  p53_set + nrf2_set))\n",
    "\n",
    "databases = ['HCCDB-1', 'HCCDB-3', 'HCCDB-4',  'HCCDB-8', 'HCCDB-9', 'HCCDB-11', \n",
    "       'HCCDB-12', 'HCCDB-13', 'HCCDB-14', 'HCCDB-16', 'HCCDB-17', 'HCCDB-18',\n",
    "       'ACC', 'BLCA', 'DBLC', 'UCEC', 'SKCM', 'HNSC', 'PRAD', 'KIRP',\n",
    "       'PAAD', 'SARC', 'CESC', 'COAD', 'LUSC', 'READ', 'KIRC', 'LIHC',\n",
    "       'BRCA', 'OV', 'UCS', 'GBM', 'KICH', 'THCA', 'LGG', 'LUAD', 'MESO',\n",
    "       'PCPG', 'TGCT', 'UVM', 'THYM', 'CHOL', 'ESCA', 'STAD', 'LAML','PANCAN'] # , , 'PANCAN'\n",
    "\n",
    "# define subplot grid\n",
    "fig, axs = plt.subplots(6, 8, figsize=(60, 40), sharey=True)\n",
    "plt.subplots_adjust(hspace=0.6)\n",
    "title = 'NRF2 signature vs p53 signature (GSTA4)'\n",
    "fig.suptitle(title,fontsize = 25)\n",
    "\n",
    "rtemp = []\n",
    "ptemp = []\n",
    "\n",
    "for db, ax in zip(databases, axs.ravel()):\n",
    "    print(db)\n",
    "    df = get_data(data, hccdb, db)\n",
    "    data_new = process_data(df, targets, x_var_names = p53_set, y_var_names = nrf2_set, pheno_filtered=None, outlier_corrected = True)\n",
    "    r, p = analyse(data_new, fig, db, ax, title + ' screen.png', x_label = \"p53 signature\", y_label = \"NRF2 signature\")\n",
    "    rtemp.append(r)\n",
    "    ptemp.append(p)\n",
    "\n",
    "r_all.append(rtemp)\n",
    "p_all.append(ptemp)\n",
    "print(\"done\")\n"
   ]
  },
  {
   "cell_type": "code",
   "execution_count": 29,
   "metadata": {},
   "outputs": [
    {
     "name": "stdout",
     "output_type": "stream",
     "text": [
      "HCCDB-1\n",
      "[]\n",
      "[]\n"
     ]
    },
    {
     "name": "stderr",
     "output_type": "stream",
     "text": [
      "/Users/shanghongsim/Documents/GitHub/HU-ATRi-Code-Repository/analysis.py:76: SettingWithCopyWarning: \n",
      "A value is trying to be set on a copy of a slice from a DataFrame.\n",
      "Try using .loc[row_indexer,col_indexer] = value instead\n",
      "\n",
      "See the caveats in the documentation: https://pandas.pydata.org/pandas-docs/stable/user_guide/indexing.html#returning-a-view-versus-a-copy\n",
      "  x_var_gene_set[\"x_composite_score\"] = x_var_gene_set.mean(axis = 1)\n",
      "/Users/shanghongsim/Documents/GitHub/HU-ATRi-Code-Repository/analysis.py:85: SettingWithCopyWarning: \n",
      "A value is trying to be set on a copy of a slice from a DataFrame.\n",
      "Try using .loc[row_indexer,col_indexer] = value instead\n",
      "\n",
      "See the caveats in the documentation: https://pandas.pydata.org/pandas-docs/stable/user_guide/indexing.html#returning-a-view-versus-a-copy\n",
      "  y_var_gene_set[\"y_composite_score\"]= y_var_gene_set.mean(axis = 1)\n"
     ]
    },
    {
     "data": {
      "image/png": "[encoded data removed]",
      "text/plain": [
       "<Figure size 4320x2880 with 48 Axes>"
      ]
     },
     "metadata": {},
     "output_type": "display_data"
    },
    {
     "name": "stdout",
     "output_type": "stream",
     "text": [
      "HCCDB-3\n",
      "[]\n",
      "[]\n"
     ]
    },
    {
     "name": "stderr",
     "output_type": "stream",
     "text": [
      "/Users/shanghongsim/Documents/GitHub/HU-ATRi-Code-Repository/analysis.py:76: SettingWithCopyWarning: \n",
      "A value is trying to be set on a copy of a slice from a DataFrame.\n",
      "Try using .loc[row_indexer,col_indexer] = value instead\n",
      "\n",
      "See the caveats in the documentation: https://pandas.pydata.org/pandas-docs/stable/user_guide/indexing.html#returning-a-view-versus-a-copy\n",
      "  x_var_gene_set[\"x_composite_score\"] = x_var_gene_set.mean(axis = 1)\n",
      "/Users/shanghongsim/Documents/GitHub/HU-ATRi-Code-Repository/analysis.py:85: SettingWithCopyWarning: \n",
      "A value is trying to be set on a copy of a slice from a DataFrame.\n",
      "Try using .loc[row_indexer,col_indexer] = value instead\n",
      "\n",
      "See the caveats in the documentation: https://pandas.pydata.org/pandas-docs/stable/user_guide/indexing.html#returning-a-view-versus-a-copy\n",
      "  y_var_gene_set[\"y_composite_score\"]= y_var_gene_set.mean(axis = 1)\n"
     ]
    },
    {
     "name": "stdout",
     "output_type": "stream",
     "text": [
      "HCCDB-4\n",
      "[]\n",
      "[]\n"
     ]
    },
    {
     "name": "stderr",
     "output_type": "stream",
     "text": [
      "/Users/shanghongsim/Documents/GitHub/HU-ATRi-Code-Repository/analysis.py:76: SettingWithCopyWarning: \n",
      "A value is trying to be set on a copy of a slice from a DataFrame.\n",
      "Try using .loc[row_indexer,col_indexer] = value instead\n",
      "\n",
      "See the caveats in the documentation: https://pandas.pydata.org/pandas-docs/stable/user_guide/indexing.html#returning-a-view-versus-a-copy\n",
      "  x_var_gene_set[\"x_composite_score\"] = x_var_gene_set.mean(axis = 1)\n",
      "/Users/shanghongsim/Documents/GitHub/HU-ATRi-Code-Repository/analysis.py:85: SettingWithCopyWarning: \n",
      "A value is trying to be set on a copy of a slice from a DataFrame.\n",
      "Try using .loc[row_indexer,col_indexer] = value instead\n",
      "\n",
      "See the caveats in the documentation: https://pandas.pydata.org/pandas-docs/stable/user_guide/indexing.html#returning-a-view-versus-a-copy\n",
      "  y_var_gene_set[\"y_composite_score\"]= y_var_gene_set.mean(axis = 1)\n"
     ]
    },
    {
     "name": "stdout",
     "output_type": "stream",
     "text": [
      "HCCDB-8\n",
      "[]\n",
      "[]\n"
     ]
    },
    {
     "name": "stderr",
     "output_type": "stream",
     "text": [
      "/Users/shanghongsim/Documents/GitHub/HU-ATRi-Code-Repository/analysis.py:76: SettingWithCopyWarning: \n",
      "A value is trying to be set on a copy of a slice from a DataFrame.\n",
      "Try using .loc[row_indexer,col_indexer] = value instead\n",
      "\n",
      "See the caveats in the documentation: https://pandas.pydata.org/pandas-docs/stable/user_guide/indexing.html#returning-a-view-versus-a-copy\n",
      "  x_var_gene_set[\"x_composite_score\"] = x_var_gene_set.mean(axis = 1)\n",
      "/Users/shanghongsim/Documents/GitHub/HU-ATRi-Code-Repository/analysis.py:85: SettingWithCopyWarning: \n",
      "A value is trying to be set on a copy of a slice from a DataFrame.\n",
      "Try using .loc[row_indexer,col_indexer] = value instead\n",
      "\n",
      "See the caveats in the documentation: https://pandas.pydata.org/pandas-docs/stable/user_guide/indexing.html#returning-a-view-versus-a-copy\n",
      "  y_var_gene_set[\"y_composite_score\"]= y_var_gene_set.mean(axis = 1)\n"
     ]
    },
    {
     "name": "stdout",
     "output_type": "stream",
     "text": [
      "HCCDB-9\n",
      "[]\n",
      "[]\n"
     ]
    },
    {
     "name": "stderr",
     "output_type": "stream",
     "text": [
      "/Users/shanghongsim/Documents/GitHub/HU-ATRi-Code-Repository/analysis.py:76: SettingWithCopyWarning: \n",
      "A value is trying to be set on a copy of a slice from a DataFrame.\n",
      "Try using .loc[row_indexer,col_indexer] = value instead\n",
      "\n",
      "See the caveats in the documentation: https://pandas.pydata.org/pandas-docs/stable/user_guide/indexing.html#returning-a-view-versus-a-copy\n",
      "  x_var_gene_set[\"x_composite_score\"] = x_var_gene_set.mean(axis = 1)\n",
      "/Users/shanghongsim/Documents/GitHub/HU-ATRi-Code-Repository/analysis.py:85: SettingWithCopyWarning: \n",
      "A value is trying to be set on a copy of a slice from a DataFrame.\n",
      "Try using .loc[row_indexer,col_indexer] = value instead\n",
      "\n",
      "See the caveats in the documentation: https://pandas.pydata.org/pandas-docs/stable/user_guide/indexing.html#returning-a-view-versus-a-copy\n",
      "  y_var_gene_set[\"y_composite_score\"]= y_var_gene_set.mean(axis = 1)\n"
     ]
    },
    {
     "name": "stdout",
     "output_type": "stream",
     "text": [
      "HCCDB-11\n",
      "[]\n",
      "[]\n"
     ]
    },
    {
     "name": "stderr",
     "output_type": "stream",
     "text": [
      "/Users/shanghongsim/Documents/GitHub/HU-ATRi-Code-Repository/analysis.py:76: SettingWithCopyWarning: \n",
      "A value is trying to be set on a copy of a slice from a DataFrame.\n",
      "Try using .loc[row_indexer,col_indexer] = value instead\n",
      "\n",
      "See the caveats in the documentation: https://pandas.pydata.org/pandas-docs/stable/user_guide/indexing.html#returning-a-view-versus-a-copy\n",
      "  x_var_gene_set[\"x_composite_score\"] = x_var_gene_set.mean(axis = 1)\n",
      "/Users/shanghongsim/Documents/GitHub/HU-ATRi-Code-Repository/analysis.py:85: SettingWithCopyWarning: \n",
      "A value is trying to be set on a copy of a slice from a DataFrame.\n",
      "Try using .loc[row_indexer,col_indexer] = value instead\n",
      "\n",
      "See the caveats in the documentation: https://pandas.pydata.org/pandas-docs/stable/user_guide/indexing.html#returning-a-view-versus-a-copy\n",
      "  y_var_gene_set[\"y_composite_score\"]= y_var_gene_set.mean(axis = 1)\n"
     ]
    },
    {
     "name": "stdout",
     "output_type": "stream",
     "text": [
      "HCCDB-12\n",
      "[]\n",
      "[]\n"
     ]
    },
    {
     "name": "stderr",
     "output_type": "stream",
     "text": [
      "/Users/shanghongsim/Documents/GitHub/HU-ATRi-Code-Repository/analysis.py:76: SettingWithCopyWarning: \n",
      "A value is trying to be set on a copy of a slice from a DataFrame.\n",
      "Try using .loc[row_indexer,col_indexer] = value instead\n",
      "\n",
      "See the caveats in the documentation: https://pandas.pydata.org/pandas-docs/stable/user_guide/indexing.html#returning-a-view-versus-a-copy\n",
      "  x_var_gene_set[\"x_composite_score\"] = x_var_gene_set.mean(axis = 1)\n",
      "/Users/shanghongsim/Documents/GitHub/HU-ATRi-Code-Repository/analysis.py:85: SettingWithCopyWarning: \n",
      "A value is trying to be set on a copy of a slice from a DataFrame.\n",
      "Try using .loc[row_indexer,col_indexer] = value instead\n",
      "\n",
      "See the caveats in the documentation: https://pandas.pydata.org/pandas-docs/stable/user_guide/indexing.html#returning-a-view-versus-a-copy\n",
      "  y_var_gene_set[\"y_composite_score\"]= y_var_gene_set.mean(axis = 1)\n"
     ]
    },
    {
     "name": "stdout",
     "output_type": "stream",
     "text": [
      "HCCDB-13\n",
      "[]\n",
      "[]\n"
     ]
    },
    {
     "name": "stderr",
     "output_type": "stream",
     "text": [
      "/Users/shanghongsim/Documents/GitHub/HU-ATRi-Code-Repository/analysis.py:76: SettingWithCopyWarning: \n",
      "A value is trying to be set on a copy of a slice from a DataFrame.\n",
      "Try using .loc[row_indexer,col_indexer] = value instead\n",
      "\n",
      "See the caveats in the documentation: https://pandas.pydata.org/pandas-docs/stable/user_guide/indexing.html#returning-a-view-versus-a-copy\n",
      "  x_var_gene_set[\"x_composite_score\"] = x_var_gene_set.mean(axis = 1)\n",
      "/Users/shanghongsim/Documents/GitHub/HU-ATRi-Code-Repository/analysis.py:85: SettingWithCopyWarning: \n",
      "A value is trying to be set on a copy of a slice from a DataFrame.\n",
      "Try using .loc[row_indexer,col_indexer] = value instead\n",
      "\n",
      "See the caveats in the documentation: https://pandas.pydata.org/pandas-docs/stable/user_guide/indexing.html#returning-a-view-versus-a-copy\n",
      "  y_var_gene_set[\"y_composite_score\"]= y_var_gene_set.mean(axis = 1)\n"
     ]
    },
    {
     "name": "stdout",
     "output_type": "stream",
     "text": [
      "HCCDB-14\n",
      "[]\n",
      "[]\n"
     ]
    },
    {
     "name": "stderr",
     "output_type": "stream",
     "text": [
      "/Users/shanghongsim/Documents/GitHub/HU-ATRi-Code-Repository/analysis.py:76: SettingWithCopyWarning: \n",
      "A value is trying to be set on a copy of a slice from a DataFrame.\n",
      "Try using .loc[row_indexer,col_indexer] = value instead\n",
      "\n",
      "See the caveats in the documentation: https://pandas.pydata.org/pandas-docs/stable/user_guide/indexing.html#returning-a-view-versus-a-copy\n",
      "  x_var_gene_set[\"x_composite_score\"] = x_var_gene_set.mean(axis = 1)\n",
      "/Users/shanghongsim/Documents/GitHub/HU-ATRi-Code-Repository/analysis.py:85: SettingWithCopyWarning: \n",
      "A value is trying to be set on a copy of a slice from a DataFrame.\n",
      "Try using .loc[row_indexer,col_indexer] = value instead\n",
      "\n",
      "See the caveats in the documentation: https://pandas.pydata.org/pandas-docs/stable/user_guide/indexing.html#returning-a-view-versus-a-copy\n",
      "  y_var_gene_set[\"y_composite_score\"]= y_var_gene_set.mean(axis = 1)\n"
     ]
    },
    {
     "name": "stdout",
     "output_type": "stream",
     "text": [
      "HCCDB-16\n",
      "[]\n",
      "[]\n"
     ]
    },
    {
     "name": "stderr",
     "output_type": "stream",
     "text": [
      "/Users/shanghongsim/Documents/GitHub/HU-ATRi-Code-Repository/analysis.py:76: SettingWithCopyWarning: \n",
      "A value is trying to be set on a copy of a slice from a DataFrame.\n",
      "Try using .loc[row_indexer,col_indexer] = value instead\n",
      "\n",
      "See the caveats in the documentation: https://pandas.pydata.org/pandas-docs/stable/user_guide/indexing.html#returning-a-view-versus-a-copy\n",
      "  x_var_gene_set[\"x_composite_score\"] = x_var_gene_set.mean(axis = 1)\n",
      "/Users/shanghongsim/Documents/GitHub/HU-ATRi-Code-Repository/analysis.py:85: SettingWithCopyWarning: \n",
      "A value is trying to be set on a copy of a slice from a DataFrame.\n",
      "Try using .loc[row_indexer,col_indexer] = value instead\n",
      "\n",
      "See the caveats in the documentation: https://pandas.pydata.org/pandas-docs/stable/user_guide/indexing.html#returning-a-view-versus-a-copy\n",
      "  y_var_gene_set[\"y_composite_score\"]= y_var_gene_set.mean(axis = 1)\n"
     ]
    },
    {
     "name": "stdout",
     "output_type": "stream",
     "text": [
      "HCCDB-17\n",
      "[]\n",
      "[]\n"
     ]
    },
    {
     "name": "stderr",
     "output_type": "stream",
     "text": [
      "/Users/shanghongsim/Documents/GitHub/HU-ATRi-Code-Repository/analysis.py:76: SettingWithCopyWarning: \n",
      "A value is trying to be set on a copy of a slice from a DataFrame.\n",
      "Try using .loc[row_indexer,col_indexer] = value instead\n",
      "\n",
      "See the caveats in the documentation: https://pandas.pydata.org/pandas-docs/stable/user_guide/indexing.html#returning-a-view-versus-a-copy\n",
      "  x_var_gene_set[\"x_composite_score\"] = x_var_gene_set.mean(axis = 1)\n",
      "/Users/shanghongsim/Documents/GitHub/HU-ATRi-Code-Repository/analysis.py:85: SettingWithCopyWarning: \n",
      "A value is trying to be set on a copy of a slice from a DataFrame.\n",
      "Try using .loc[row_indexer,col_indexer] = value instead\n",
      "\n",
      "See the caveats in the documentation: https://pandas.pydata.org/pandas-docs/stable/user_guide/indexing.html#returning-a-view-versus-a-copy\n",
      "  y_var_gene_set[\"y_composite_score\"]= y_var_gene_set.mean(axis = 1)\n"
     ]
    },
    {
     "name": "stdout",
     "output_type": "stream",
     "text": [
      "HCCDB-18\n",
      "[]\n",
      "[]\n"
     ]
    },
    {
     "name": "stderr",
     "output_type": "stream",
     "text": [
      "/Users/shanghongsim/Documents/GitHub/HU-ATRi-Code-Repository/analysis.py:76: SettingWithCopyWarning: \n",
      "A value is trying to be set on a copy of a slice from a DataFrame.\n",
      "Try using .loc[row_indexer,col_indexer] = value instead\n",
      "\n",
      "See the caveats in the documentation: https://pandas.pydata.org/pandas-docs/stable/user_guide/indexing.html#returning-a-view-versus-a-copy\n",
      "  x_var_gene_set[\"x_composite_score\"] = x_var_gene_set.mean(axis = 1)\n",
      "/Users/shanghongsim/Documents/GitHub/HU-ATRi-Code-Repository/analysis.py:85: SettingWithCopyWarning: \n",
      "A value is trying to be set on a copy of a slice from a DataFrame.\n",
      "Try using .loc[row_indexer,col_indexer] = value instead\n",
      "\n",
      "See the caveats in the documentation: https://pandas.pydata.org/pandas-docs/stable/user_guide/indexing.html#returning-a-view-versus-a-copy\n",
      "  y_var_gene_set[\"y_composite_score\"]= y_var_gene_set.mean(axis = 1)\n"
     ]
    },
    {
     "name": "stdout",
     "output_type": "stream",
     "text": [
      "ACC\n",
      "[]\n",
      "[]\n"
     ]
    },
    {
     "name": "stderr",
     "output_type": "stream",
     "text": [
      "/Users/shanghongsim/Documents/GitHub/HU-ATRi-Code-Repository/analysis.py:76: SettingWithCopyWarning: \n",
      "A value is trying to be set on a copy of a slice from a DataFrame.\n",
      "Try using .loc[row_indexer,col_indexer] = value instead\n",
      "\n",
      "See the caveats in the documentation: https://pandas.pydata.org/pandas-docs/stable/user_guide/indexing.html#returning-a-view-versus-a-copy\n",
      "  x_var_gene_set[\"x_composite_score\"] = x_var_gene_set.mean(axis = 1)\n",
      "/Users/shanghongsim/Documents/GitHub/HU-ATRi-Code-Repository/analysis.py:85: SettingWithCopyWarning: \n",
      "A value is trying to be set on a copy of a slice from a DataFrame.\n",
      "Try using .loc[row_indexer,col_indexer] = value instead\n",
      "\n",
      "See the caveats in the documentation: https://pandas.pydata.org/pandas-docs/stable/user_guide/indexing.html#returning-a-view-versus-a-copy\n",
      "  y_var_gene_set[\"y_composite_score\"]= y_var_gene_set.mean(axis = 1)\n"
     ]
    },
    {
     "name": "stdout",
     "output_type": "stream",
     "text": [
      "BLCA\n",
      "[]\n",
      "[]\n"
     ]
    },
    {
     "name": "stderr",
     "output_type": "stream",
     "text": [
      "/Users/shanghongsim/Documents/GitHub/HU-ATRi-Code-Repository/analysis.py:76: SettingWithCopyWarning: \n",
      "A value is trying to be set on a copy of a slice from a DataFrame.\n",
      "Try using .loc[row_indexer,col_indexer] = value instead\n",
      "\n",
      "See the caveats in the documentation: https://pandas.pydata.org/pandas-docs/stable/user_guide/indexing.html#returning-a-view-versus-a-copy\n",
      "  x_var_gene_set[\"x_composite_score\"] = x_var_gene_set.mean(axis = 1)\n",
      "/Users/shanghongsim/Documents/GitHub/HU-ATRi-Code-Repository/analysis.py:85: SettingWithCopyWarning: \n",
      "A value is trying to be set on a copy of a slice from a DataFrame.\n",
      "Try using .loc[row_indexer,col_indexer] = value instead\n",
      "\n",
      "See the caveats in the documentation: https://pandas.pydata.org/pandas-docs/stable/user_guide/indexing.html#returning-a-view-versus-a-copy\n",
      "  y_var_gene_set[\"y_composite_score\"]= y_var_gene_set.mean(axis = 1)\n"
     ]
    },
    {
     "name": "stdout",
     "output_type": "stream",
     "text": [
      "DBLC\n",
      "[]\n",
      "[]\n"
     ]
    },
    {
     "name": "stderr",
     "output_type": "stream",
     "text": [
      "/Users/shanghongsim/Documents/GitHub/HU-ATRi-Code-Repository/analysis.py:76: SettingWithCopyWarning: \n",
      "A value is trying to be set on a copy of a slice from a DataFrame.\n",
      "Try using .loc[row_indexer,col_indexer] = value instead\n",
      "\n",
      "See the caveats in the documentation: https://pandas.pydata.org/pandas-docs/stable/user_guide/indexing.html#returning-a-view-versus-a-copy\n",
      "  x_var_gene_set[\"x_composite_score\"] = x_var_gene_set.mean(axis = 1)\n",
      "/Users/shanghongsim/Documents/GitHub/HU-ATRi-Code-Repository/analysis.py:85: SettingWithCopyWarning: \n",
      "A value is trying to be set on a copy of a slice from a DataFrame.\n",
      "Try using .loc[row_indexer,col_indexer] = value instead\n",
      "\n",
      "See the caveats in the documentation: https://pandas.pydata.org/pandas-docs/stable/user_guide/indexing.html#returning-a-view-versus-a-copy\n",
      "  y_var_gene_set[\"y_composite_score\"]= y_var_gene_set.mean(axis = 1)\n"
     ]
    },
    {
     "name": "stdout",
     "output_type": "stream",
     "text": [
      "UCEC\n",
      "[]\n",
      "[]\n"
     ]
    },
    {
     "name": "stderr",
     "output_type": "stream",
     "text": [
      "/Users/shanghongsim/Documents/GitHub/HU-ATRi-Code-Repository/analysis.py:76: SettingWithCopyWarning: \n",
      "A value is trying to be set on a copy of a slice from a DataFrame.\n",
      "Try using .loc[row_indexer,col_indexer] = value instead\n",
      "\n",
      "See the caveats in the documentation: https://pandas.pydata.org/pandas-docs/stable/user_guide/indexing.html#returning-a-view-versus-a-copy\n",
      "  x_var_gene_set[\"x_composite_score\"] = x_var_gene_set.mean(axis = 1)\n",
      "/Users/shanghongsim/Documents/GitHub/HU-ATRi-Code-Repository/analysis.py:85: SettingWithCopyWarning: \n",
      "A value is trying to be set on a copy of a slice from a DataFrame.\n",
      "Try using .loc[row_indexer,col_indexer] = value instead\n",
      "\n",
      "See the caveats in the documentation: https://pandas.pydata.org/pandas-docs/stable/user_guide/indexing.html#returning-a-view-versus-a-copy\n",
      "  y_var_gene_set[\"y_composite_score\"]= y_var_gene_set.mean(axis = 1)\n"
     ]
    },
    {
     "name": "stdout",
     "output_type": "stream",
     "text": [
      "SKCM\n",
      "[]\n",
      "[]\n"
     ]
    },
    {
     "name": "stderr",
     "output_type": "stream",
     "text": [
      "/Users/shanghongsim/Documents/GitHub/HU-ATRi-Code-Repository/analysis.py:76: SettingWithCopyWarning: \n",
      "A value is trying to be set on a copy of a slice from a DataFrame.\n",
      "Try using .loc[row_indexer,col_indexer] = value instead\n",
      "\n",
      "See the caveats in the documentation: https://pandas.pydata.org/pandas-docs/stable/user_guide/indexing.html#returning-a-view-versus-a-copy\n",
      "  x_var_gene_set[\"x_composite_score\"] = x_var_gene_set.mean(axis = 1)\n",
      "/Users/shanghongsim/Documents/GitHub/HU-ATRi-Code-Repository/analysis.py:85: SettingWithCopyWarning: \n",
      "A value is trying to be set on a copy of a slice from a DataFrame.\n",
      "Try using .loc[row_indexer,col_indexer] = value instead\n",
      "\n",
      "See the caveats in the documentation: https://pandas.pydata.org/pandas-docs/stable/user_guide/indexing.html#returning-a-view-versus-a-copy\n",
      "  y_var_gene_set[\"y_composite_score\"]= y_var_gene_set.mean(axis = 1)\n"
     ]
    },
    {
     "name": "stdout",
     "output_type": "stream",
     "text": [
      "HNSC\n",
      "[]\n",
      "[]\n"
     ]
    },
    {
     "name": "stderr",
     "output_type": "stream",
     "text": [
      "/Users/shanghongsim/Documents/GitHub/HU-ATRi-Code-Repository/analysis.py:76: SettingWithCopyWarning: \n",
      "A value is trying to be set on a copy of a slice from a DataFrame.\n",
      "Try using .loc[row_indexer,col_indexer] = value instead\n",
      "\n",
      "See the caveats in the documentation: https://pandas.pydata.org/pandas-docs/stable/user_guide/indexing.html#returning-a-view-versus-a-copy\n",
      "  x_var_gene_set[\"x_composite_score\"] = x_var_gene_set.mean(axis = 1)\n",
      "/Users/shanghongsim/Documents/GitHub/HU-ATRi-Code-Repository/analysis.py:85: SettingWithCopyWarning: \n",
      "A value is trying to be set on a copy of a slice from a DataFrame.\n",
      "Try using .loc[row_indexer,col_indexer] = value instead\n",
      "\n",
      "See the caveats in the documentation: https://pandas.pydata.org/pandas-docs/stable/user_guide/indexing.html#returning-a-view-versus-a-copy\n",
      "  y_var_gene_set[\"y_composite_score\"]= y_var_gene_set.mean(axis = 1)\n"
     ]
    },
    {
     "name": "stdout",
     "output_type": "stream",
     "text": [
      "PRAD\n",
      "[]\n",
      "[]\n"
     ]
    },
    {
     "name": "stderr",
     "output_type": "stream",
     "text": [
      "/Users/shanghongsim/Documents/GitHub/HU-ATRi-Code-Repository/analysis.py:76: SettingWithCopyWarning: \n",
      "A value is trying to be set on a copy of a slice from a DataFrame.\n",
      "Try using .loc[row_indexer,col_indexer] = value instead\n",
      "\n",
      "See the caveats in the documentation: https://pandas.pydata.org/pandas-docs/stable/user_guide/indexing.html#returning-a-view-versus-a-copy\n",
      "  x_var_gene_set[\"x_composite_score\"] = x_var_gene_set.mean(axis = 1)\n",
      "/Users/shanghongsim/Documents/GitHub/HU-ATRi-Code-Repository/analysis.py:85: SettingWithCopyWarning: \n",
      "A value is trying to be set on a copy of a slice from a DataFrame.\n",
      "Try using .loc[row_indexer,col_indexer] = value instead\n",
      "\n",
      "See the caveats in the documentation: https://pandas.pydata.org/pandas-docs/stable/user_guide/indexing.html#returning-a-view-versus-a-copy\n",
      "  y_var_gene_set[\"y_composite_score\"]= y_var_gene_set.mean(axis = 1)\n"
     ]
    },
    {
     "name": "stdout",
     "output_type": "stream",
     "text": [
      "KIRP\n",
      "[]\n",
      "[]\n"
     ]
    },
    {
     "name": "stderr",
     "output_type": "stream",
     "text": [
      "/Users/shanghongsim/Documents/GitHub/HU-ATRi-Code-Repository/analysis.py:76: SettingWithCopyWarning: \n",
      "A value is trying to be set on a copy of a slice from a DataFrame.\n",
      "Try using .loc[row_indexer,col_indexer] = value instead\n",
      "\n",
      "See the caveats in the documentation: https://pandas.pydata.org/pandas-docs/stable/user_guide/indexing.html#returning-a-view-versus-a-copy\n",
      "  x_var_gene_set[\"x_composite_score\"] = x_var_gene_set.mean(axis = 1)\n",
      "/Users/shanghongsim/Documents/GitHub/HU-ATRi-Code-Repository/analysis.py:85: SettingWithCopyWarning: \n",
      "A value is trying to be set on a copy of a slice from a DataFrame.\n",
      "Try using .loc[row_indexer,col_indexer] = value instead\n",
      "\n",
      "See the caveats in the documentation: https://pandas.pydata.org/pandas-docs/stable/user_guide/indexing.html#returning-a-view-versus-a-copy\n",
      "  y_var_gene_set[\"y_composite_score\"]= y_var_gene_set.mean(axis = 1)\n"
     ]
    },
    {
     "name": "stdout",
     "output_type": "stream",
     "text": [
      "PAAD\n",
      "[]\n",
      "[]\n"
     ]
    },
    {
     "name": "stderr",
     "output_type": "stream",
     "text": [
      "/Users/shanghongsim/Documents/GitHub/HU-ATRi-Code-Repository/analysis.py:76: SettingWithCopyWarning: \n",
      "A value is trying to be set on a copy of a slice from a DataFrame.\n",
      "Try using .loc[row_indexer,col_indexer] = value instead\n",
      "\n",
      "See the caveats in the documentation: https://pandas.pydata.org/pandas-docs/stable/user_guide/indexing.html#returning-a-view-versus-a-copy\n",
      "  x_var_gene_set[\"x_composite_score\"] = x_var_gene_set.mean(axis = 1)\n",
      "/Users/shanghongsim/Documents/GitHub/HU-ATRi-Code-Repository/analysis.py:85: SettingWithCopyWarning: \n",
      "A value is trying to be set on a copy of a slice from a DataFrame.\n",
      "Try using .loc[row_indexer,col_indexer] = value instead\n",
      "\n",
      "See the caveats in the documentation: https://pandas.pydata.org/pandas-docs/stable/user_guide/indexing.html#returning-a-view-versus-a-copy\n",
      "  y_var_gene_set[\"y_composite_score\"]= y_var_gene_set.mean(axis = 1)\n"
     ]
    },
    {
     "name": "stdout",
     "output_type": "stream",
     "text": [
      "SARC\n",
      "[]\n",
      "[]\n"
     ]
    },
    {
     "name": "stderr",
     "output_type": "stream",
     "text": [
      "/Users/shanghongsim/Documents/GitHub/HU-ATRi-Code-Repository/analysis.py:76: SettingWithCopyWarning: \n",
      "A value is trying to be set on a copy of a slice from a DataFrame.\n",
      "Try using .loc[row_indexer,col_indexer] = value instead\n",
      "\n",
      "See the caveats in the documentation: https://pandas.pydata.org/pandas-docs/stable/user_guide/indexing.html#returning-a-view-versus-a-copy\n",
      "  x_var_gene_set[\"x_composite_score\"] = x_var_gene_set.mean(axis = 1)\n",
      "/Users/shanghongsim/Documents/GitHub/HU-ATRi-Code-Repository/analysis.py:85: SettingWithCopyWarning: \n",
      "A value is trying to be set on a copy of a slice from a DataFrame.\n",
      "Try using .loc[row_indexer,col_indexer] = value instead\n",
      "\n",
      "See the caveats in the documentation: https://pandas.pydata.org/pandas-docs/stable/user_guide/indexing.html#returning-a-view-versus-a-copy\n",
      "  y_var_gene_set[\"y_composite_score\"]= y_var_gene_set.mean(axis = 1)\n"
     ]
    },
    {
     "name": "stdout",
     "output_type": "stream",
     "text": [
      "CESC\n",
      "[]\n",
      "[]\n"
     ]
    },
    {
     "name": "stderr",
     "output_type": "stream",
     "text": [
      "/Users/shanghongsim/Documents/GitHub/HU-ATRi-Code-Repository/analysis.py:76: SettingWithCopyWarning: \n",
      "A value is trying to be set on a copy of a slice from a DataFrame.\n",
      "Try using .loc[row_indexer,col_indexer] = value instead\n",
      "\n",
      "See the caveats in the documentation: https://pandas.pydata.org/pandas-docs/stable/user_guide/indexing.html#returning-a-view-versus-a-copy\n",
      "  x_var_gene_set[\"x_composite_score\"] = x_var_gene_set.mean(axis = 1)\n",
      "/Users/shanghongsim/Documents/GitHub/HU-ATRi-Code-Repository/analysis.py:85: SettingWithCopyWarning: \n",
      "A value is trying to be set on a copy of a slice from a DataFrame.\n",
      "Try using .loc[row_indexer,col_indexer] = value instead\n",
      "\n",
      "See the caveats in the documentation: https://pandas.pydata.org/pandas-docs/stable/user_guide/indexing.html#returning-a-view-versus-a-copy\n",
      "  y_var_gene_set[\"y_composite_score\"]= y_var_gene_set.mean(axis = 1)\n"
     ]
    },
    {
     "name": "stdout",
     "output_type": "stream",
     "text": [
      "COAD\n",
      "[]\n",
      "[]\n"
     ]
    },
    {
     "name": "stderr",
     "output_type": "stream",
     "text": [
      "/Users/shanghongsim/Documents/GitHub/HU-ATRi-Code-Repository/analysis.py:76: SettingWithCopyWarning: \n",
      "A value is trying to be set on a copy of a slice from a DataFrame.\n",
      "Try using .loc[row_indexer,col_indexer] = value instead\n",
      "\n",
      "See the caveats in the documentation: https://pandas.pydata.org/pandas-docs/stable/user_guide/indexing.html#returning-a-view-versus-a-copy\n",
      "  x_var_gene_set[\"x_composite_score\"] = x_var_gene_set.mean(axis = 1)\n",
      "/Users/shanghongsim/Documents/GitHub/HU-ATRi-Code-Repository/analysis.py:85: SettingWithCopyWarning: \n",
      "A value is trying to be set on a copy of a slice from a DataFrame.\n",
      "Try using .loc[row_indexer,col_indexer] = value instead\n",
      "\n",
      "See the caveats in the documentation: https://pandas.pydata.org/pandas-docs/stable/user_guide/indexing.html#returning-a-view-versus-a-copy\n",
      "  y_var_gene_set[\"y_composite_score\"]= y_var_gene_set.mean(axis = 1)\n"
     ]
    },
    {
     "name": "stdout",
     "output_type": "stream",
     "text": [
      "LUSC\n",
      "[]\n",
      "[]\n"
     ]
    },
    {
     "name": "stderr",
     "output_type": "stream",
     "text": [
      "/Users/shanghongsim/Documents/GitHub/HU-ATRi-Code-Repository/analysis.py:76: SettingWithCopyWarning: \n",
      "A value is trying to be set on a copy of a slice from a DataFrame.\n",
      "Try using .loc[row_indexer,col_indexer] = value instead\n",
      "\n",
      "See the caveats in the documentation: https://pandas.pydata.org/pandas-docs/stable/user_guide/indexing.html#returning-a-view-versus-a-copy\n",
      "  x_var_gene_set[\"x_composite_score\"] = x_var_gene_set.mean(axis = 1)\n",
      "/Users/shanghongsim/Documents/GitHub/HU-ATRi-Code-Repository/analysis.py:85: SettingWithCopyWarning: \n",
      "A value is trying to be set on a copy of a slice from a DataFrame.\n",
      "Try using .loc[row_indexer,col_indexer] = value instead\n",
      "\n",
      "See the caveats in the documentation: https://pandas.pydata.org/pandas-docs/stable/user_guide/indexing.html#returning-a-view-versus-a-copy\n",
      "  y_var_gene_set[\"y_composite_score\"]= y_var_gene_set.mean(axis = 1)\n"
     ]
    },
    {
     "name": "stdout",
     "output_type": "stream",
     "text": [
      "READ\n",
      "[]\n",
      "[]\n"
     ]
    },
    {
     "name": "stderr",
     "output_type": "stream",
     "text": [
      "/Users/shanghongsim/Documents/GitHub/HU-ATRi-Code-Repository/analysis.py:76: SettingWithCopyWarning: \n",
      "A value is trying to be set on a copy of a slice from a DataFrame.\n",
      "Try using .loc[row_indexer,col_indexer] = value instead\n",
      "\n",
      "See the caveats in the documentation: https://pandas.pydata.org/pandas-docs/stable/user_guide/indexing.html#returning-a-view-versus-a-copy\n",
      "  x_var_gene_set[\"x_composite_score\"] = x_var_gene_set.mean(axis = 1)\n",
      "/Users/shanghongsim/Documents/GitHub/HU-ATRi-Code-Repository/analysis.py:85: SettingWithCopyWarning: \n",
      "A value is trying to be set on a copy of a slice from a DataFrame.\n",
      "Try using .loc[row_indexer,col_indexer] = value instead\n",
      "\n",
      "See the caveats in the documentation: https://pandas.pydata.org/pandas-docs/stable/user_guide/indexing.html#returning-a-view-versus-a-copy\n",
      "  y_var_gene_set[\"y_composite_score\"]= y_var_gene_set.mean(axis = 1)\n"
     ]
    },
    {
     "name": "stdout",
     "output_type": "stream",
     "text": [
      "KIRC\n",
      "[]\n",
      "[]\n"
     ]
    },
    {
     "name": "stderr",
     "output_type": "stream",
     "text": [
      "/Users/shanghongsim/Documents/GitHub/HU-ATRi-Code-Repository/analysis.py:76: SettingWithCopyWarning: \n",
      "A value is trying to be set on a copy of a slice from a DataFrame.\n",
      "Try using .loc[row_indexer,col_indexer] = value instead\n",
      "\n",
      "See the caveats in the documentation: https://pandas.pydata.org/pandas-docs/stable/user_guide/indexing.html#returning-a-view-versus-a-copy\n",
      "  x_var_gene_set[\"x_composite_score\"] = x_var_gene_set.mean(axis = 1)\n",
      "/Users/shanghongsim/Documents/GitHub/HU-ATRi-Code-Repository/analysis.py:85: SettingWithCopyWarning: \n",
      "A value is trying to be set on a copy of a slice from a DataFrame.\n",
      "Try using .loc[row_indexer,col_indexer] = value instead\n",
      "\n",
      "See the caveats in the documentation: https://pandas.pydata.org/pandas-docs/stable/user_guide/indexing.html#returning-a-view-versus-a-copy\n",
      "  y_var_gene_set[\"y_composite_score\"]= y_var_gene_set.mean(axis = 1)\n"
     ]
    },
    {
     "name": "stdout",
     "output_type": "stream",
     "text": [
      "LIHC\n",
      "[]\n",
      "[]\n"
     ]
    },
    {
     "name": "stderr",
     "output_type": "stream",
     "text": [
      "/Users/shanghongsim/Documents/GitHub/HU-ATRi-Code-Repository/analysis.py:76: SettingWithCopyWarning: \n",
      "A value is trying to be set on a copy of a slice from a DataFrame.\n",
      "Try using .loc[row_indexer,col_indexer] = value instead\n",
      "\n",
      "See the caveats in the documentation: https://pandas.pydata.org/pandas-docs/stable/user_guide/indexing.html#returning-a-view-versus-a-copy\n",
      "  x_var_gene_set[\"x_composite_score\"] = x_var_gene_set.mean(axis = 1)\n",
      "/Users/shanghongsim/Documents/GitHub/HU-ATRi-Code-Repository/analysis.py:85: SettingWithCopyWarning: \n",
      "A value is trying to be set on a copy of a slice from a DataFrame.\n",
      "Try using .loc[row_indexer,col_indexer] = value instead\n",
      "\n",
      "See the caveats in the documentation: https://pandas.pydata.org/pandas-docs/stable/user_guide/indexing.html#returning-a-view-versus-a-copy\n",
      "  y_var_gene_set[\"y_composite_score\"]= y_var_gene_set.mean(axis = 1)\n"
     ]
    },
    {
     "name": "stdout",
     "output_type": "stream",
     "text": [
      "BRCA\n",
      "[]\n",
      "[]\n"
     ]
    },
    {
     "name": "stderr",
     "output_type": "stream",
     "text": [
      "/Users/shanghongsim/Documents/GitHub/HU-ATRi-Code-Repository/analysis.py:76: SettingWithCopyWarning: \n",
      "A value is trying to be set on a copy of a slice from a DataFrame.\n",
      "Try using .loc[row_indexer,col_indexer] = value instead\n",
      "\n",
      "See the caveats in the documentation: https://pandas.pydata.org/pandas-docs/stable/user_guide/indexing.html#returning-a-view-versus-a-copy\n",
      "  x_var_gene_set[\"x_composite_score\"] = x_var_gene_set.mean(axis = 1)\n",
      "/Users/shanghongsim/Documents/GitHub/HU-ATRi-Code-Repository/analysis.py:85: SettingWithCopyWarning: \n",
      "A value is trying to be set on a copy of a slice from a DataFrame.\n",
      "Try using .loc[row_indexer,col_indexer] = value instead\n",
      "\n",
      "See the caveats in the documentation: https://pandas.pydata.org/pandas-docs/stable/user_guide/indexing.html#returning-a-view-versus-a-copy\n",
      "  y_var_gene_set[\"y_composite_score\"]= y_var_gene_set.mean(axis = 1)\n"
     ]
    },
    {
     "name": "stdout",
     "output_type": "stream",
     "text": [
      "OV\n",
      "[]\n",
      "[]\n"
     ]
    },
    {
     "name": "stderr",
     "output_type": "stream",
     "text": [
      "/Users/shanghongsim/Documents/GitHub/HU-ATRi-Code-Repository/analysis.py:76: SettingWithCopyWarning: \n",
      "A value is trying to be set on a copy of a slice from a DataFrame.\n",
      "Try using .loc[row_indexer,col_indexer] = value instead\n",
      "\n",
      "See the caveats in the documentation: https://pandas.pydata.org/pandas-docs/stable/user_guide/indexing.html#returning-a-view-versus-a-copy\n",
      "  x_var_gene_set[\"x_composite_score\"] = x_var_gene_set.mean(axis = 1)\n",
      "/Users/shanghongsim/Documents/GitHub/HU-ATRi-Code-Repository/analysis.py:85: SettingWithCopyWarning: \n",
      "A value is trying to be set on a copy of a slice from a DataFrame.\n",
      "Try using .loc[row_indexer,col_indexer] = value instead\n",
      "\n",
      "See the caveats in the documentation: https://pandas.pydata.org/pandas-docs/stable/user_guide/indexing.html#returning-a-view-versus-a-copy\n",
      "  y_var_gene_set[\"y_composite_score\"]= y_var_gene_set.mean(axis = 1)\n"
     ]
    },
    {
     "name": "stdout",
     "output_type": "stream",
     "text": [
      "UCS\n",
      "[]\n",
      "[]\n"
     ]
    },
    {
     "name": "stderr",
     "output_type": "stream",
     "text": [
      "/Users/shanghongsim/Documents/GitHub/HU-ATRi-Code-Repository/analysis.py:76: SettingWithCopyWarning: \n",
      "A value is trying to be set on a copy of a slice from a DataFrame.\n",
      "Try using .loc[row_indexer,col_indexer] = value instead\n",
      "\n",
      "See the caveats in the documentation: https://pandas.pydata.org/pandas-docs/stable/user_guide/indexing.html#returning-a-view-versus-a-copy\n",
      "  x_var_gene_set[\"x_composite_score\"] = x_var_gene_set.mean(axis = 1)\n",
      "/Users/shanghongsim/Documents/GitHub/HU-ATRi-Code-Repository/analysis.py:85: SettingWithCopyWarning: \n",
      "A value is trying to be set on a copy of a slice from a DataFrame.\n",
      "Try using .loc[row_indexer,col_indexer] = value instead\n",
      "\n",
      "See the caveats in the documentation: https://pandas.pydata.org/pandas-docs/stable/user_guide/indexing.html#returning-a-view-versus-a-copy\n",
      "  y_var_gene_set[\"y_composite_score\"]= y_var_gene_set.mean(axis = 1)\n"
     ]
    },
    {
     "name": "stdout",
     "output_type": "stream",
     "text": [
      "GBM\n",
      "[]\n",
      "[]\n"
     ]
    },
    {
     "name": "stderr",
     "output_type": "stream",
     "text": [
      "/Users/shanghongsim/Documents/GitHub/HU-ATRi-Code-Repository/analysis.py:76: SettingWithCopyWarning: \n",
      "A value is trying to be set on a copy of a slice from a DataFrame.\n",
      "Try using .loc[row_indexer,col_indexer] = value instead\n",
      "\n",
      "See the caveats in the documentation: https://pandas.pydata.org/pandas-docs/stable/user_guide/indexing.html#returning-a-view-versus-a-copy\n",
      "  x_var_gene_set[\"x_composite_score\"] = x_var_gene_set.mean(axis = 1)\n",
      "/Users/shanghongsim/Documents/GitHub/HU-ATRi-Code-Repository/analysis.py:85: SettingWithCopyWarning: \n",
      "A value is trying to be set on a copy of a slice from a DataFrame.\n",
      "Try using .loc[row_indexer,col_indexer] = value instead\n",
      "\n",
      "See the caveats in the documentation: https://pandas.pydata.org/pandas-docs/stable/user_guide/indexing.html#returning-a-view-versus-a-copy\n",
      "  y_var_gene_set[\"y_composite_score\"]= y_var_gene_set.mean(axis = 1)\n"
     ]
    },
    {
     "name": "stdout",
     "output_type": "stream",
     "text": [
      "KICH\n",
      "[]\n",
      "[]\n"
     ]
    },
    {
     "name": "stderr",
     "output_type": "stream",
     "text": [
      "/Users/shanghongsim/Documents/GitHub/HU-ATRi-Code-Repository/analysis.py:76: SettingWithCopyWarning: \n",
      "A value is trying to be set on a copy of a slice from a DataFrame.\n",
      "Try using .loc[row_indexer,col_indexer] = value instead\n",
      "\n",
      "See the caveats in the documentation: https://pandas.pydata.org/pandas-docs/stable/user_guide/indexing.html#returning-a-view-versus-a-copy\n",
      "  x_var_gene_set[\"x_composite_score\"] = x_var_gene_set.mean(axis = 1)\n",
      "/Users/shanghongsim/Documents/GitHub/HU-ATRi-Code-Repository/analysis.py:85: SettingWithCopyWarning: \n",
      "A value is trying to be set on a copy of a slice from a DataFrame.\n",
      "Try using .loc[row_indexer,col_indexer] = value instead\n",
      "\n",
      "See the caveats in the documentation: https://pandas.pydata.org/pandas-docs/stable/user_guide/indexing.html#returning-a-view-versus-a-copy\n",
      "  y_var_gene_set[\"y_composite_score\"]= y_var_gene_set.mean(axis = 1)\n"
     ]
    },
    {
     "name": "stdout",
     "output_type": "stream",
     "text": [
      "THCA\n",
      "[]\n",
      "[]\n"
     ]
    },
    {
     "name": "stderr",
     "output_type": "stream",
     "text": [
      "/Users/shanghongsim/Documents/GitHub/HU-ATRi-Code-Repository/analysis.py:76: SettingWithCopyWarning: \n",
      "A value is trying to be set on a copy of a slice from a DataFrame.\n",
      "Try using .loc[row_indexer,col_indexer] = value instead\n",
      "\n",
      "See the caveats in the documentation: https://pandas.pydata.org/pandas-docs/stable/user_guide/indexing.html#returning-a-view-versus-a-copy\n",
      "  x_var_gene_set[\"x_composite_score\"] = x_var_gene_set.mean(axis = 1)\n",
      "/Users/shanghongsim/Documents/GitHub/HU-ATRi-Code-Repository/analysis.py:85: SettingWithCopyWarning: \n",
      "A value is trying to be set on a copy of a slice from a DataFrame.\n",
      "Try using .loc[row_indexer,col_indexer] = value instead\n",
      "\n",
      "See the caveats in the documentation: https://pandas.pydata.org/pandas-docs/stable/user_guide/indexing.html#returning-a-view-versus-a-copy\n",
      "  y_var_gene_set[\"y_composite_score\"]= y_var_gene_set.mean(axis = 1)\n"
     ]
    },
    {
     "name": "stdout",
     "output_type": "stream",
     "text": [
      "LGG\n",
      "[]\n",
      "[]\n"
     ]
    },
    {
     "name": "stderr",
     "output_type": "stream",
     "text": [
      "/Users/shanghongsim/Documents/GitHub/HU-ATRi-Code-Repository/analysis.py:76: SettingWithCopyWarning: \n",
      "A value is trying to be set on a copy of a slice from a DataFrame.\n",
      "Try using .loc[row_indexer,col_indexer] = value instead\n",
      "\n",
      "See the caveats in the documentation: https://pandas.pydata.org/pandas-docs/stable/user_guide/indexing.html#returning-a-view-versus-a-copy\n",
      "  x_var_gene_set[\"x_composite_score\"] = x_var_gene_set.mean(axis = 1)\n",
      "/Users/shanghongsim/Documents/GitHub/HU-ATRi-Code-Repository/analysis.py:85: SettingWithCopyWarning: \n",
      "A value is trying to be set on a copy of a slice from a DataFrame.\n",
      "Try using .loc[row_indexer,col_indexer] = value instead\n",
      "\n",
      "See the caveats in the documentation: https://pandas.pydata.org/pandas-docs/stable/user_guide/indexing.html#returning-a-view-versus-a-copy\n",
      "  y_var_gene_set[\"y_composite_score\"]= y_var_gene_set.mean(axis = 1)\n"
     ]
    },
    {
     "name": "stdout",
     "output_type": "stream",
     "text": [
      "LUAD\n",
      "[]\n",
      "[]\n"
     ]
    },
    {
     "name": "stderr",
     "output_type": "stream",
     "text": [
      "/Users/shanghongsim/Documents/GitHub/HU-ATRi-Code-Repository/analysis.py:76: SettingWithCopyWarning: \n",
      "A value is trying to be set on a copy of a slice from a DataFrame.\n",
      "Try using .loc[row_indexer,col_indexer] = value instead\n",
      "\n",
      "See the caveats in the documentation: https://pandas.pydata.org/pandas-docs/stable/user_guide/indexing.html#returning-a-view-versus-a-copy\n",
      "  x_var_gene_set[\"x_composite_score\"] = x_var_gene_set.mean(axis = 1)\n",
      "/Users/shanghongsim/Documents/GitHub/HU-ATRi-Code-Repository/analysis.py:85: SettingWithCopyWarning: \n",
      "A value is trying to be set on a copy of a slice from a DataFrame.\n",
      "Try using .loc[row_indexer,col_indexer] = value instead\n",
      "\n",
      "See the caveats in the documentation: https://pandas.pydata.org/pandas-docs/stable/user_guide/indexing.html#returning-a-view-versus-a-copy\n",
      "  y_var_gene_set[\"y_composite_score\"]= y_var_gene_set.mean(axis = 1)\n"
     ]
    },
    {
     "name": "stdout",
     "output_type": "stream",
     "text": [
      "MESO\n",
      "[]\n",
      "[]\n"
     ]
    },
    {
     "name": "stderr",
     "output_type": "stream",
     "text": [
      "/Users/shanghongsim/Documents/GitHub/HU-ATRi-Code-Repository/analysis.py:76: SettingWithCopyWarning: \n",
      "A value is trying to be set on a copy of a slice from a DataFrame.\n",
      "Try using .loc[row_indexer,col_indexer] = value instead\n",
      "\n",
      "See the caveats in the documentation: https://pandas.pydata.org/pandas-docs/stable/user_guide/indexing.html#returning-a-view-versus-a-copy\n",
      "  x_var_gene_set[\"x_composite_score\"] = x_var_gene_set.mean(axis = 1)\n",
      "/Users/shanghongsim/Documents/GitHub/HU-ATRi-Code-Repository/analysis.py:85: SettingWithCopyWarning: \n",
      "A value is trying to be set on a copy of a slice from a DataFrame.\n",
      "Try using .loc[row_indexer,col_indexer] = value instead\n",
      "\n",
      "See the caveats in the documentation: https://pandas.pydata.org/pandas-docs/stable/user_guide/indexing.html#returning-a-view-versus-a-copy\n",
      "  y_var_gene_set[\"y_composite_score\"]= y_var_gene_set.mean(axis = 1)\n"
     ]
    },
    {
     "name": "stdout",
     "output_type": "stream",
     "text": [
      "PCPG\n",
      "[]\n",
      "[]\n"
     ]
    },
    {
     "name": "stderr",
     "output_type": "stream",
     "text": [
      "/Users/shanghongsim/Documents/GitHub/HU-ATRi-Code-Repository/analysis.py:76: SettingWithCopyWarning: \n",
      "A value is trying to be set on a copy of a slice from a DataFrame.\n",
      "Try using .loc[row_indexer,col_indexer] = value instead\n",
      "\n",
      "See the caveats in the documentation: https://pandas.pydata.org/pandas-docs/stable/user_guide/indexing.html#returning-a-view-versus-a-copy\n",
      "  x_var_gene_set[\"x_composite_score\"] = x_var_gene_set.mean(axis = 1)\n",
      "/Users/shanghongsim/Documents/GitHub/HU-ATRi-Code-Repository/analysis.py:85: SettingWithCopyWarning: \n",
      "A value is trying to be set on a copy of a slice from a DataFrame.\n",
      "Try using .loc[row_indexer,col_indexer] = value instead\n",
      "\n",
      "See the caveats in the documentation: https://pandas.pydata.org/pandas-docs/stable/user_guide/indexing.html#returning-a-view-versus-a-copy\n",
      "  y_var_gene_set[\"y_composite_score\"]= y_var_gene_set.mean(axis = 1)\n"
     ]
    },
    {
     "name": "stdout",
     "output_type": "stream",
     "text": [
      "TGCT\n",
      "[]\n",
      "[]\n"
     ]
    },
    {
     "name": "stderr",
     "output_type": "stream",
     "text": [
      "/Users/shanghongsim/Documents/GitHub/HU-ATRi-Code-Repository/analysis.py:76: SettingWithCopyWarning: \n",
      "A value is trying to be set on a copy of a slice from a DataFrame.\n",
      "Try using .loc[row_indexer,col_indexer] = value instead\n",
      "\n",
      "See the caveats in the documentation: https://pandas.pydata.org/pandas-docs/stable/user_guide/indexing.html#returning-a-view-versus-a-copy\n",
      "  x_var_gene_set[\"x_composite_score\"] = x_var_gene_set.mean(axis = 1)\n",
      "/Users/shanghongsim/Documents/GitHub/HU-ATRi-Code-Repository/analysis.py:85: SettingWithCopyWarning: \n",
      "A value is trying to be set on a copy of a slice from a DataFrame.\n",
      "Try using .loc[row_indexer,col_indexer] = value instead\n",
      "\n",
      "See the caveats in the documentation: https://pandas.pydata.org/pandas-docs/stable/user_guide/indexing.html#returning-a-view-versus-a-copy\n",
      "  y_var_gene_set[\"y_composite_score\"]= y_var_gene_set.mean(axis = 1)\n"
     ]
    },
    {
     "name": "stdout",
     "output_type": "stream",
     "text": [
      "UVM\n",
      "[]\n",
      "[]\n"
     ]
    },
    {
     "name": "stderr",
     "output_type": "stream",
     "text": [
      "/Users/shanghongsim/Documents/GitHub/HU-ATRi-Code-Repository/analysis.py:76: SettingWithCopyWarning: \n",
      "A value is trying to be set on a copy of a slice from a DataFrame.\n",
      "Try using .loc[row_indexer,col_indexer] = value instead\n",
      "\n",
      "See the caveats in the documentation: https://pandas.pydata.org/pandas-docs/stable/user_guide/indexing.html#returning-a-view-versus-a-copy\n",
      "  x_var_gene_set[\"x_composite_score\"] = x_var_gene_set.mean(axis = 1)\n",
      "/Users/shanghongsim/Documents/GitHub/HU-ATRi-Code-Repository/analysis.py:85: SettingWithCopyWarning: \n",
      "A value is trying to be set on a copy of a slice from a DataFrame.\n",
      "Try using .loc[row_indexer,col_indexer] = value instead\n",
      "\n",
      "See the caveats in the documentation: https://pandas.pydata.org/pandas-docs/stable/user_guide/indexing.html#returning-a-view-versus-a-copy\n",
      "  y_var_gene_set[\"y_composite_score\"]= y_var_gene_set.mean(axis = 1)\n"
     ]
    },
    {
     "name": "stdout",
     "output_type": "stream",
     "text": [
      "THYM\n",
      "[]\n",
      "[]\n"
     ]
    },
    {
     "name": "stderr",
     "output_type": "stream",
     "text": [
      "/Users/shanghongsim/Documents/GitHub/HU-ATRi-Code-Repository/analysis.py:76: SettingWithCopyWarning: \n",
      "A value is trying to be set on a copy of a slice from a DataFrame.\n",
      "Try using .loc[row_indexer,col_indexer] = value instead\n",
      "\n",
      "See the caveats in the documentation: https://pandas.pydata.org/pandas-docs/stable/user_guide/indexing.html#returning-a-view-versus-a-copy\n",
      "  x_var_gene_set[\"x_composite_score\"] = x_var_gene_set.mean(axis = 1)\n",
      "/Users/shanghongsim/Documents/GitHub/HU-ATRi-Code-Repository/analysis.py:85: SettingWithCopyWarning: \n",
      "A value is trying to be set on a copy of a slice from a DataFrame.\n",
      "Try using .loc[row_indexer,col_indexer] = value instead\n",
      "\n",
      "See the caveats in the documentation: https://pandas.pydata.org/pandas-docs/stable/user_guide/indexing.html#returning-a-view-versus-a-copy\n",
      "  y_var_gene_set[\"y_composite_score\"]= y_var_gene_set.mean(axis = 1)\n"
     ]
    },
    {
     "name": "stdout",
     "output_type": "stream",
     "text": [
      "CHOL\n",
      "[]\n",
      "[]\n"
     ]
    },
    {
     "name": "stderr",
     "output_type": "stream",
     "text": [
      "/Users/shanghongsim/Documents/GitHub/HU-ATRi-Code-Repository/analysis.py:76: SettingWithCopyWarning: \n",
      "A value is trying to be set on a copy of a slice from a DataFrame.\n",
      "Try using .loc[row_indexer,col_indexer] = value instead\n",
      "\n",
      "See the caveats in the documentation: https://pandas.pydata.org/pandas-docs/stable/user_guide/indexing.html#returning-a-view-versus-a-copy\n",
      "  x_var_gene_set[\"x_composite_score\"] = x_var_gene_set.mean(axis = 1)\n",
      "/Users/shanghongsim/Documents/GitHub/HU-ATRi-Code-Repository/analysis.py:85: SettingWithCopyWarning: \n",
      "A value is trying to be set on a copy of a slice from a DataFrame.\n",
      "Try using .loc[row_indexer,col_indexer] = value instead\n",
      "\n",
      "See the caveats in the documentation: https://pandas.pydata.org/pandas-docs/stable/user_guide/indexing.html#returning-a-view-versus-a-copy\n",
      "  y_var_gene_set[\"y_composite_score\"]= y_var_gene_set.mean(axis = 1)\n"
     ]
    },
    {
     "name": "stdout",
     "output_type": "stream",
     "text": [
      "ESCA\n",
      "[]\n",
      "[]\n"
     ]
    },
    {
     "name": "stderr",
     "output_type": "stream",
     "text": [
      "/Users/shanghongsim/Documents/GitHub/HU-ATRi-Code-Repository/analysis.py:76: SettingWithCopyWarning: \n",
      "A value is trying to be set on a copy of a slice from a DataFrame.\n",
      "Try using .loc[row_indexer,col_indexer] = value instead\n",
      "\n",
      "See the caveats in the documentation: https://pandas.pydata.org/pandas-docs/stable/user_guide/indexing.html#returning-a-view-versus-a-copy\n",
      "  x_var_gene_set[\"x_composite_score\"] = x_var_gene_set.mean(axis = 1)\n",
      "/Users/shanghongsim/Documents/GitHub/HU-ATRi-Code-Repository/analysis.py:85: SettingWithCopyWarning: \n",
      "A value is trying to be set on a copy of a slice from a DataFrame.\n",
      "Try using .loc[row_indexer,col_indexer] = value instead\n",
      "\n",
      "See the caveats in the documentation: https://pandas.pydata.org/pandas-docs/stable/user_guide/indexing.html#returning-a-view-versus-a-copy\n",
      "  y_var_gene_set[\"y_composite_score\"]= y_var_gene_set.mean(axis = 1)\n"
     ]
    },
    {
     "name": "stdout",
     "output_type": "stream",
     "text": [
      "STAD\n",
      "[]\n",
      "[]\n"
     ]
    },
    {
     "name": "stderr",
     "output_type": "stream",
     "text": [
      "/Users/shanghongsim/Documents/GitHub/HU-ATRi-Code-Repository/analysis.py:76: SettingWithCopyWarning: \n",
      "A value is trying to be set on a copy of a slice from a DataFrame.\n",
      "Try using .loc[row_indexer,col_indexer] = value instead\n",
      "\n",
      "See the caveats in the documentation: https://pandas.pydata.org/pandas-docs/stable/user_guide/indexing.html#returning-a-view-versus-a-copy\n",
      "  x_var_gene_set[\"x_composite_score\"] = x_var_gene_set.mean(axis = 1)\n",
      "/Users/shanghongsim/Documents/GitHub/HU-ATRi-Code-Repository/analysis.py:85: SettingWithCopyWarning: \n",
      "A value is trying to be set on a copy of a slice from a DataFrame.\n",
      "Try using .loc[row_indexer,col_indexer] = value instead\n",
      "\n",
      "See the caveats in the documentation: https://pandas.pydata.org/pandas-docs/stable/user_guide/indexing.html#returning-a-view-versus-a-copy\n",
      "  y_var_gene_set[\"y_composite_score\"]= y_var_gene_set.mean(axis = 1)\n"
     ]
    },
    {
     "name": "stdout",
     "output_type": "stream",
     "text": [
      "LAML\n",
      "[]\n",
      "[]\n"
     ]
    },
    {
     "name": "stderr",
     "output_type": "stream",
     "text": [
      "/Users/shanghongsim/Documents/GitHub/HU-ATRi-Code-Repository/analysis.py:76: SettingWithCopyWarning: \n",
      "A value is trying to be set on a copy of a slice from a DataFrame.\n",
      "Try using .loc[row_indexer,col_indexer] = value instead\n",
      "\n",
      "See the caveats in the documentation: https://pandas.pydata.org/pandas-docs/stable/user_guide/indexing.html#returning-a-view-versus-a-copy\n",
      "  x_var_gene_set[\"x_composite_score\"] = x_var_gene_set.mean(axis = 1)\n",
      "/Users/shanghongsim/Documents/GitHub/HU-ATRi-Code-Repository/analysis.py:85: SettingWithCopyWarning: \n",
      "A value is trying to be set on a copy of a slice from a DataFrame.\n",
      "Try using .loc[row_indexer,col_indexer] = value instead\n",
      "\n",
      "See the caveats in the documentation: https://pandas.pydata.org/pandas-docs/stable/user_guide/indexing.html#returning-a-view-versus-a-copy\n",
      "  y_var_gene_set[\"y_composite_score\"]= y_var_gene_set.mean(axis = 1)\n"
     ]
    },
    {
     "name": "stdout",
     "output_type": "stream",
     "text": [
      "PANCAN\n",
      "[]\n",
      "[]\n"
     ]
    },
    {
     "name": "stderr",
     "output_type": "stream",
     "text": [
      "/Users/shanghongsim/Documents/GitHub/HU-ATRi-Code-Repository/analysis.py:76: SettingWithCopyWarning: \n",
      "A value is trying to be set on a copy of a slice from a DataFrame.\n",
      "Try using .loc[row_indexer,col_indexer] = value instead\n",
      "\n",
      "See the caveats in the documentation: https://pandas.pydata.org/pandas-docs/stable/user_guide/indexing.html#returning-a-view-versus-a-copy\n",
      "  x_var_gene_set[\"x_composite_score\"] = x_var_gene_set.mean(axis = 1)\n",
      "/Users/shanghongsim/Documents/GitHub/HU-ATRi-Code-Repository/analysis.py:85: SettingWithCopyWarning: \n",
      "A value is trying to be set on a copy of a slice from a DataFrame.\n",
      "Try using .loc[row_indexer,col_indexer] = value instead\n",
      "\n",
      "See the caveats in the documentation: https://pandas.pydata.org/pandas-docs/stable/user_guide/indexing.html#returning-a-view-versus-a-copy\n",
      "  y_var_gene_set[\"y_composite_score\"]= y_var_gene_set.mean(axis = 1)\n"
     ]
    },
    {
     "name": "stdout",
     "output_type": "stream",
     "text": [
      "done\n"
     ]
    }
   ],
   "source": [
    "# master script to screen cancers for NRF2 signature - p53 signature\n",
    "\n",
    "gene_set = pd.read_csv(\"./data/oxstress genes.csv\", index_col=None, header= 0)\n",
    "p53_set = gene_set['p53 new'].dropna().tolist()\n",
    "nrf2_set = gene_set['NRF2_GST_subset'].dropna().tolist()\n",
    "\n",
    "targets = list(set([\"G6PD\", \"RRM2B\"] +  p53_set + nrf2_set))\n",
    "\n",
    "databases = ['HCCDB-1', 'HCCDB-3', 'HCCDB-4',  'HCCDB-8', 'HCCDB-9', 'HCCDB-11', \n",
    "       'HCCDB-12', 'HCCDB-13', 'HCCDB-14', 'HCCDB-16', 'HCCDB-17', 'HCCDB-18',\n",
    "       'ACC', 'BLCA', 'DBLC', 'UCEC', 'SKCM', 'HNSC', 'PRAD', 'KIRP',\n",
    "       'PAAD', 'SARC', 'CESC', 'COAD', 'LUSC', 'READ', 'KIRC', 'LIHC',\n",
    "       'BRCA', 'OV', 'UCS', 'GBM', 'KICH', 'THCA', 'LGG', 'LUAD', 'MESO',\n",
    "       'PCPG', 'TGCT', 'UVM', 'THYM', 'CHOL', 'ESCA', 'STAD', 'LAML','PANCAN'] # , , 'PANCAN'\n",
    "\n",
    "# define subplot grid\n",
    "fig, axs = plt.subplots(6, 8, figsize=(60, 40), sharey=True)\n",
    "plt.subplots_adjust(hspace=0.6)\n",
    "title = 'NRF2 signature vs p53 signature (GSTA4, GSTP1, GSTA1)'\n",
    "fig.suptitle(title,fontsize = 25)\n",
    "\n",
    "rtemp = []\n",
    "ptemp = []\n",
    "\n",
    "for db, ax in zip(databases, axs.ravel()):\n",
    "    print(db)\n",
    "    df = get_data(data, hccdb, db)\n",
    "    data_new = process_data(df, targets, x_var_names = p53_set, y_var_names = nrf2_set, pheno_filtered=None, outlier_corrected = True)\n",
    "    r, p = analyse(data_new, fig, db, ax, title + ' screen.png', x_label = \"p53 signature\", y_label = \"NRF2 signature\")\n",
    "    rtemp.append(r)\n",
    "    ptemp.append(p)\n",
    "\n",
    "r_all.append(rtemp)\n",
    "p_all.append(ptemp)\n",
    "print(\"done\")\n"
   ]
  },
  {
   "cell_type": "code",
   "execution_count": null,
   "metadata": {},
   "outputs": [],
   "source": []
  }
 ],
 "metadata": {
  "kernelspec": {
   "display_name": "local-venv",
   "language": "python",
   "name": "local-venv"
  },
  "language_info": {
   "codemirror_mode": {
    "name": "ipython",
    "version": 3
   },
   "file_extension": ".py",
   "mimetype": "text/x-python",
   "name": "python",
   "nbconvert_exporter": "python",
   "pygments_lexer": "ipython3",
   "version": "3.8.5"
  },
  "orig_nbformat": 4
 },
 "nbformat": 4,
 "nbformat_minor": 2
}
