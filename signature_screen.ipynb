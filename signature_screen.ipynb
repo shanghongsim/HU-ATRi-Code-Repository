{
 "cells": [
  {
   "cell_type": "code",
   "execution_count": null,
   "metadata": {},
   "outputs": [],
   "source": [
    "import numpy as np # scientific computing\n",
    "import pandas as pd # data loading and processing\n",
    "import os # os operations\n",
    "import matplotlib.pyplot as plt # for generating figures\n",
    "import math\n",
    "import matplotlib.dates as mdates\n",
    "import seaborn as sns # for generating visualizations, better support with pandas than matplotlib\n",
    "from scipy import stats\n",
    "from sklearn.impute import SimpleImputer\n",
    "\n",
    "from analysis import *"
   ]
  },
  {
   "cell_type": "code",
   "execution_count": null,
   "metadata": {},
   "outputs": [],
   "source": [
    "data, hccdb = get_raw_data()"
   ]
  },
  {
   "cell_type": "code",
   "execution_count": null,
   "metadata": {},
   "outputs": [],
   "source": [
    "r_all =[]\n",
    "p_all = []"
   ]
  },
  {
   "cell_type": "code",
   "execution_count": null,
   "metadata": {},
   "outputs": [],
   "source": [
    "# load gene names\n",
    "signatures = ['HIF-1a_final', 'HSF1_final', 'NF-kB_final', 'TP53_final', 'NRF2_final','AOS_final', 'AP-1_final', 'FOXO_final', 'PGC1-a_final']\n",
    "\n",
    "# load database names\n",
    "databases = ['HNSC', 'SARC', 'LUSC', 'UCS', 'STAD', 'LAML', 'PRAD', 'PAAD', 'BRCA', 'DBLC', 'SKCM', 'OV', 'ESCA'] # , , 'PANCAN'\n",
    "\n",
    "genesets_all = pd.read_csv(\"./data/oxstress genes.csv\", index_col=None, header= 0)\n",
    "\n",
    "# main loop\n",
    "for s in signatures:\n",
    "    # define subplot grid\n",
    "    fig, axs = plt.subplots(3, 6, figsize=(60, 40))\n",
    "    plt.subplots_adjust(hspace=0.6, wspace = 0.4)\n",
    "    fig.suptitle('RRM2B vs ' + s,fontsize = 40)\n",
    "\n",
    "    rtemp = []\n",
    "    ptemp = []\n",
    "\n",
    "    gene_set = genesets_all[s].dropna().tolist()\n",
    "    targets = list(set([\"RRM2B\"] +  gene_set))\n",
    "    \n",
    "    for db, ax in zip(databases, axs.ravel()):\n",
    "        \n",
    "        # load data\n",
    "        df = get_data(data, hccdb=None, db=db)\n",
    "        \n",
    "        data_new = process_data(df = df, targets = targets, x_var_names = [\"RRM2B\"], y_var_names = gene_set, pheno_filtered=None, outlier_corrected = True)\n",
    "        r,p = analyse(data = data_new, fig = fig, db = db, ax = ax, fn = \"signature screen \" + s + '.png', x_label = \"RRM2B\", y_label = s, x_target = \"x_composite_score\", y_target = \"y_composite_score\")\n",
    "        rtemp.append(r)\n",
    "        ptemp.append(p)\n",
    "        # try:\n",
    "        #     data_new = process_data(df = df, targets = targets, x_var_names = [\"RRM2B\"], y_var_names = gene_set, pheno_filtered=None, outlier_corrected = True)\n",
    "        #     r,p = analyse(data = data_new, fig = fig, db = db, ax = ax, fn = \"signature screen \" + s + '.png', x_label = \"RRM2B\", y_label = s, x_target = \"x_composite_score\", y_target = \"y_composite_score\")\n",
    "        #     rtemp.append(r)\n",
    "        #     ptemp.append(p)\n",
    "\n",
    "        # except KeyError:\n",
    "        #     print(\"key error\")\n",
    "        #     continue\n",
    "\n",
    "    r_all.append(rtemp)\n",
    "    p_all.append(ptemp)\n",
    "    \n",
    "print(\"done\")\n",
    "\n",
    "df_r = pd.DataFrame(r_all, columns = signatures, index = databases)\n",
    "df_p = pd.DataFrame(p_all, columns = signatures, index = databases)\n",
    "df_r.to_csv(\"r values signature screen.csv\")\n",
    "df_p.to_csv(\"p values signature screen.csv\")\n"
   ]
  },
  {
   "cell_type": "code",
   "execution_count": null,
   "metadata": {},
   "outputs": [],
   "source": [
    "len(r_all[0])"
   ]
  },
  {
   "cell_type": "code",
   "execution_count": null,
   "metadata": {},
   "outputs": [],
   "source": [
    "len(signatures)\n",
    "len(databases)"
   ]
  },
  {
   "cell_type": "code",
   "execution_count": null,
   "metadata": {},
   "outputs": [],
   "source": [
    "df_r = pd.DataFrame(r_all, columns = databases, index = signatures).T\n",
    "df_p = pd.DataFrame(p_all, columns = databases, index = signatures).T\n",
    "df_r.to_csv(\"r values signature screen.csv\")\n",
    "df_p.to_csv(\"p values signature screen.csv\")"
   ]
  },
  {
   "cell_type": "code",
   "execution_count": null,
   "metadata": {},
   "outputs": [],
   "source": []
  }
 ],
 "metadata": {
  "kernelspec": {
   "display_name": "local-venv",
   "language": "python",
   "name": "local-venv"
  },
  "language_info": {
   "codemirror_mode": {
    "name": "ipython",
    "version": 3
   },
   "file_extension": ".py",
   "mimetype": "text/x-python",
   "name": "python",
   "nbconvert_exporter": "python",
   "pygments_lexer": "ipython3",
   "version": "3.8.5"
  },
  "orig_nbformat": 4
 },
 "nbformat": 4,
 "nbformat_minor": 2
}
